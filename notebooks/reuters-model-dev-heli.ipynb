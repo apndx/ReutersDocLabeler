{
 "cells": [
  {
   "cell_type": "markdown",
   "metadata": {},
   "source": [
    "###  Reuters corpus topic classification\n",
    "\n",
    "This project is about topic classification on the Reuters corpus. It is multi-label classification: there can be more than one topics associated with each document.\n",
    "\n",
    "#### Data\n",
    "\n",
    "Test data will be extracted from XML-documents, taking input from <headline></headline> and <text></text>, target classes from <codes class = 'bip:topics:1.0'><code code = \"topic_i\"></code></codes>\n",
    "\n",
    "input: 'document text string, each row a document'\n",
    "target: ['topic_1', '...', 'topic_n'] = [0, ...., 1, 0]\n",
    "\n",
    "\n",
    "I will first manually create a small test data to start model development"
   ]
  },
  {
   "cell_type": "code",
   "execution_count": null,
   "metadata": {},
   "outputs": [],
   "source": []
  }
 ],
 "metadata": {
  "kernelspec": {
   "display_name": "Python 3",
   "language": "python",
   "name": "python3"
  },
  "language_info": {
   "codemirror_mode": {
    "name": "ipython",
    "version": 3
   },
   "file_extension": ".py",
   "mimetype": "text/x-python",
   "name": "python",
   "nbconvert_exporter": "python",
   "pygments_lexer": "ipython3",
   "version": "3.7.6"
  }
 },
 "nbformat": 4,
 "nbformat_minor": 4
}
