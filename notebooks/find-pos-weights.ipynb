{
 "cells": [
  {
   "cell_type": "code",
   "execution_count": 1,
   "metadata": {},
   "outputs": [],
   "source": [
    "import pandas as pd\n",
    "import numpy as np"
   ]
  },
  {
   "cell_type": "code",
   "execution_count": 2,
   "metadata": {},
   "outputs": [],
   "source": [
    "large_data_strings = pd.read_csv('reuters-csv/inputs.csv', delimiter=';')\n",
    "large_data = large_data_strings.copy(deep=True)\n",
    "large_data['target'] = large_data['target'].apply(eval)\n",
    "large_data['codes'] = large_data['codes'].apply(eval)"
   ]
  },
  {
   "cell_type": "code",
   "execution_count": 3,
   "metadata": {
    "tags": []
   },
   "outputs": [],
   "source": [
    "df = pd.DataFrame(large_data['target'].tolist())"
   ]
  },
  {
   "cell_type": "code",
   "execution_count": 4,
   "metadata": {},
   "outputs": [
    {
     "name": "stdout",
     "output_type": "stream",
     "text": [
      "0       0.000000\n",
      "1       0.000000\n",
      "2       0.000000\n",
      "3       0.000000\n",
      "4       0.000000\n",
      "         ...    \n",
      "121    59.002602\n",
      "122    33.623816\n",
      "123     2.658445\n",
      "124     0.000000\n",
      "125     0.000000\n",
      "Name: pos_weight, Length: 126, dtype: float64\n"
     ]
    }
   ],
   "source": [
    "pos = df[df == 1].count(axis = 0)\n",
    "neg = df[df == 0].count(axis = 0)\n",
    "weights = neg/pos\n",
    "weights = weights.replace(np.inf, 0)\n",
    "weights = weights.rename('pos_weight')\n",
    "print(weights)"
   ]
  },
  {
   "cell_type": "code",
   "execution_count": 5,
   "metadata": {},
   "outputs": [],
   "source": [
    "weights.to_csv('reuters-csv/pos-weights.csv', index = False, sep = ';')"
   ]
  },
  {
   "cell_type": "code",
   "execution_count": null,
   "metadata": {},
   "outputs": [],
   "source": []
  }
 ],
 "metadata": {
  "kernelspec": {
   "display_name": "Python 3",
   "language": "python",
   "name": "python3"
  },
  "language_info": {
   "codemirror_mode": {
    "name": "ipython",
    "version": 3
   },
   "file_extension": ".py",
   "mimetype": "text/x-python",
   "name": "python",
   "nbconvert_exporter": "python",
   "pygments_lexer": "ipython3",
   "version": "3.7.6"
  }
 },
 "nbformat": 4,
 "nbformat_minor": 2
}
