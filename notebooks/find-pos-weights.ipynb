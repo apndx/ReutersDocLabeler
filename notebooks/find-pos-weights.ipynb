{
 "metadata": {
  "language_info": {
   "codemirror_mode": {
    "name": "ipython",
    "version": 3
   },
   "file_extension": ".py",
   "mimetype": "text/x-python",
   "name": "python",
   "nbconvert_exporter": "python",
   "pygments_lexer": "ipython3",
   "version": "3.7.6-final"
  },
  "orig_nbformat": 2,
  "kernelspec": {
   "name": "python376jvsc74a57bd0ea93898cf66e1bdbbeaab0904813202b6ade997cfd150168749c30579e466278",
   "display_name": "Python 3.7.6 64-bit ('base': conda)"
  }
 },
 "nbformat": 4,
 "nbformat_minor": 2,
 "cells": [
  {
   "cell_type": "code",
   "execution_count": 1,
   "metadata": {},
   "outputs": [],
   "source": [
    "import pandas as pd\n",
    "import numpy as np"
   ]
  },
  {
   "cell_type": "code",
   "execution_count": 2,
   "metadata": {},
   "outputs": [],
   "source": [
    "large_data_strings = pd.read_csv('reuters-csv/inputs.csv', delimiter=';')\n",
    "large_data = large_data_strings.copy(deep=True)\n",
    "large_data['target'] = large_data['target'].apply(eval)\n",
    "large_data['codes'] = large_data['codes'].apply(eval)"
   ]
  },
  {
   "cell_type": "code",
   "execution_count": 19,
   "metadata": {
    "tags": []
   },
   "outputs": [],
   "source": [
    "df = pd.DataFrame(large_data['target'].tolist())"
   ]
  },
  {
   "cell_type": "code",
   "execution_count": 35,
   "metadata": {},
   "outputs": [
    {
     "output_type": "stream",
     "name": "stdout",
     "text": [
      "0       0.000000\n1       0.000000\n2       0.000000\n3       0.000000\n4       0.000000\n         ...    \n121    59.002602\n122    33.623816\n123     2.658445\n124     0.000000\n125     0.000000\nName: pos_weight, Length: 126, dtype: float64\n"
     ]
    }
   ],
   "source": [
    "pos = df[df == 1].count(axis = 0)\n",
    "neg = df[df == 0].count(axis = 0)\n",
    "weights = neg/pos\n",
    "weights = weights.replace(np.inf, 0)\n",
    "weights = weights.rename('pos_weight')\n",
    "print(weights)"
   ]
  },
  {
   "cell_type": "code",
   "execution_count": 36,
   "metadata": {},
   "outputs": [],
   "source": [
    "weights.to_csv('reuters-csv/pos-weights.csv', index = False, sep = ';')"
   ]
  },
  {
   "cell_type": "code",
   "execution_count": null,
   "metadata": {},
   "outputs": [],
   "source": []
  }
 ]
}