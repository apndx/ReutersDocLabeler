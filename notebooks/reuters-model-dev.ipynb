{
 "cells": [
  {
   "cell_type": "markdown",
   "metadata": {},
   "source": [
    "###  Reuters corpus topic classification\n",
    "\n",
    "This project is about topic classification on the Reuters corpus. It is multi-label classification: there can be more than one topics associated with each document.\n",
    "\n",
    "#### Data\n",
    "\n",
    "Test data will be extracted from XML-documents, taking input from <headline></headline> and <text></text>, target classes from <codes class = 'bip:topics:1.0'><code code = \"topic_i\"></code></codes>\n",
    "\n",
    "input: 'document text string, each row a document'\n",
    "target: ['topic_1', '...', 'topic_n'] = [0, ...., 1, 0]\n",
    "\n",
    "\n",
    "There are 126 topics that are listed in the topic_codes.txt.\n"
   ]
  },
  {
   "cell_type": "code",
   "execution_count": 2,
   "metadata": {},
   "outputs": [],
   "source": [
    "import pandas as pd\n",
    "import numpy as np"
   ]
  },
  {
   "cell_type": "code",
   "execution_count": 174,
   "metadata": {},
   "outputs": [
    {
     "data": {
      "text/html": [
       "<div>\n",
       "<style scoped>\n",
       "    .dataframe tbody tr th:only-of-type {\n",
       "        vertical-align: middle;\n",
       "    }\n",
       "\n",
       "    .dataframe tbody tr th {\n",
       "        vertical-align: top;\n",
       "    }\n",
       "\n",
       "    .dataframe thead th {\n",
       "        text-align: right;\n",
       "    }\n",
       "</style>\n",
       "<table border=\"1\" class=\"dataframe\">\n",
       "  <thead>\n",
       "    <tr style=\"text-align: right;\">\n",
       "      <th></th>\n",
       "      <th>CODE</th>\n",
       "      <th>DESCRIPTION</th>\n",
       "    </tr>\n",
       "  </thead>\n",
       "  <tbody>\n",
       "    <tr>\n",
       "      <th>0</th>\n",
       "      <td>1POL</td>\n",
       "      <td>CURRENT NEWS - POLITICS</td>\n",
       "    </tr>\n",
       "    <tr>\n",
       "      <th>1</th>\n",
       "      <td>2ECO</td>\n",
       "      <td>CURRENT NEWS - ECONOMICS</td>\n",
       "    </tr>\n",
       "    <tr>\n",
       "      <th>2</th>\n",
       "      <td>3SPO</td>\n",
       "      <td>CURRENT NEWS - SPORT</td>\n",
       "    </tr>\n",
       "    <tr>\n",
       "      <th>3</th>\n",
       "      <td>4GEN</td>\n",
       "      <td>CURRENT NEWS - GENERAL</td>\n",
       "    </tr>\n",
       "    <tr>\n",
       "      <th>4</th>\n",
       "      <td>6INS</td>\n",
       "      <td>CURRENT NEWS - INSURANCE</td>\n",
       "    </tr>\n",
       "    <tr>\n",
       "      <th>...</th>\n",
       "      <td>...</td>\n",
       "      <td>...</td>\n",
       "    </tr>\n",
       "    <tr>\n",
       "      <th>121</th>\n",
       "      <td>M142</td>\n",
       "      <td>METALS TRADING</td>\n",
       "    </tr>\n",
       "    <tr>\n",
       "      <th>122</th>\n",
       "      <td>M143</td>\n",
       "      <td>ENERGY MARKETS</td>\n",
       "    </tr>\n",
       "    <tr>\n",
       "      <th>123</th>\n",
       "      <td>MCAT</td>\n",
       "      <td>MARKETS</td>\n",
       "    </tr>\n",
       "    <tr>\n",
       "      <th>124</th>\n",
       "      <td>MEUR</td>\n",
       "      <td>EURO CURRENCY</td>\n",
       "    </tr>\n",
       "    <tr>\n",
       "      <th>125</th>\n",
       "      <td>PRB13</td>\n",
       "      <td>CURRENT NEWS - PRESS RELEASE WIRES</td>\n",
       "    </tr>\n",
       "  </tbody>\n",
       "</table>\n",
       "<p>126 rows × 2 columns</p>\n",
       "</div>"
      ],
      "text/plain": [
       "      CODE                         DESCRIPTION\n",
       "0     1POL             CURRENT NEWS - POLITICS\n",
       "1     2ECO            CURRENT NEWS - ECONOMICS\n",
       "2     3SPO                CURRENT NEWS - SPORT\n",
       "3     4GEN              CURRENT NEWS - GENERAL\n",
       "4     6INS            CURRENT NEWS - INSURANCE\n",
       "..     ...                                 ...\n",
       "121   M142                      METALS TRADING\n",
       "122   M143                      ENERGY MARKETS\n",
       "123   MCAT                             MARKETS\n",
       "124   MEUR                       EURO CURRENCY\n",
       "125  PRB13  CURRENT NEWS - PRESS RELEASE WIRES\n",
       "\n",
       "[126 rows x 2 columns]"
      ]
     },
     "execution_count": 174,
     "metadata": {},
     "output_type": "execute_result"
    }
   ],
   "source": [
    "topics = pd.read_csv('mock-data/topic_codes.txt', delimiter='\\t')\n",
    "topics"
   ]
  },
  {
   "cell_type": "code",
   "execution_count": 15,
   "metadata": {},
   "outputs": [
    {
     "data": {
      "text/plain": [
       "0       1POL\n",
       "1       2ECO\n",
       "2       3SPO\n",
       "3       4GEN\n",
       "4       6INS\n",
       "       ...  \n",
       "121     M142\n",
       "122     M143\n",
       "123     MCAT\n",
       "124     MEUR\n",
       "125    PRB13\n",
       "Name: CODE, Length: 126, dtype: object"
      ]
     },
     "execution_count": 15,
     "metadata": {},
     "output_type": "execute_result"
    }
   ],
   "source": [
    "codes = topics['CODE']\n",
    "codes"
   ]
  },
  {
   "cell_type": "markdown",
   "metadata": {},
   "source": [
    "### Exploring code combination distribution\n",
    "\n",
    "Now there is the actual data in a csv file, let's do some analysis on it.\n",
    "\n",
    "Five of the code combinations are quite common, there are 20 000 -10 000 examples for them.\n",
    "\n",
    "Half of the combinations however have only one example.\n"
   ]
  },
  {
   "cell_type": "code",
   "execution_count": 3,
   "metadata": {},
   "outputs": [],
   "source": [
    "trunc_large_data_strings = pd.read_csv('reuters-csv/inputs_trunc.csv', delimiter=';')"
   ]
  },
  {
   "cell_type": "code",
   "execution_count": 140,
   "metadata": {},
   "outputs": [
    {
     "data": {
      "text/plain": [
       "<bound method NDFrame.describe of                                                      text  \\\n",
       "0       Official Journal contents - OJ C 169 of June 4...   \n",
       "1       Official Journal contents - OJ L 144 of June 4...   \n",
       "2       Suncor lowers Canada heavy oil price. COMPANY ...   \n",
       "3       Suncor cuts Canada light oil prices. COMPANY E...   \n",
       "4       Toronto stocks end softer, more consolidation ...   \n",
       "...                                                   ...   \n",
       "299768  Reuters French Advertising & Media Digest -Jul...   \n",
       "299769  Fleming issues buy recommendation on M6. Flemi...   \n",
       "299770  China to launch Internet service for science d...   \n",
       "299771  Reuters German Advertising & Media Digest -Jul...   \n",
       "299772  Singapore Internet gets boost from television ...   \n",
       "\n",
       "                                                   target  \\\n",
       "0       [0, 0, 0, 0, 0, 0, 0, 0, 0, 0, 0, 0, 0, 0, 0, ...   \n",
       "1       [0, 0, 0, 0, 0, 0, 0, 0, 0, 0, 0, 0, 0, 0, 0, ...   \n",
       "2       [0, 0, 0, 0, 0, 0, 0, 0, 0, 0, 0, 0, 0, 0, 0, ...   \n",
       "3       [0, 0, 0, 0, 0, 0, 0, 0, 0, 0, 0, 0, 0, 0, 0, ...   \n",
       "4       [0, 0, 0, 0, 0, 0, 0, 0, 0, 0, 0, 0, 0, 0, 0, ...   \n",
       "...                                                   ...   \n",
       "299768  [0, 0, 0, 0, 0, 0, 0, 0, 0, 0, 0, 0, 0, 0, 0, ...   \n",
       "299769  [0, 0, 0, 0, 0, 0, 0, 0, 0, 0, 0, 0, 0, 0, 0, ...   \n",
       "299770  [0, 0, 0, 0, 0, 0, 0, 0, 0, 0, 0, 0, 0, 0, 0, ...   \n",
       "299771  [0, 0, 0, 0, 0, 0, 0, 0, 0, 0, 0, 0, 0, 0, 0, ...   \n",
       "299772  [0, 0, 0, 0, 0, 0, 0, 0, 0, 0, 0, 0, 0, 0, 0, ...   \n",
       "\n",
       "                          codes  \n",
       "0               ['G15', 'GCAT']  \n",
       "1               ['G15', 'GCAT']  \n",
       "2       ['M14', 'M143', 'MCAT']  \n",
       "3       ['M14', 'M143', 'MCAT']  \n",
       "4               ['M11', 'MCAT']  \n",
       "...                         ...  \n",
       "299768          ['C32', 'CCAT']  \n",
       "299769                 ['C152']  \n",
       "299770         ['GCAT', 'GSCI']  \n",
       "299771          ['C32', 'CCAT']  \n",
       "299772          ['C22', 'CCAT']  \n",
       "\n",
       "[299773 rows x 3 columns]>"
      ]
     },
     "execution_count": 140,
     "metadata": {},
     "output_type": "execute_result"
    }
   ],
   "source": [
    "trunc_large_data_strings.describe"
   ]
  },
  {
   "cell_type": "code",
   "execution_count": 141,
   "metadata": {},
   "outputs": [
    {
     "data": {
      "text/plain": [
       "['C15', 'C151', 'CCAT']                                     22203\n",
       "['C15', 'C152', 'CCAT']                                     19751\n",
       "['M11', 'MCAT']                                             15791\n",
       "['M14', 'M141', 'MCAT']                                     14675\n",
       "['GCAT', 'GSPO']                                            12390\n",
       "                                                            ...  \n",
       "['C12', 'C13', 'CCAT', 'GCAT', 'GCRIM', 'GENV', 'GPOL']         1\n",
       "['C13', 'CCAT', 'E12', 'ECAT', 'GCAT', 'GODD']                  1\n",
       "['C13', 'C17', 'C171', 'C18', 'C183', 'C34', 'CCAT']            1\n",
       "['C15', 'C152', 'C31', 'CCAT', 'GCAT', 'GENT']                  1\n",
       "['E51', 'E512', 'ECAT', 'GCAT', 'GCRIM', 'GDEF', 'GPOL']        1\n",
       "Name: codes, Length: 8326, dtype: int64"
      ]
     },
     "execution_count": 141,
     "metadata": {},
     "output_type": "execute_result"
    }
   ],
   "source": [
    "code_freqs = trunc_large_data_strings['codes'].value_counts()\n",
    "code_freqs"
   ]
  },
  {
   "cell_type": "code",
   "execution_count": 146,
   "metadata": {},
   "outputs": [
    {
     "data": {
      "text/html": [
       "<div>\n",
       "<style scoped>\n",
       "    .dataframe tbody tr th:only-of-type {\n",
       "        vertical-align: middle;\n",
       "    }\n",
       "\n",
       "    .dataframe tbody tr th {\n",
       "        vertical-align: top;\n",
       "    }\n",
       "\n",
       "    .dataframe thead th {\n",
       "        text-align: right;\n",
       "    }\n",
       "</style>\n",
       "<table border=\"1\" class=\"dataframe\">\n",
       "  <thead>\n",
       "    <tr style=\"text-align: right;\">\n",
       "      <th></th>\n",
       "      <th>codes</th>\n",
       "    </tr>\n",
       "  </thead>\n",
       "  <tbody>\n",
       "    <tr>\n",
       "      <th>['C15', 'C151', 'CCAT']</th>\n",
       "      <td>22203</td>\n",
       "    </tr>\n",
       "    <tr>\n",
       "      <th>['C15', 'C152', 'CCAT']</th>\n",
       "      <td>19751</td>\n",
       "    </tr>\n",
       "    <tr>\n",
       "      <th>['M11', 'MCAT']</th>\n",
       "      <td>15791</td>\n",
       "    </tr>\n",
       "    <tr>\n",
       "      <th>['M14', 'M141', 'MCAT']</th>\n",
       "      <td>14675</td>\n",
       "    </tr>\n",
       "    <tr>\n",
       "      <th>['GCAT', 'GSPO']</th>\n",
       "      <td>12390</td>\n",
       "    </tr>\n",
       "    <tr>\n",
       "      <th>...</th>\n",
       "      <td>...</td>\n",
       "    </tr>\n",
       "    <tr>\n",
       "      <th>['C12', 'C13', 'CCAT', 'GCAT', 'GCRIM', 'GENV', 'GPOL']</th>\n",
       "      <td>1</td>\n",
       "    </tr>\n",
       "    <tr>\n",
       "      <th>['C13', 'CCAT', 'E12', 'ECAT', 'GCAT', 'GODD']</th>\n",
       "      <td>1</td>\n",
       "    </tr>\n",
       "    <tr>\n",
       "      <th>['C13', 'C17', 'C171', 'C18', 'C183', 'C34', 'CCAT']</th>\n",
       "      <td>1</td>\n",
       "    </tr>\n",
       "    <tr>\n",
       "      <th>['C15', 'C152', 'C31', 'CCAT', 'GCAT', 'GENT']</th>\n",
       "      <td>1</td>\n",
       "    </tr>\n",
       "    <tr>\n",
       "      <th>['E51', 'E512', 'ECAT', 'GCAT', 'GCRIM', 'GDEF', 'GPOL']</th>\n",
       "      <td>1</td>\n",
       "    </tr>\n",
       "  </tbody>\n",
       "</table>\n",
       "<p>8326 rows × 1 columns</p>\n",
       "</div>"
      ],
      "text/plain": [
       "                                                    codes\n",
       "['C15', 'C151', 'CCAT']                             22203\n",
       "['C15', 'C152', 'CCAT']                             19751\n",
       "['M11', 'MCAT']                                     15791\n",
       "['M14', 'M141', 'MCAT']                             14675\n",
       "['GCAT', 'GSPO']                                    12390\n",
       "...                                                   ...\n",
       "['C12', 'C13', 'CCAT', 'GCAT', 'GCRIM', 'GENV',...      1\n",
       "['C13', 'CCAT', 'E12', 'ECAT', 'GCAT', 'GODD']          1\n",
       "['C13', 'C17', 'C171', 'C18', 'C183', 'C34', 'C...      1\n",
       "['C15', 'C152', 'C31', 'CCAT', 'GCAT', 'GENT']          1\n",
       "['E51', 'E512', 'ECAT', 'GCAT', 'GCRIM', 'GDEF'...      1\n",
       "\n",
       "[8326 rows x 1 columns]"
      ]
     },
     "execution_count": 146,
     "metadata": {},
     "output_type": "execute_result"
    }
   ],
   "source": [
    "# these are more frecuent\n",
    "code_freq_df = code_freqs.to_frame()\n",
    "code_freq_df"
   ]
  },
  {
   "cell_type": "code",
   "execution_count": 147,
   "metadata": {},
   "outputs": [
    {
     "data": {
      "text/html": [
       "<div>\n",
       "<style scoped>\n",
       "    .dataframe tbody tr th:only-of-type {\n",
       "        vertical-align: middle;\n",
       "    }\n",
       "\n",
       "    .dataframe tbody tr th {\n",
       "        vertical-align: top;\n",
       "    }\n",
       "\n",
       "    .dataframe thead th {\n",
       "        text-align: right;\n",
       "    }\n",
       "</style>\n",
       "<table border=\"1\" class=\"dataframe\">\n",
       "  <thead>\n",
       "    <tr style=\"text-align: right;\">\n",
       "      <th></th>\n",
       "      <th>codes</th>\n",
       "    </tr>\n",
       "  </thead>\n",
       "  <tbody>\n",
       "    <tr>\n",
       "      <th>['C15', 'C151', 'CCAT']</th>\n",
       "      <td>22203</td>\n",
       "    </tr>\n",
       "    <tr>\n",
       "      <th>['C15', 'C152', 'CCAT']</th>\n",
       "      <td>19751</td>\n",
       "    </tr>\n",
       "    <tr>\n",
       "      <th>['M11', 'MCAT']</th>\n",
       "      <td>15791</td>\n",
       "    </tr>\n",
       "    <tr>\n",
       "      <th>['M14', 'M141', 'MCAT']</th>\n",
       "      <td>14675</td>\n",
       "    </tr>\n",
       "    <tr>\n",
       "      <th>['GCAT', 'GSPO']</th>\n",
       "      <td>12390</td>\n",
       "    </tr>\n",
       "  </tbody>\n",
       "</table>\n",
       "</div>"
      ],
      "text/plain": [
       "                         codes\n",
       "['C15', 'C151', 'CCAT']  22203\n",
       "['C15', 'C152', 'CCAT']  19751\n",
       "['M11', 'MCAT']          15791\n",
       "['M14', 'M141', 'MCAT']  14675\n",
       "['GCAT', 'GSPO']         12390"
      ]
     },
     "execution_count": 147,
     "metadata": {},
     "output_type": "execute_result"
    }
   ],
   "source": [
    "frequent_combos = code_freq_df[code_freq_df['codes']>10000]\n",
    "frequent_combos"
   ]
  },
  {
   "cell_type": "code",
   "execution_count": 148,
   "metadata": {},
   "outputs": [
    {
     "data": {
      "text/html": [
       "<div>\n",
       "<style scoped>\n",
       "    .dataframe tbody tr th:only-of-type {\n",
       "        vertical-align: middle;\n",
       "    }\n",
       "\n",
       "    .dataframe tbody tr th {\n",
       "        vertical-align: top;\n",
       "    }\n",
       "\n",
       "    .dataframe thead th {\n",
       "        text-align: right;\n",
       "    }\n",
       "</style>\n",
       "<table border=\"1\" class=\"dataframe\">\n",
       "  <thead>\n",
       "    <tr style=\"text-align: right;\">\n",
       "      <th></th>\n",
       "      <th>codes</th>\n",
       "    </tr>\n",
       "  </thead>\n",
       "  <tbody>\n",
       "    <tr>\n",
       "      <th>['C13', 'C17', 'C173', 'CCAT']</th>\n",
       "      <td>9</td>\n",
       "    </tr>\n",
       "    <tr>\n",
       "      <th>['M11', 'M13', 'M131', 'M132', 'MCAT']</th>\n",
       "      <td>9</td>\n",
       "    </tr>\n",
       "    <tr>\n",
       "      <th>['E41', 'ECAT', 'GCAT', 'GCRIM', 'GJOB', 'GPOL']</th>\n",
       "      <td>9</td>\n",
       "    </tr>\n",
       "    <tr>\n",
       "      <th>['GCAT', 'GFAS', 'GOBIT', 'GPRO']</th>\n",
       "      <td>9</td>\n",
       "    </tr>\n",
       "    <tr>\n",
       "      <th>['C11', 'C18', 'C181', 'C182', 'CCAT']</th>\n",
       "      <td>9</td>\n",
       "    </tr>\n",
       "    <tr>\n",
       "      <th>...</th>\n",
       "      <td>...</td>\n",
       "    </tr>\n",
       "    <tr>\n",
       "      <th>['C12', 'C13', 'CCAT', 'GCAT', 'GCRIM', 'GENV', 'GPOL']</th>\n",
       "      <td>1</td>\n",
       "    </tr>\n",
       "    <tr>\n",
       "      <th>['C13', 'CCAT', 'E12', 'ECAT', 'GCAT', 'GODD']</th>\n",
       "      <td>1</td>\n",
       "    </tr>\n",
       "    <tr>\n",
       "      <th>['C13', 'C17', 'C171', 'C18', 'C183', 'C34', 'CCAT']</th>\n",
       "      <td>1</td>\n",
       "    </tr>\n",
       "    <tr>\n",
       "      <th>['C15', 'C152', 'C31', 'CCAT', 'GCAT', 'GENT']</th>\n",
       "      <td>1</td>\n",
       "    </tr>\n",
       "    <tr>\n",
       "      <th>['E51', 'E512', 'ECAT', 'GCAT', 'GCRIM', 'GDEF', 'GPOL']</th>\n",
       "      <td>1</td>\n",
       "    </tr>\n",
       "  </tbody>\n",
       "</table>\n",
       "<p>7279 rows × 1 columns</p>\n",
       "</div>"
      ],
      "text/plain": [
       "                                                    codes\n",
       "['C13', 'C17', 'C173', 'CCAT']                          9\n",
       "['M11', 'M13', 'M131', 'M132', 'MCAT']                  9\n",
       "['E41', 'ECAT', 'GCAT', 'GCRIM', 'GJOB', 'GPOL']        9\n",
       "['GCAT', 'GFAS', 'GOBIT', 'GPRO']                       9\n",
       "['C11', 'C18', 'C181', 'C182', 'CCAT']                  9\n",
       "...                                                   ...\n",
       "['C12', 'C13', 'CCAT', 'GCAT', 'GCRIM', 'GENV',...      1\n",
       "['C13', 'CCAT', 'E12', 'ECAT', 'GCAT', 'GODD']          1\n",
       "['C13', 'C17', 'C171', 'C18', 'C183', 'C34', 'C...      1\n",
       "['C15', 'C152', 'C31', 'CCAT', 'GCAT', 'GENT']          1\n",
       "['E51', 'E512', 'ECAT', 'GCAT', 'GCRIM', 'GDEF'...      1\n",
       "\n",
       "[7279 rows x 1 columns]"
      ]
     },
     "execution_count": 148,
     "metadata": {},
     "output_type": "execute_result"
    }
   ],
   "source": [
    "rare_combos = code_freq_df[code_freq_df['codes']<10]\n",
    "rare_combos"
   ]
  },
  {
   "cell_type": "code",
   "execution_count": 150,
   "metadata": {},
   "outputs": [
    {
     "data": {
      "text/html": [
       "<div>\n",
       "<style scoped>\n",
       "    .dataframe tbody tr th:only-of-type {\n",
       "        vertical-align: middle;\n",
       "    }\n",
       "\n",
       "    .dataframe tbody tr th {\n",
       "        vertical-align: top;\n",
       "    }\n",
       "\n",
       "    .dataframe thead th {\n",
       "        text-align: right;\n",
       "    }\n",
       "</style>\n",
       "<table border=\"1\" class=\"dataframe\">\n",
       "  <thead>\n",
       "    <tr style=\"text-align: right;\">\n",
       "      <th></th>\n",
       "      <th>codes</th>\n",
       "    </tr>\n",
       "  </thead>\n",
       "  <tbody>\n",
       "    <tr>\n",
       "      <th>['E12', 'GPOL', 'GVOTE', 'M132']</th>\n",
       "      <td>1</td>\n",
       "    </tr>\n",
       "    <tr>\n",
       "      <th>['C11', 'C15', 'C152', 'C17', 'C171', 'C41', 'C411', 'CCAT']</th>\n",
       "      <td>1</td>\n",
       "    </tr>\n",
       "    <tr>\n",
       "      <th>['C24', 'CCAT', 'GCAT', 'GDEF', 'GSCI']</th>\n",
       "      <td>1</td>\n",
       "    </tr>\n",
       "    <tr>\n",
       "      <th>['C13', 'C15', 'CCAT', 'G15', 'G152', 'GCAT']</th>\n",
       "      <td>1</td>\n",
       "    </tr>\n",
       "    <tr>\n",
       "      <th>['C11', 'C13', 'C18', 'C181', 'C34', 'CCAT', 'G15', 'G152', 'G157', 'GCAT']</th>\n",
       "      <td>1</td>\n",
       "    </tr>\n",
       "    <tr>\n",
       "      <th>...</th>\n",
       "      <td>...</td>\n",
       "    </tr>\n",
       "    <tr>\n",
       "      <th>['C12', 'C13', 'CCAT', 'GCAT', 'GCRIM', 'GENV', 'GPOL']</th>\n",
       "      <td>1</td>\n",
       "    </tr>\n",
       "    <tr>\n",
       "      <th>['C13', 'CCAT', 'E12', 'ECAT', 'GCAT', 'GODD']</th>\n",
       "      <td>1</td>\n",
       "    </tr>\n",
       "    <tr>\n",
       "      <th>['C13', 'C17', 'C171', 'C18', 'C183', 'C34', 'CCAT']</th>\n",
       "      <td>1</td>\n",
       "    </tr>\n",
       "    <tr>\n",
       "      <th>['C15', 'C152', 'C31', 'CCAT', 'GCAT', 'GENT']</th>\n",
       "      <td>1</td>\n",
       "    </tr>\n",
       "    <tr>\n",
       "      <th>['E51', 'E512', 'ECAT', 'GCAT', 'GCRIM', 'GDEF', 'GPOL']</th>\n",
       "      <td>1</td>\n",
       "    </tr>\n",
       "  </tbody>\n",
       "</table>\n",
       "<p>4596 rows × 1 columns</p>\n",
       "</div>"
      ],
      "text/plain": [
       "                                                    codes\n",
       "['E12', 'GPOL', 'GVOTE', 'M132']                        1\n",
       "['C11', 'C15', 'C152', 'C17', 'C171', 'C41', 'C...      1\n",
       "['C24', 'CCAT', 'GCAT', 'GDEF', 'GSCI']                 1\n",
       "['C13', 'C15', 'CCAT', 'G15', 'G152', 'GCAT']           1\n",
       "['C11', 'C13', 'C18', 'C181', 'C34', 'CCAT', 'G...      1\n",
       "...                                                   ...\n",
       "['C12', 'C13', 'CCAT', 'GCAT', 'GCRIM', 'GENV',...      1\n",
       "['C13', 'CCAT', 'E12', 'ECAT', 'GCAT', 'GODD']          1\n",
       "['C13', 'C17', 'C171', 'C18', 'C183', 'C34', 'C...      1\n",
       "['C15', 'C152', 'C31', 'CCAT', 'GCAT', 'GENT']          1\n",
       "['E51', 'E512', 'ECAT', 'GCAT', 'GCRIM', 'GDEF'...      1\n",
       "\n",
       "[4596 rows x 1 columns]"
      ]
     },
     "execution_count": 150,
     "metadata": {},
     "output_type": "execute_result"
    }
   ],
   "source": [
    "code_freq_df[code_freq_df['codes']==1]"
   ]
  },
  {
   "cell_type": "code",
   "execution_count": 135,
   "metadata": {},
   "outputs": [
    {
     "data": {
      "text/plain": [
       "<matplotlib.axes._subplots.AxesSubplot at 0x7f6fd063f210>"
      ]
     },
     "execution_count": 135,
     "metadata": {},
     "output_type": "execute_result"
    },
    {
     "data": {
      "image/png": "[encoded data removed]",
      "text/plain": [
       "<Figure size 1440x720 with 1 Axes>"
      ]
     },
     "metadata": {
      "needs_background": "light"
     },
     "output_type": "display_data"
    }
   ],
   "source": [
    "import matplotlib.pyplot as plt\n",
    "\n",
    "code_freqs.plot(figsize=(20,10), rot=90)"
   ]
  },
  {
   "cell_type": "code",
   "execution_count": 4,
   "metadata": {},
   "outputs": [],
   "source": [
    "#  because of the target and codes are stored as strings and not as list, I will convert them back to lists\n",
    "trunc_large_data = trunc_large_data_strings.copy(deep=True)\n",
    "trunc_large_data['target'] = trunc_large_data['target'].apply(eval)\n",
    "trunc_large_data['codes'] = trunc_large_data['codes'].apply(eval)"
   ]
  },
  {
   "cell_type": "code",
   "execution_count": 162,
   "metadata": {},
   "outputs": [
    {
     "data": {
      "text/plain": [
       "0               [G15, GCAT]\n",
       "1               [G15, GCAT]\n",
       "2         [M14, M143, MCAT]\n",
       "3         [M14, M143, MCAT]\n",
       "4               [M11, MCAT]\n",
       "                ...        \n",
       "299768          [C32, CCAT]\n",
       "299769               [C152]\n",
       "299770         [GCAT, GSCI]\n",
       "299771          [C32, CCAT]\n",
       "299772          [C22, CCAT]\n",
       "Name: codes, Length: 299773, dtype: object"
      ]
     },
     "execution_count": 162,
     "metadata": {},
     "output_type": "execute_result"
    }
   ],
   "source": [
    "trunc_large_data['codes']"
   ]
  },
  {
   "cell_type": "code",
   "execution_count": 15,
   "metadata": {},
   "outputs": [],
   "source": [
    "# function to explore the amounts of single codes, return a sorted dictionary\n",
    "\n",
    "def code_amount_check(data):\n",
    "    codes_amount_dict = {}\n",
    "    for index, code_list in data['codes'].iteritems():\n",
    "        for code in code_list:\n",
    "            if codes_amount_dict.get(code) == None:\n",
    "                codes_amount_dict[code] = 1\n",
    "            else: \n",
    "                codes_amount_dict[code] += 1\n",
    "                \n",
    "    sorted_code_amounts = dict(sorted(codes_amount_dict.items(), key=lambda item: item[1]))            \n",
    "    return sorted_code_amounts          "
   ]
  },
  {
   "cell_type": "code",
   "execution_count": 173,
   "metadata": {},
   "outputs": [
    {
     "data": {
      "text/plain": [
       "{'GMIL': 4,\n",
       " 'G159': 8,\n",
       " 'E312': 19,\n",
       " 'E313': 38,\n",
       " 'G156': 55,\n",
       " 'E142': 70,\n",
       " 'E61': 122,\n",
       " 'GFAS': 141,\n",
       " 'E141': 162,\n",
       " 'GTOUR': 187,\n",
       " 'GOBIT': 301,\n",
       " 'E132': 348,\n",
       " 'C313': 381,\n",
       " 'C331': 401,\n",
       " 'E143': 432,\n",
       " 'C16': 591,\n",
       " 'E311': 619,\n",
       " 'GWELF': 664,\n",
       " 'G152': 671,\n",
       " 'G155': 704,\n",
       " 'E121': 747,\n",
       " 'E411': 760,\n",
       " 'G153': 761,\n",
       " 'E14': 778,\n",
       " 'G157': 801,\n",
       " 'E31': 857,\n",
       " 'C32': 919,\n",
       " 'E511': 949,\n",
       " 'C23': 958,\n",
       " 'GODD': 975,\n",
       " 'GSCI': 989,\n",
       " 'GREL': 989,\n",
       " 'E513': 1019,\n",
       " 'C173': 1043,\n",
       " 'G151': 1101,\n",
       " 'GENT': 1310,\n",
       " 'C174': 1358,\n",
       " 'C311': 1423,\n",
       " 'G158': 1479,\n",
       " 'GPRO': 1560,\n",
       " 'C182': 1658,\n",
       " 'GWEA': 1675,\n",
       " 'C34': 1843,\n",
       " 'C22': 1890,\n",
       " 'E71': 1892,\n",
       " 'E131': 2011,\n",
       " 'GHEA': 2111,\n",
       " 'C312': 2153,\n",
       " 'E13': 2280,\n",
       " 'GENV': 2429,\n",
       " 'C183': 2708,\n",
       " 'C14': 2770,\n",
       " 'E11': 2971,\n",
       " 'G154': 3177,\n",
       " 'GDEF': 3245,\n",
       " 'GDIS': 3393,\n",
       " 'C411': 3682,\n",
       " 'C42': 3794,\n",
       " 'C41': 4089,\n",
       " 'GVOTE': 4222,\n",
       " 'E512': 4251,\n",
       " 'C172': 4254,\n",
       " 'C12': 4693,\n",
       " 'M142': 4996,\n",
       " 'C33': 5383,\n",
       " 'E41': 5693,\n",
       " 'GJOB': 5759,\n",
       " 'E211': 6244,\n",
       " 'C171': 6565,\n",
       " 'G15': 6731,\n",
       " 'E51': 7419,\n",
       " 'C11': 8350,\n",
       " 'C1511': 8429,\n",
       " 'C21': 8641,\n",
       " 'M143': 8658,\n",
       " 'E212': 9757,\n",
       " 'E12': 10253,\n",
       " 'GVIO': 10668,\n",
       " 'M131': 10930,\n",
       " 'M12': 11210,\n",
       " 'M132': 11298,\n",
       " 'C24': 11338,\n",
       " 'GCRIM': 11705,\n",
       " 'GSPO': 12592,\n",
       " 'GDIP': 13040,\n",
       " 'C13': 13216,\n",
       " 'C31': 13862,\n",
       " 'C17': 14398,\n",
       " 'C181': 15598,\n",
       " 'E21': 16055,\n",
       " 'C18': 18675,\n",
       " 'M141': 19124,\n",
       " 'M11': 19593,\n",
       " 'GPOL': 20042,\n",
       " 'M13': 21499,\n",
       " 'C152': 27095,\n",
       " 'M14': 33786,\n",
       " 'C151': 33963,\n",
       " 'ECAT': 42374,\n",
       " 'C15': 59207,\n",
       " 'MCAT': 81940,\n",
       " 'GCAT': 82580,\n",
       " 'CCAT': 137531}"
      ]
     },
     "execution_count": 173,
     "metadata": {},
     "output_type": "execute_result"
    }
   ],
   "source": [
    "large_trunc_codes_amount_dict = code_amount_check(trunc_large_data)\n",
    "large_trunc_codes_amount_dict"
   ]
  },
  {
   "cell_type": "code",
   "execution_count": 171,
   "metadata": {},
   "outputs": [
    {
     "data": {
      "image/png": "[encoded data removed]",
      "text/plain": [
       "<Figure size 1440x720 with 1 Axes>"
      ]
     },
     "metadata": {
      "needs_background": "light"
     },
     "output_type": "display_data"
    }
   ],
   "source": [
    "plt.barh(range(len(codes_amount_dict)), codes_amount_dict.values())\n",
    "plt.rcParams[\"figure.figsize\"] = (20,10)\n",
    "plt.show()"
   ]
  },
  {
   "cell_type": "markdown",
   "metadata": {},
   "source": [
    "### Trying out transformer and BERT\n",
    "\n",
    "Next I will be trying out things presented in a blog post: [Transformers for Multi-Label Classification made simple.](https://towardsdatascience.com/transformers-for-multilabel-classification-71a1a0daf5e1)\n",
    "\n",
    "I will also utilize some code from the home exercises of Deep Learning course."
   ]
  },
  {
   "cell_type": "code",
   "execution_count": 17,
   "metadata": {},
   "outputs": [
    {
     "name": "stderr",
     "output_type": "stream",
     "text": [
      "/home/hdheli/anaconda3/lib/python3.7/site-packages/torchaudio/backend/utils.py:54: UserWarning: \"sox\" backend is being deprecated. The default backend will be changed to \"sox_io\" backend in 0.8.0 and \"sox\" backend will be removed in 0.9.0. Please migrate to \"sox_io\" backend. Please refer to https://github.com/pytorch/audio/issues/903 for the detail.\n",
      "  '\"sox\" backend is being deprecated. '\n",
      "/home/hdheli/anaconda3/lib/python3.7/site-packages/torch/cuda/__init__.py:52: UserWarning: CUDA initialization: Found no NVIDIA driver on your system. Please check that you have an NVIDIA GPU and installed a driver from http://www.nvidia.com/Download/index.aspx (Triggered internally at  /pytorch/c10/cuda/CUDAFunctions.cpp:100.)\n",
      "  return torch._C._cuda_getDeviceCount() > 0\n"
     ]
    }
   ],
   "source": [
    "import torch\n",
    "import torch.nn as nn\n",
    "from transformers import *\n",
    "\n",
    "device = 'cuda' if torch.cuda.is_available() else 'cpu'"
   ]
  },
  {
   "cell_type": "code",
   "execution_count": 24,
   "metadata": {},
   "outputs": [],
   "source": [
    "# data to lists\n",
    "\n",
    "documents = list(trunc_large_data.text.values)\n",
    "labels = list(trunc_large_data.target.values)"
   ]
  },
  {
   "cell_type": "code",
   "execution_count": 25,
   "metadata": {},
   "outputs": [],
   "source": [
    "doc_max_length = 256 # using the truncated mini train set sequence length\n",
    "tokenizer = BertTokenizer.from_pretrained('bert-base-uncased', do_lower_case=True) \n",
    "\n",
    "# encodings\n",
    "\n",
    "encodings = tokenizer.batch_encode_plus(documents,max_length=doc_max_length,pad_to_max_length=True, truncation=True) # tokenizer's encoding method\n",
    "input_ids = encodings['input_ids'] # tokenized and encoded sentences\n",
    "token_type_ids = encodings['token_type_ids'] # token type ids\n",
    "attention_masks = encodings['attention_mask'] # attention masks"
   ]
  },
  {
   "cell_type": "code",
   "execution_count": 29,
   "metadata": {},
   "outputs": [
    {
     "name": "stdout",
     "output_type": "stream",
     "text": [
      "df label indices with only one instance:  [299717, 299532, 299397, 299374, 299343, 299294, 299273, 299259, 299248, 299131, 299128, 299095, 298953, 298663, 298641, 298602, 298327, 298321, 298314, 298312, 298301, 298294, 298280, 298271, 298252, 298241, 298151, 298088, 298084, 298073, 298069, 298018, 297944, 297752, 297677, 297673, 297458, 297422, 297374, 297355, 297263, 297237, 297142, 297102, 297099, 297019, 296887, 296879, 296836, 296825, 296783, 296667, 296493, 296483, 296291, 296183, 296031, 295950, 295943, 295875, 295861, 295819, 295813, 295804, 295712, 295710, 295648, 295597, 295591, 295351, 295191, 295114, 295035, 295028, 295016, 294995, 294990, 294967, 294960, 294921, 294809, 294755, 294701, 294697, 294661, 294580, 294548, 294537, 294458, 294367, 294337, 294317, 294149, 293902, 293836, 293602, 293580, 293354, 293341, 293290, 292921, 292857, 292681, 292662, 292650, 292543, 292483, 292448, 292445, 292243, 292196, 292181, 292154, 292113, 292082, 292075, 291905, 291774, 291666, 291664, 291659, 291489, 291467, 291446, 291318, 291303, 291223, 291205, 291128, 291121, 290949, 290862, 290794, 290199, 290192, 290187, 290145, 290136, 290118, 290099, 290086, 290081, 290068, 289990, 289871, 289701, 289681, 289656, 289550, 289543, 289541, 289538, 289536, 289501, 289480, 289421, 289409, 289395, 289346, 289323, 289306, 289260, 289143, 289096, 289089, 289065, 289016, 288981, 288977, 288867, 288865, 288731, 288660, 288642, 288600, 288597, 288578, 288534, 288523, 288450, 288345, 288342, 288293, 288226, 288001, 287970, 287885, 287864, 287763, 287693, 287563, 287481, 287386, 287370, 287311, 287299, 287247, 287238, 287117, 286995, 286969, 286904, 286898, 286816, 286753, 286516, 286512, 286336, 286203, 286182, 286101, 286040, 285899, 285833, 285633, 285561, 285177, 284920, 284916, 284895, 284818, 284799, 284731, 284726, 284675, 284671, 284645, 284563, 284519, 284221, 283925, 283739, 283698, 283554, 283461, 283426, 283354, 283241, 283207, 283167, 283042, 283013, 282986, 282969, 282789, 282747, 282735, 282728, 282654, 282497, 282488, 282388, 282358, 282334, 282130, 282126, 282060, 282000, 281911, 281863, 281585, 281584, 281501, 281476, 281464, 281399, 281321, 281034, 281000, 280947, 280871, 280574, 280535, 280527, 280524, 280334, 280118, 280087, 280032, 279968, 279901, 279832, 279644, 279584, 279286, 279233, 279232, 279151, 279079, 279018, 278885, 278865, 278724, 278630, 278589, 278582, 278552, 278550, 278514, 278513, 278506, 278496, 278463, 278447, 278440, 278347, 278226, 278223, 278206, 278202, 278122, 278011, 277948, 277931, 277857, 277835, 277832, 277808, 277770, 277739, 277671, 277657, 277596, 277547, 277536, 277160, 277143, 277074, 276958, 276933, 276892, 276835, 276774, 276750, 276622, 276562, 276558, 276477, 276251, 276233, 276068, 275988, 275860, 275850, 275829, 275828, 275813, 275645, 275424, 275403, 275361, 275341, 275272, 275257, 274901, 274753, 274743, 274736, 274729, 274727, 274717, 274713, 274711, 274695, 274683, 274605, 274604, 274600, 274589, 274585, 274568, 274565, 274547, 274379, 274321, 274302, 274267, 274243, 274224, 274068, 274061, 274060, 274055, 274051, 273890, 273889, 273886, 273885, 273884, 273844, 273840, 273817, 273804, 273797, 273787, 273708, 273689, 273662, 273638, 273485, 273456, 273445, 273413, 273402, 273368, 273344, 273330, 273276, 273270, 273217, 273210, 273182, 273132, 272825, 272711, 272587, 272515, 272513, 272166, 272143, 272127, 272108, 272103, 272096, 272084, 272080, 272075, 272054, 271918, 271912, 271906, 271871, 271626, 271568, 271535, 271532, 271458, 271367, 271222, 271147, 271057, 271019, 270760, 270759, 270748, 270727, 270725, 270700, 270687, 270669, 270652, 270645, 270464, 270419, 270377, 270363, 270354, 270306, 270057, 270054, 270041, 270011, 270004, 269601, 269594, 269503, 269306, 269210, 269060, 269045, 269016, 269007, 269004, 268971, 268891, 268884, 268883, 268876, 268794, 268773, 268756, 268746, 268738, 268736, 268734, 268729, 268726, 268703, 268693, 268680, 268617, 268482, 268422, 268354, 268012, 268005, 267999, 267964, 267922, 267896, 267884, 267872, 267855, 267827, 267814, 267803, 267800, 267750, 267747, 267598, 267461, 267357, 267309, 267300, 267226, 267041, 266959, 266914, 266906, 266838, 266801, 266752, 266729, 266650, 266641, 266610, 266551, 266515, 266484, 266462, 266326, 266318, 266303, 266259, 266187, 266157, 266152, 266142, 266140, 266116, 266085, 266019, 265980, 265959, 265951, 265923, 265705, 265700, 265683, 265682, 265661, 265648, 265628, 265528, 265366, 265165, 265148, 265101, 265021, 264996, 264956, 264844, 264588, 264459, 264323, 264040, 264019, 264007, 263977, 263966, 263957, 263924, 263912, 263881, 263879, 263877, 263843, 263825, 263813, 263793, 263662, 263635, 263381, 263355, 263302, 263297, 263212, 263104, 263100, 263023, 263017, 262993, 262955, 262935, 262914, 262881, 262833, 262811, 262780, 262776, 262512, 262502, 262487, 262438, 262374, 262357, 262254, 262230, 262106, 262101, 262100, 262070, 262045, 261983, 261936, 261927, 261881, 261798, 261781, 261774, 261728, 261706, 261698, 261655, 261626, 261466, 261449, 261399, 261299, 261297, 261203, 261168, 261128, 261046, 260851, 260849, 260449, 260436, 260431, 260218, 260206, 260178, 260139, 260131, 260130, 260046, 259981, 259886, 259819, 259621, 259372, 259321, 259280, 259258, 259234, 259159, 259152, 259100, 258955, 258953, 258922, 258634, 257412, 257274, 257251, 257246, 257235, 257158, 256828, 256808, 256759, 256478, 256457, 256392, 256391, 256282, 256231, 256039, 255978, 255967, 255911, 255854, 255827, 255719, 255714, 255695, 255663, 255627, 255545, 255541, 255534, 255494, 255488, 255477, 255466, 255270, 255066, 254996, 254928, 254821, 254446, 254157, 253972, 253921, 253879, 253771, 253768, 253586, 253452, 253439, 253389, 253355, 253136, 253107, 253008, 253005, 252996, 252983, 252981, 252980, 252974, 252874, 252679, 252631, 252628, 252615, 252564, 252517, 252469, 252439, 252368, 252292, 252280, 252240, 252154, 252153, 252061, 252060, 252016, 252012, 251955, 251884, 251879, 251780, 251746, 251692, 251619, 251612, 251608, 251607, 251422, 251327, 251175, 251146, 251131, 251045, 251007, 250970, 250969, 250776, 250737, 250706, 250667, 250601, 250507, 250497, 250495, 250493, 250489, 250457, 250421, 250399, 250397, 250396, 250374, 250344, 250273, 250181, 250081, 250047, 250031, 249893, 249892, 249771, 249727, 249701, 249688, 249681, 249662, 249661, 249565, 249564, 249158, 248963, 248952, 248888, 248887, 248803, 248786, 248768, 248703, 248595, 248582, 248489, 248147, 247976, 247966, 247951, 247909, 247908, 247847, 247836, 247761, 247727, 247598, 247524, 247478, 246892, 246827, 246748, 246742, 246616, 246611, 246610, 246608, 246600, 246590, 246560, 246534, 246504, 246491, 246419, 245955, 245949, 245669, 245640, 245592, 245562, 245294, 245285, 245244, 245206, 245196, 245160, 245098, 244994, 244898, 244819, 244761, 244725, 244595, 244175, 244168, 244044, 244020, 243951, 243944, 243903, 243733, 243720, 243664, 243582, 243524, 243514, 243283, 243263, 243224, 243118, 243029, 243007, 242955, 242874, 242865, 242858, 242854, 242676, 242486, 242342, 242316, 242215, 242184, 242155, 242135, 242115, 242099, 242037, 241775, 241695, 241694, 241431, 241399, 241217, 240929, 240573, 240438, 240299, 240292, 240254, 240230, 240214, 240188, 240154, 240140, 240126, 240106, 239960, 239873, 239809, 239792, 239791, 239662, 239584, 239538, 239513, 239509, 239502, 239447, 239442, 239434, 239432, 239321, 239306, 239274, 239213, 239200, 239196, 239175, 239174, 239074, 238937, 238932, 238895, 238840, 238753, 238688, 238623, 238529, 238491, 238420, 238399, 238354, 238347, 238333, 238218, 238210, 238176, 237905, 237904, 237695, 237163, 237160, 237114, 237094, 237045, 236943, 236934, 236807, 236721, 236588, 236519, 236244, 236232, 236195, 235944, 235941, 235919, 235900, 235891, 235766, 235675, 235653, 235582, 235495, 235489, 235293, 235256, 235217, 235204, 235195, 235184, 235177, 235133, 234935, 234927, 234660, 234585, 234532, 234520, 234424, 234361, 234306, 234288, 234249, 234186, 234177, 234083, 234067, 234055, 234028, 233918, 233908, 233892, 233890, 233889, 233881, 233878, 233809, 233767, 233722, 233693, 233617, 233609, 233459, 233454, 233315, 233246, 233236, 233208, 233196, 233185, 232924, 232907, 232884, 232859, 232836, 232830, 232627, 232607, 232606, 232576, 232573, 232560, 232553, 232552, 232535, 232533, 232492, 232457, 232454, 232302, 232296, 232252, 232224, 232096, 231965, 231933, 231778, 231731, 231723, 231654, 231648, 231559, 231471, 231399, 231391, 231384, 231379, 231364, 231333, 231319, 231230, 231203, 231142, 231130, 231094, 231079, 231018, 230947, 230559, 230502, 230498, 230409, 230403, 230107, 230086, 230044, 230034, 230011, 229995, 229868, 229833, 229788, 229725, 229679, 229671, 229631, 229591, 229582, 229567, 229509, 229502, 229497, 229491, 229263, 229150, 229149, 229122, 228856, 228802, 228764, 228570, 228435, 228326, 228201, 227920, 227794, 227692, 227633, 227616, 227508, 227477, 227169, 227159, 227158, 227100, 227052, 227030, 227012, 226952, 226879, 226723, 226480, 226475, 226325, 225985, 225968, 225940, 225852, 225775, 225728, 225646, 225626, 225517, 225474, 225453, 225440, 225318, 225200, 225047, 225008, 224999, 224876, 224856, 224775, 224763, 224723, 224686, 224596, 224514, 224412, 224409, 224203, 224189, 224153, 224127, 224124, 224025, 223780, 223646, 223626, 223446, 223304, 223249, 223200, 223093, 222969, 222950, 222944, 222927, 222908, 222894, 222889, 222888, 222857, 222854, 222737, 222544, 222515, 222374, 222267, 222250, 222204, 222188, 222163, 222108, 222071, 222029, 222011, 221966, 221959, 221916, 221870, 221867, 221706, 221665, 221660, 221623, 221574, 221540, 221355, 221351, 221342, 221218, 221098, 221067, 221052, 220929, 220818, 220796, 220746, 220654, 220623, 220613, 220552, 220365, 219758, 219700, 219567, 219561, 219537, 219516, 219514, 219203, 219173, 219165, 219139, 218990, 218818, 218777, 218723, 218570, 218526, 218494, 218228, 217965, 217872, 217858, 217828, 217821, 217795, 217412, 217347, 217342, 217315, 217201, 217131, 217109, 217094, 217039, 217030, 217028, 216984, 216941, 216899, 216864, 216815, 216707, 216699, 216698, 216671, 216651, 216648, 216629, 216360, 216326, 216320, 216245, 216173, 216172, 216036, 216027, 215987, 215812, 215788, 215775, 215704, 215627, 215621, 215617, 215610, 215602, 215568, 215566, 215565, 215542, 215497, 215480, 215479, 215467, 215456, 215454, 215452, 215441, 215439, 215434, 215402, 215397, 215355, 215316, 215188, 215067, 215031, 214849, 214797, 214792, 214790, 214525, 214502, 214484, 214444, 214423, 214419, 214412, 214390, 214192, 214178, 214172, 213973, 213934, 213850, 213786, 213774, 213642, 213601, 213597, 213427, 213410, 213409, 213391, 213366, 213341, 212991, 212917, 212821, 212808, 212774, 212753, 212703, 212542, 212485, 212418, 212406, 212394, 212384, 212365, 211981, 211938, 211902, 211867, 211753, 211748, 211451, 211443, 211360, 211327, 211259, 211173, 211145, 211087, 211003, 210950, 210919, 210892, 210847, 210845, 210831, 210827, 210753, 210666, 210604, 210553, 210537, 210525, 210200, 210193, 210187, 210076, 209950, 209791, 209717, 209714, 209710, 209702, 209603, 209551, 209429, 209387, 209222, 209165, 209043, 208845, 208802, 208790, 208761, 208704, 208697, 208582, 208522, 208365, 208322, 208300, 208255, 208136, 207897, 207657, 207444, 207380, 207198, 207095, 206852, 206844, 206827, 206769, 206719, 206693, 206690, 206663, 206527, 206469, 206397, 206239, 206004, 205772, 205769, 205706, 205698, 205499, 205492, 205452, 205342, 205326, 205276, 205273, 205234, 205130, 205050, 204976, 204971, 204859, 204799, 204790, 204724, 204708, 204703, 204684, 204329, 204311, 204225, 204219, 204045, 203845, 203746, 203676, 203675, 203659, 203658, 203578, 203568, 203511, 203368, 203229, 203116, 203105, 203030, 202969, 202885, 202884, 202779, 202581, 202547, 202534, 202530, 202489, 202242, 202064, 202037, 202014, 202005, 201786, 201587, 201411, 201246, 201135, 201132, 201122, 201074, 201071, 201064, 201063, 201015, 200877, 200829, 200815, 200798, 200791, 200740, 200727, 200698, 200596, 200504, 200475, 200418, 200383, 200303, 200238, 200235, 200067, 200027, 199946, 199939, 199929, 199911, 199882, 199881, 199874, 199849, 199634, 199482, 199465, 199441, 199412, 199410, 199396, 199316, 199302, 199299, 199290, 198937, 198921, 198794, 198764, 198759, 198755, 198740, 198737, 198705, 198701, 198636, 198615, 198572, 198551, 198477, 198442, 198161, 198107, 198090, 197906, 197858, 197845, 197478, 197461, 197458, 196991, 196948, 196939, 196892, 196842, 196759, 196748, 196701, 196700, 196424, 196369, 196032, 195975, 195963, 195894, 195869, 195546, 195424, 195355, 195085, 195082, 194947, 194809, 194807, 194804, 194685, 194463, 194409, 194336, 194308, 194293, 194267, 194243, 194122, 194075, 194040, 194027, 193997, 193974, 193960, 193798, 193795, 193686, 193682, 193608, 193536, 193530, 193368, 193359, 193254, 193218, 193211, 193200, 193190, 193183, 193180, 193176, 193083, 193032, 193024, 192936, 192841, 192748, 192688, 192607, 192546, 192438, 192280, 192272, 192246, 192156, 192105, 192072, 192009, 191762, 191753, 191705, 191570, 191446, 191420, 191410, 191384, 191363, 191310, 191302, 191078, 191072, 190997, 190994, 190917, 190814, 190797, 190736, 190500, 190207, 190156, 190154, 190152, 190144, 190141, 190131, 190130, 190021, 190001, 189948, 189790, 189786, 189777, 189776, 189775, 189761, 189547, 189542, 189247, 189245, 189238, 189233, 189208, 189173, 189170, 189169, 189160, 189159, 189140, 189121, 189117, 189108, 189104, 189080, 189059, 189042, 189009, 188951, 188924, 188871, 188821, 188807, 188665, 188664, 188628, 188553, 188466, 188370, 188336, 188299, 188272, 188213, 188194, 188112, 188009, 188006, 187960, 187937, 187829, 187823, 187752, 187691, 187606, 187605, 187591, 187588, 187527, 187436, 187430, 187321, 187093, 187087, 187078, 187059, 187057, 187038, 187033, 187028, 186916, 186864, 186842, 186827, 186747, 186711, 186631, 186604, 186504, 186498, 186494, 186474, 186386, 186381, 186375, 186340, 186298, 186254, 186246, 186112, 185850, 185844, 185829, 185746, 185527, 185422, 185407, 185371, 185370, 185336, 185284, 185230, 185195, 185135, 184884, 184810, 184785, 184749, 184699, 184593, 184561, 184450, 184138, 184103, 184093, 184083, 184081, 184077, 184073, 184063, 184018, 184015, 183709, 183706, 183694, 183693, 183659, 183563, 183478, 183414, 183384, 183252, 183199, 183191, 183129, 183123, 183107, 183106, 183094, 183092, 183072, 182966, 182942, 182934, 182928, 182880, 182613, 182586, 182570, 182430, 182183, 182136, 182046, 182042, 182035, 181976, 181952, 181942, 181937, 181905, 181864, 181810, 181774, 181643, 181637, 181619, 181607, 181580, 181406, 181326, 181242, 181031, 180972, 180959, 180861, 180840, 180836, 180832, 180675, 180635, 180634, 180202, 180196, 180118, 180110, 180079, 180050, 179943, 179937, 179867, 179852, 179809, 179690, 179684, 179564, 179541, 179337, 179331, 179297, 179244, 179182, 179180, 179141, 179132, 179129, 179128, 179126, 179110, 179068, 179030, 178851, 178819, 178789, 178787, 178783, 178505, 178365, 178314, 178230, 178219, 178208, 178205, 178188, 178162, 178121, 178116, 178090, 178083, 178081, 178080, 178052, 178049, 178039, 178029, 177990, 177981, 177552, 177495, 177491, 177461, 177347, 177327, 177320, 177309, 177300, 177240, 177239, 177233, 177218, 177175, 176970, 176935, 176893, 176765, 176727, 176678, 176596, 176418, 176255, 176225, 176217, 176146, 176030, 176012, 175814, 175756, 175687, 175622, 175559, 175543, 175377, 175129, 175005, 174906, 174902, 174784, 174782, 174675, 174656, 174480, 174401, 174376, 174002, 173831, 173816, 173716, 173598, 173596, 173572, 173570, 173463, 173429, 173328, 173314, 173293, 173262, 173206, 172854, 172729, 172539, 172489, 172074, 172027, 172012, 171996, 171989, 171921, 171908, 171890, 171856, 171840, 171830, 171803, 171802, 171790, 171786, 171763, 171752, 171716, 171695, 171383, 171368, 171253, 171239, 171218, 171209, 171205, 171204, 171202, 171108, 171047, 171018, 170994, 170990, 170988, 170889, 170880, 170847, 170654, 170608, 170591, 170566, 170531, 170407, 170345, 170299, 170273, 170267, 170230, 170211, 170185, 170134, 170060, 170029, 170008, 169889, 169756, 169723, 169706, 169669, 169658, 169534, 169467, 169460, 169398, 169307, 169266, 169258, 169212, 169210, 169047, 169033, 168988, 168961, 168907, 168905, 168901, 168863, 168745, 168710, 168687, 168670, 168640, 168606, 168460, 168318, 168290, 168281, 168257, 168245, 168239, 168232, 168216, 168191, 168141, 168140, 168132, 168121, 168042, 168026, 167726, 167684, 167677, 167670, 167640, 167628, 167523, 167509, 167499, 167497, 167397, 167378, 167329, 167328, 167325, 167305, 167247, 167231, 167216, 167149, 167038, 167035, 167028, 166924, 166815, 166786, 166695, 166672, 166641, 166611, 166605, 166594, 166583, 166575, 166434, 166407, 166393, 166357, 166350, 166295, 166022, 166015, 166011, 165980, 165851, 165740, 165712, 165668, 165639, 165628, 165626, 165479, 165432, 165390, 165337, 165298, 165134, 165107, 165069, 165059, 164962, 164934, 164877, 164814, 164639, 164596, 164563, 164054, 163957, 163928, 163787, 163544, 163522, 163458, 163451, 163425, 163417, 163413, 163411, 163356, 163268, 163236, 163196, 163179, 163172, 162841, 162835, 162687, 162530, 162424, 162060, 162017, 162010, 161993, 161987, 161976, 161960, 161896, 161862, 161858, 161828, 161796, 161793, 161733, 161690, 161667, 161342, 161298, 161229, 161228, 161189, 160942, 160898, 160821, 160802, 160756, 160671, 160655, 160653, 160635, 160595, 160583, 160510, 160507, 160465, 160463, 160446, 160396, 160233, 160189, 160114, 160032, 159636, 159603, 159555, 159550, 159510, 159485, 159360, 159283, 159234, 159201, 159159, 159120, 158981, 158833, 158773, 158760, 158727, 158725, 158707, 158538, 158460, 158414, 158240, 158205, 158054, 157986, 157867, 157641, 157632, 157539, 157524, 157516, 157503, 157470, 157453, 157386, 157369, 157342, 157198, 157154, 157070, 156986, 156985, 156981, 156934, 156842, 156839, 156671, 156667, 156632, 156618, 156573, 156347, 156328, 156304, 156296, 156186, 156151, 156078, 155865, 155843, 155314, 155287, 154287, 154269, 154175, 154135, 154128, 154092, 153901, 153804, 153695, 153662, 153602, 153588, 153568, 153553, 153464, 153440, 153352, 153311, 153299, 153239, 153237, 153185, 153128, 153103, 153014, 152877, 152874, 152816, 152803, 152728, 152628, 152627, 152429, 152367, 152225, 152159, 152153, 152151, 152121, 152093, 152075, 152066, 152051, 152018, 151987, 151965, 151956, 151838, 151824, 151520, 151479, 151443, 151356, 151344, 151315, 151285, 151282, 151274, 151269, 151237, 151222, 151210, 151117, 151071, 151029, 151003, 150801, 150753, 150744, 150688, 150683, 150652, 150624, 150618, 150572, 150554, 150486, 150388, 150387, 150324, 150296, 150081, 150078, 149808, 149793, 149730, 149724, 149647, 149560, 149422, 149398, 149269, 149214, 149173, 149129, 149056, 149054, 149027, 148892, 148869, 148854, 148834, 148687, 148681, 148448, 148373, 148370, 148349, 148214, 148178, 148170, 148155, 148056, 147811, 147583, 147529, 147519, 147516, 147508, 147502, 147359, 147358, 147356, 147342, 147341, 147321, 147235, 146888, 146854, 146842, 146792, 146782, 146781, 146733, 146700, 146652, 146572, 146559, 146507, 146460, 146270, 146197, 146008, 145946, 145883, 145878, 145861, 145856, 145733, 145725, 145719, 145713, 145706, 145698, 145678, 145557, 145543, 145365, 145046, 144963, 144942, 144818, 144679, 144641, 144610, 144520, 144515, 144512, 144500, 144480, 144404, 144309, 144271, 144151, 143557, 143383, 143372, 143366, 143072, 142993, 142989, 142976, 142957, 142875, 142860, 142855, 142790, 142626, 142592, 142587, 142444, 142156, 141838, 141806, 141790, 141668, 141559, 141528, 141491, 141465, 141400, 141326, 141033, 140953, 140897, 140785, 140766, 140744, 140701, 140697, 140668, 140665, 140646, 140644, 140542, 140501, 140497, 140493, 140490, 140456, 140451, 140027, 140004, 139958, 139941, 139860, 139551, 139505, 139502, 139494, 139474, 139441, 139125, 139103, 139056, 139046, 138909, 138863, 138832, 138746, 138734, 138673, 138573, 138534, 138530, 138349, 138314, 138297, 138275, 138255, 138190, 138180, 138002, 137978, 137853, 137778, 137278, 137144, 137008, 136998, 136941, 136935, 136928, 136924, 136853, 136824, 136810, 136779, 136728, 136705, 136607, 136501, 136488, 136191, 136137, 136101, 136070, 136059, 136043, 136029, 135957, 135850, 135847, 135767, 135655, 135604, 135450, 135264, 135263, 135193, 135190, 135185, 135181, 135052, 134980, 134945, 134933, 134875, 134791, 134789, 134729, 134695, 134670, 134438, 134225, 133916, 133899, 133844, 133700, 133677, 133654, 133545, 133247, 133219, 133187, 133178, 133100, 133047, 132951, 132941, 132778, 132777, 132596, 132574, 132418, 132363, 132357, 132243, 132210, 132208, 131977, 131867, 131852, 131842, 131813, 131476, 131447, 131261, 131237, 131147, 131072, 130998, 130925, 130913, 130893, 130881, 130877, 130841, 130786, 130670, 130610, 130599, 130596, 130579, 130569, 130551, 130544, 130516, 130476, 130457, 130440, 130315, 130314, 130311, 130277, 130154, 130151, 130107, 130095, 130081, 130063, 129895, 129854, 129808, 129804, 129679, 129567, 129465, 129403, 129401, 129339, 129297, 129146, 129143, 129142, 129117, 129060, 129028, 128875, 128823, 128781, 128712, 128708, 128483, 128419, 128387, 128361, 128358, 128357, 128339, 128190, 128181, 128129, 128081, 128078, 127910, 127849, 127802, 127664, 127596, 127447, 127397, 127367, 127361, 127355, 127342, 126763, 126762, 126661, 126656, 126586, 126103, 125647, 125565, 125356, 125349, 125297, 125233, 125231, 125219, 125069, 125017, 124990, 124989, 124975, 124960, 124868, 124859, 124681, 124680, 124623, 124611, 124580, 124568, 124511, 124504, 124484, 124327, 124254, 124223, 124192, 124177, 124167, 124166, 124150, 124144, 124140, 123897, 123878, 123876, 123777, 123685, 123629, 123625, 123622, 123412, 123350, 123305, 123175, 123171, 123118, 123111, 123108, 123083, 123060, 122953, 122789, 122781, 122775, 122722, 122681, 122671, 122666, 122511, 122490, 122180, 121974, 121961, 121953, 121938, 121910, 121878, 121875, 121838, 121795, 121652, 121578, 121524, 121492, 121476, 121472, 121466, 121437, 121332, 121329, 121308, 121306, 121304, 121303, 120901, 120824, 120819, 120756, 120745, 120659, 120605, 120581, 120511, 120410, 120299, 120243, 120242, 120241, 120104, 120078, 120068, 119947, 119920, 119777, 119775, 119684, 119679, 119676, 119202, 119097, 119090, 119075, 118956, 118937, 118927, 118804, 118635, 118552, 118523, 118324, 118321, 118312, 118282, 118270, 118236, 118163, 118158, 118155, 118038, 117840, 117824, 117730, 117605, 117573, 117526, 117507, 117492, 117404, 117403, 117309, 117272, 117184, 117112, 117041, 116995, 116960, 116872, 116861, 116781, 116729, 116622, 116443, 116433, 116407, 116394, 116341, 116307, 116215, 116194, 116045, 115853, 115702, 115631, 115541, 115243, 115226, 115152, 114995, 114942, 114899, 114892, 114783, 114781, 114762, 114760, 114754, 114661, 114643, 114566, 114470, 114430, 114326, 114283, 114104, 114026, 113979, 113903, 113900, 113861, 113828, 113802, 113761, 113742, 113682, 113517, 113507, 113347, 113316, 113290, 113175, 113114, 112794, 112679, 112580, 112574, 112084, 112054, 112016, 111960, 111585, 111461, 111382, 111358, 111272, 111232, 111029, 110995, 110915, 110839, 110837, 110836, 110816, 110797, 110778, 110748, 110743, 110633, 110630, 110607, 110577, 110531, 110515, 110230, 110133, 109942, 109908, 109843, 109831, 109611, 109590, 109516, 109506, 109496, 109489, 109307, 109068, 108632, 108619, 108315, 108171, 108074, 107999, 107983, 107982, 107895, 107841, 107803, 107798, 107780, 107379, 107357, 107217, 107209, 107183, 107173, 106933, 106853, 106770, 106653, 106508, 106410, 106386, 106338, 106314, 106290, 106249, 106196, 106130, 106125, 106033, 106013, 106009, 105965, 105963, 105927, 105904, 105856, 105769, 105665, 105435, 105322, 104959, 104866, 104808, 104537, 104532, 104495, 104396, 104387, 104298, 104296, 104286, 104253, 104242, 104238, 103774, 103751, 103370, 103283, 103200, 103158, 102898, 102886, 102874, 102674, 102442, 102312, 102243, 102128, 101836, 101773, 101691, 101683, 101664, 101626, 101606, 101487, 101478, 101420, 101401, 101391, 101298, 101294, 101283, 101278, 101263, 101238, 101217, 101196, 101180, 101164, 101110, 101102, 101069, 101035, 100966, 100961, 100863, 100841, 100791, 100685, 100620, 100555, 100494, 100441, 100429, 100415, 100409, 100368, 100363, 100347, 100285, 100239, 100208, 100144, 99992, 99936, 99775, 99769, 99739, 99721, 99648, 99607, 99539, 99505, 99486, 99253, 99145, 99078, 99045, 98870, 98821, 98487, 98351, 98319, 98318, 98301, 98232, 98217, 98212, 98208, 98159, 98147, 98126, 98009, 98008, 97885, 97850, 97816, 97793, 97791, 97782, 97380, 97375, 97362, 97361, 97360, 97353, 97351, 97320, 97241, 97232, 97227, 97218, 97191, 97113, 97109, 97024, 96942, 96919, 96835, 96618, 96573, 96401, 96349, 96315, 96290, 96266, 96262, 96201, 96194, 96126, 96090, 95837, 95804, 95683, 95667, 95650, 95644, 95582, 95544, 95370, 95316, 95270, 95229, 95181, 95155, 95124, 95095, 95027, 94891, 94802, 94742, 94689, 94686, 94655, 94624, 94462, 94457, 94411, 94354, 94334, 94283, 94277, 94224, 94208, 94156, 94044, 93953, 93916, 93858, 93799, 93466, 93448, 93295, 93258, 93075, 92852, 92846, 92815, 92699, 92697, 92644, 92599, 92585, 92564, 92509, 92494, 92455, 92398, 92363, 92289, 92287, 92286, 92053, 91864, 91854, 91848, 91843, 91666, 91529, 91516, 91440, 91305, 91303, 91272, 91260, 91210, 91207, 91175, 90956, 90955, 90949, 90900, 90857, 90756, 90748, 90663, 90587, 90445, 90415, 90313, 90307, 90235, 89830, 89761, 89712, 89359, 89127, 89104, 89101, 89100, 89098, 89081, 89078, 88932, 88930, 88902, 88897, 88891, 88869, 88861, 88789, 88717, 88491, 88462, 88456, 88330, 88261, 88246, 88132, 88095, 88090, 88068, 87885, 87811, 87798, 87785, 87780, 87774, 87758, 87735, 87727, 87597, 87547, 87532, 87488, 87479, 87465, 87454, 87442, 87172, 87169, 87166, 87122, 87044, 86969, 86960, 86935, 86933, 86872, 86846, 86801, 86794, 86609, 86547, 86540, 86528, 86515, 86422, 86035, 86008, 86003, 85957, 85944, 85891, 85888, 85885, 85884, 85880, 85878, 85876, 85859, 85775, 85774, 85771, 85770, 85769, 85748, 85742, 85735, 85637, 85630, 85611, 85587, 85445, 85140, 85134, 85131, 85130, 85124, 85120, 84817, 84812, 84799, 84793, 84789, 84786, 84767, 84733, 84725, 84705, 84604, 84581, 84475, 84456, 84323, 84177, 84110, 84103, 84085, 84045, 83951, 83885, 83850, 83815, 83813, 83800, 83778, 83773, 83758, 83740, 83709, 83632, 83626, 83607, 83599, 83583, 83513, 83496, 83495, 83477, 83473, 83447, 83409, 83403, 83398, 83352, 83346, 82957, 82843, 82837, 82728, 82607, 82574, 82503, 82480, 82436, 82380, 82244, 82237, 82215, 82196, 82061, 82048, 82019, 82002, 81764, 81735, 81634, 81509, 81483, 81481, 81326, 81299, 81285, 81130, 81104, 80819, 80764, 80724, 80611, 80603, 80600, 80566, 80562, 80497, 80418, 80345, 80343, 80341, 80195, 80189, 79837, 79146, 79111, 79104, 79103, 79101, 79087, 79046, 78888, 78858, 78855, 78715, 78679, 78665, 78583, 78223, 78205, 78190, 78189, 78166, 78156, 78024, 77909, 77901, 77861, 77731, 77621, 77609, 77568, 77523, 77513, 77453, 77372, 77355, 77183, 77159, 77123, 76975, 76974, 76937, 76624, 76622, 76569, 76542, 76485, 76481, 76477, 76472, 76444, 76386, 76368, 76349, 76323, 76280, 76265, 76112, 76093, 75755, 75746, 75729, 75542, 75523, 75515, 75466, 75455, 75433, 75324, 75268, 75098, 75007, 74966, 74953, 74911, 74778, 74771, 74720, 74572, 74568, 74541, 74503, 74491, 74410, 74405, 74338, 74170, 74086, 74085, 74066, 73922, 73900, 73869, 73868, 73860, 73828, 73799, 73771, 73712, 73598, 73292, 73183, 73168, 73111, 73035, 73034, 73019, 72977, 72973, 72953, 72940, 72935, 72912, 72888, 72887, 72763, 72430, 72408, 72405, 72366, 72321, 72307, 72113, 71999, 71927, 71924, 71923, 71823, 71819, 71782, 71697, 71660, 71383, 71369, 71347, 71178, 71161, 70979, 70965, 70962, 70891, 70726, 70709, 70696, 70641, 70393, 70390, 70328, 70177, 69999, 69986, 69975, 69927, 69916, 69869, 69862, 69486, 69270, 69198, 69123, 69121, 69117, 69102, 68939, 68918, 68843, 68712, 68644, 68627, 68565, 68534, 68459, 68457, 68256, 68194, 68190, 68133, 67939, 67650, 67639, 67591, 67458, 67436, 67429, 67421, 67416, 67336, 67254, 67164, 67129, 67117, 67036, 66911, 66910, 66885, 66767, 66735, 66589, 66566, 66508, 66503, 66487, 66471, 66261, 66207, 66202, 66179, 65857, 65675, 65612, 65576, 65165, 64949, 64938, 64765, 64757, 64726, 64723, 64703, 64483, 64481, 64389, 64384, 64281, 64218, 64207, 64191, 64026, 63968, 63952, 63921, 63899, 63784, 63777, 63652, 63487, 63446, 63432, 63410, 63391, 63338, 63176, 63174, 63172, 63090, 63036, 62945, 62923, 62860, 62756, 62741, 62716, 62687, 62668, 62655, 62306, 62126, 62079, 61999, 61938, 61874, 61843, 61840, 61789, 61683, 61672, 61595, 61567, 61507, 61253, 61224, 61135, 61133, 61123, 61112, 61074, 60643, 60609, 60395, 60364, 60153, 60126, 59853, 59780, 59762, 59601, 59525, 59458, 59447, 59439, 59349, 59312, 59308, 59293, 59270, 59256, 59180, 59118, 59115, 59087, 59066, 58561, 58557, 58555, 58513, 58432, 58429, 58414, 58392, 58143, 57968, 57965, 57807, 57797, 57756, 57672, 57667, 57634, 57429, 57332, 57311, 57292, 57291, 57165, 57129, 56978, 56964, 56953, 56917, 56873, 56871, 56860, 56857, 56784, 56757, 56749, 56691, 56677, 56669, 56480, 56408, 56373, 56234, 56232, 56010, 55966, 55926, 55903, 55887, 55877, 55841, 55821, 55820, 55779, 55722, 55706, 55685, 55637, 55623, 55581, 55532, 55492, 55443, 55439, 55434, 54984, 54948, 54920, 54742, 54666, 54416, 54324, 54301, 54246, 54229, 54119, 54073, 54008, 53994, 53980, 53641, 53378, 53148, 53034, 53031, 53008, 52997, 52995, 52943, 52933, 52877, 52847, 52821, 52818, 52701, 52645, 52407, 52378, 52347, 52329, 52304, 52296, 52283, 52257, 52242, 52173, 52154, 52085, 51846, 51776, 51766, 51714, 51686, 51646, 51604, 51597, 51570, 51546, 51537, 51534, 51523, 51493, 51451, 51437, 51061, 50948, 50945, 50925, 50913, 50906, 50899, 50897, 50885, 50883, 50857, 50829, 50804, 50721, 50714, 50525, 50473, 50420, 50390, 50385, 50366, 50365, 50348, 50346, 50089, 50071, 50054, 50052, 50045, 50031, 50014, 50004, 49894, 49863, 49772, 49737, 49655, 49640, 49566, 49552, 49538, 49457, 49449, 49435, 49429, 49254, 49220, 49176, 49155, 49048, 48986, 48984, 48979, 48868, 48848, 48700, 48517, 48331, 48304, 48084, 48057, 48036, 47622, 47332, 47163, 47028, 47005, 46988, 46850, 46807, 46522, 46448, 46321, 46257, 46080, 46062, 46052, 45958, 45738, 45678, 45605, 45575, 45466, 45465, 45442, 45441, 45378, 45357, 45346, 45335, 45293, 45279, 45271, 45265, 45245, 45064, 44882, 44860, 44855, 44840, 44568, 44432, 44430, 44429, 44418, 44381, 44366, 44357, 44345, 44339, 44322, 44294, 44143, 44132, 44073, 44013, 43982, 43944, 43900, 43808, 43719, 43713, 43687, 43683, 43156, 43142, 43070, 42969, 42899, 42890, 42858, 42854, 42833, 42814, 42789, 42779, 42713, 42690, 42559, 42512, 42510, 42296, 42292, 42135, 41798, 40979, 40972, 40949, 40882, 40833, 40771, 40735, 40718, 40705, 40704, 40686, 40639, 40497, 40439, 40425, 40367, 40360, 40346, 40272, 40254, 40236, 40226, 40178, 40168, 40166, 40140, 39862, 39686, 39678, 39616, 39546, 39397, 39388, 39370, 39354, 39307, 39262, 38861, 38832, 38570, 38565, 38535, 38476, 38474, 38403, 38398, 38388, 38264, 38236, 38136, 38130, 38080, 38026, 37978, 37872, 37744, 37704, 37690, 37658, 37575, 37524, 37511, 37476, 37474, 37456, 37437, 37280, 37106, 37043, 36854, 36772, 36760, 36734, 36670, 36531, 36527, 36508, 36467, 36464, 36353, 36326, 36284, 36145, 35818, 35577, 35560, 35305, 34974, 34873, 34872, 34865, 34861, 34856, 34844, 34813, 34704, 34683, 34674, 34666, 34661, 34521, 34453, 34434, 34373, 34349, 34273, 34028, 33948, 33837, 33814, 33761, 33759, 33611, 33288, 33196, 33185, 33133, 33054, 33049, 32994, 32987, 32935, 32882, 32831, 32815, 32811, 32765, 32748, 32744, 32729, 32702, 32699, 32679, 32616, 32613, 32600, 32561, 32538, 32528, 32510, 32483, 32478, 32094, 31926, 31842, 31837, 31465, 31438, 31345, 31343, 31342, 31291, 31260, 31259, 30969, 30962, 30959, 30945, 30928, 30927, 30917, 30915, 30914, 30913, 30911, 30901, 30893, 30848, 30655, 30376, 30275, 30232, 30203, 30202, 30176, 30142, 30123, 30116, 30113, 30100, 30076, 30062, 30000, 29988, 29572, 29340, 29292, 29169, 29125, 29115, 29065, 29017, 28875, 28867, 28841, 28805, 28712, 28599, 28443, 28079, 28069, 28048, 27991, 27972, 27772, 27754, 27637, 27592, 27554, 27541, 27451, 27389, 27347, 27329, 27326, 27278, 27268, 27262, 27169, 27151, 27102, 27100, 27091, 27034, 27002, 26698, 26680, 26621, 26598, 26566, 26468, 26414, 26395, 26371, 26291, 26206, 26097, 25737, 25600, 25425, 25341, 25242, 25226, 25204, 24957, 24843, 24754, 24709, 24706, 24698, 24691, 24690, 24680, 24671, 24652, 24603, 24550, 24531, 24512, 24452, 24366, 24338, 24310, 24236, 24202, 24184, 24147, 24136, 23820, 23797, 23781, 23765, 23752, 23743, 23720, 23714, 23672, 23505, 23496, 23466, 23462, 23432, 23417, 23352, 23339, 23311, 23229, 23149, 23136, 23120, 23112, 23091, 23074, 22917, 22898, 22738, 22722, 22621, 22603, 22473, 22193, 21948, 21878, 21824, 21821, 21740, 21725, 21657, 21650, 21646, 21643, 21473, 21469, 21460, 21459, 21457, 21451, 21447, 21444, 21360, 21163, 21155, 21144, 20939, 20782, 20771, 20715, 20539, 20263, 20184, 20153, 20148, 20146, 20072, 20047, 19990, 19954, 19918, 19895, 19794, 19680, 19663, 19657, 19603, 19469, 19359, 19052, 18771, 18625, 18601, 18595, 18588, 18466, 18381, 18372, 18354, 18081, 18032, 17903, 17899, 17898, 17888, 17885, 17884, 17869, 17820, 17809, 17766, 17762, 17683, 17662, 17658, 17595, 17548, 17508, 17358, 17357, 17354, 17334, 17250, 17069, 17035, 17020, 16920, 16677, 16665, 16530, 16358, 16355, 16354, 16321, 16132, 16108, 16066, 15604, 15492, 15414, 15413, 15380, 15379, 15367, 15318, 15301, 15278, 15075, 15021, 14968, 14790, 14724, 14444, 14356, 14263, 14253, 14247, 14229, 14225, 14071, 13981, 13958, 13783, 13729, 13592, 13586, 13414, 13406, 13385, 13369, 13274, 13193, 13112, 13035, 12885, 12871, 12842, 12839, 12737, 12721, 12652, 12432, 12206, 12194, 12136, 12039, 12035, 11996, 11978, 11966, 11940, 11925, 11915, 11912, 11909, 11905, 11876, 11866, 11860, 11853, 11849, 11813, 11800, 11794, 11771, 11621, 11556, 11552, 11518, 11517, 11399, 11388, 11253, 11175, 11139, 11070, 11065, 11041, 11032, 10807, 10708, 10645, 10633, 10452, 10435, 10416, 10355, 10146, 10134, 10111, 10092, 10083, 10079, 10033, 9925, 9910, 9854, 9702, 9672, 9649, 9557, 9379, 9321, 9234, 9230, 9211, 9205, 9193, 9140, 9092, 9060, 8999, 8985, 8958, 8729, 8569, 8566, 8138, 8078, 8067, 8046, 7946, 7932, 7851, 7840, 7770, 7743, 7722, 7702, 7693, 7493, 7458, 7353, 7331, 7149, 6887, 6782, 6691, 6663, 6620, 6606, 6574, 6435, 6250, 6164, 6105, 6035, 6009, 5997, 5996, 5951, 5900, 5863, 5814, 5657, 5522, 5515, 5485, 5473, 5191, 5102, 4985, 4975, 4925, 4832, 4712, 4579, 4518, 4509, 4423, 4360, 4323, 4280, 4257, 4075, 4050, 3973, 3961, 3816, 3599, 3596, 3594, 3588, 3519, 3499, 3419, 3125, 3116, 2928, 2921, 2911, 2895, 2862, 2818, 2792, 2772, 2766, 2686, 2622, 2619, 2604, 2594, 2541, 2540, 2484, 2483, 2478, 2426, 2367, 2357, 2296, 2273, 2255, 2239, 2050, 1985, 1956, 1633, 1604, 1529, 1524, 1358, 1098, 1084, 973, 850, 739, 726, 704, 674, 673, 645, 610, 531, 522, 488, 469, 441, 420, 331, 310, 172, 111, 23]\n"
     ]
    }
   ],
   "source": [
    "# take rows that have too rare targets\n",
    "\n",
    "label_counts = trunc_large_data.target.astype(str).value_counts()\n",
    "one_freq = label_counts[label_counts==1].keys()\n",
    "one_freq_idxs = sorted(list(trunc_large_data[trunc_large_data.target.astype(str).isin(one_freq)].index), reverse=True)\n",
    "print('df label indices with only one instance: ', one_freq_idxs)"
   ]
  },
  {
   "cell_type": "code",
   "execution_count": 30,
   "metadata": {},
   "outputs": [
    {
     "data": {
      "text/plain": [
       "4596"
      ]
     },
     "execution_count": 30,
     "metadata": {},
     "output_type": "execute_result"
    }
   ],
   "source": [
    "len(one_freq_idxs)"
   ]
  },
  {
   "cell_type": "code",
   "execution_count": 31,
   "metadata": {},
   "outputs": [],
   "source": [
    "# Gathering single instance inputs\n",
    "one_freq_input_ids = [input_ids.pop(i) for i in one_freq_idxs]\n",
    "one_freq_token_types = [token_type_ids.pop(i) for i in one_freq_idxs]\n",
    "one_freq_attention_masks = [attention_masks.pop(i) for i in one_freq_idxs]\n",
    "one_freq_labels = [labels.pop(i) for i in one_freq_idxs]"
   ]
  },
  {
   "cell_type": "code",
   "execution_count": 32,
   "metadata": {},
   "outputs": [
    {
     "data": {
      "text/plain": [
       "295177"
      ]
     },
     "execution_count": 32,
     "metadata": {},
     "output_type": "execute_result"
    }
   ],
   "source": [
    "len(input_ids)"
   ]
  },
  {
   "cell_type": "markdown",
   "metadata": {},
   "source": [
    "The original data is 299773 rows long, and 295177 when the unique target occurances have been separated. I will take 5 % split of these rows to mini train, and split dev and test from the remained part"
   ]
  },
  {
   "cell_type": "code",
   "execution_count": 36,
   "metadata": {},
   "outputs": [],
   "source": [
    "from sklearn.model_selection import train_test_split\n",
    "\n",
    "remaining_inputs, mini_train_inputs, remaining_labels, mini_train_labels, remaining_token_types, mini_train_token_types, remaining_masks, mini_train_masks = train_test_split(input_ids, labels, token_type_ids,attention_masks,\n",
    "                                                            random_state=42, test_size=0.05, stratify = labels)"
   ]
  },
  {
   "cell_type": "code",
   "execution_count": 39,
   "metadata": {},
   "outputs": [
    {
     "name": "stdout",
     "output_type": "stream",
     "text": [
      "remaining:  280418 mini-train:  14759\n"
     ]
    }
   ],
   "source": [
    "print('remaining: ', len(remaining_inputs), 'mini-train: ', len(mini_train_inputs))"
   ]
  },
  {
   "cell_type": "code",
   "execution_count": 40,
   "metadata": {},
   "outputs": [],
   "source": [
    "# splitting the dataset further, now getting the dev mini set\n",
    "\n",
    "remaining_inputs2, mini_dev_inputs, remaining_labels2, mini_dev_labels, remaining_token_types2, mini_dev_token_types, remaining_masks2, mini_dev_masks = train_test_split(remaining_inputs, remaining_labels, remaining_token_types, remaining_masks,\n",
    "                                                            random_state=42, test_size=0.05, stratify = remaining_labels)"
   ]
  },
  {
   "cell_type": "code",
   "execution_count": 41,
   "metadata": {},
   "outputs": [
    {
     "name": "stdout",
     "output_type": "stream",
     "text": [
      "remaining2:  266397 mini-dev:  14021\n"
     ]
    }
   ],
   "source": [
    "print('remaining2: ', len(remaining_inputs2), 'mini-dev: ', len(mini_dev_inputs))"
   ]
  },
  {
   "cell_type": "code",
   "execution_count": 43,
   "metadata": {},
   "outputs": [],
   "source": [
    "# and then splitting the test set\n",
    "\n",
    "remaining_inputs3, mini_test_inputs, remaining_labels3, mini_test_labels, remaining_token_types3, mini_test_token_types, remaining_masks3, mini_test_masks = train_test_split(remaining_inputs2, remaining_labels2, remaining_token_types2, remaining_masks2,\n",
    "                                                            random_state=42, test_size=0.05, stratify = remaining_labels2)\n"
   ]
  },
  {
   "cell_type": "markdown",
   "metadata": {},
   "source": [
    "I will initially include all the 4596 one_freq rows in the mini_train_data, this can be changed later"
   ]
  },
  {
   "cell_type": "code",
   "execution_count": 44,
   "metadata": {},
   "outputs": [],
   "source": [
    "mini_train_inputs.extend(one_freq_input_ids)\n",
    "mini_train_labels.extend(one_freq_labels)\n",
    "mini_train_masks.extend(one_freq_attention_masks)\n",
    "mini_train_token_types.extend(one_freq_token_types)"
   ]
  },
  {
   "cell_type": "code",
   "execution_count": 45,
   "metadata": {},
   "outputs": [],
   "source": [
    "# change mini train sets to tensors\n",
    "\n",
    "t_mini_train_inputs = torch.tensor(mini_train_inputs)\n",
    "t_mini_train_labels = torch.tensor(mini_train_labels)\n",
    "t_mini_train_masks = torch.tensor(mini_train_masks)\n",
    "t_mini_train_token_types = torch.tensor(mini_train_token_types)"
   ]
  },
  {
   "cell_type": "code",
   "execution_count": 49,
   "metadata": {},
   "outputs": [],
   "source": [
    "# change mini dev sets to tensors\n",
    "\n",
    "t_mini_dev_inputs = torch.tensor(mini_dev_inputs)\n",
    "t_mini_dev_labels = torch.tensor(mini_dev_labels)\n",
    "t_mini_dev_masks = torch.tensor(mini_dev_masks)\n",
    "t_mini_dev_token_types = torch.tensor(mini_dev_token_types)"
   ]
  },
  {
   "cell_type": "code",
   "execution_count": 50,
   "metadata": {},
   "outputs": [],
   "source": [
    "# change mini test sets to tensors\n",
    "\n",
    "t_mini_test_inputs = torch.tensor(mini_test_inputs)\n",
    "t_mini_test_labels = torch.tensor(mini_test_labels)\n",
    "t_mini_test_masks = torch.tensor(mini_test_masks)\n",
    "t_mini_test_token_types = torch.tensor(mini_test_token_types)"
   ]
  },
  {
   "cell_type": "code",
   "execution_count": 46,
   "metadata": {},
   "outputs": [
    {
     "name": "stdout",
     "output_type": "stream",
     "text": [
      "torch.Size([19355, 256])\n",
      "torch.Size([19355, 126])\n",
      "torch.Size([19355, 256])\n",
      "torch.Size([19355, 256])\n"
     ]
    }
   ],
   "source": [
    "print(t_mini_train_inputs.shape)\n",
    "print(t_mini_train_labels.shape)\n",
    "print(t_mini_train_masks.shape)\n",
    "print(t_mini_train_token_types.shape)"
   ]
  },
  {
   "cell_type": "code",
   "execution_count": 47,
   "metadata": {},
   "outputs": [],
   "source": [
    "# create train iterator with torch dataloader\n",
    "\n",
    "from torch.utils.data import TensorDataset, DataLoader, RandomSampler\n",
    "batch_size = 48\n",
    "\n",
    "mini_train_data = TensorDataset(t_mini_train_inputs, t_mini_train_masks, t_mini_train_labels, t_mini_train_token_types)\n",
    "mini_train_sampler = RandomSampler(mini_train_data)\n",
    "mini_train_dataloader = DataLoader(mini_train_data, sampler=mini_train_sampler, batch_size=batch_size)\n"
   ]
  },
  {
   "cell_type": "code",
   "execution_count": 52,
   "metadata": {},
   "outputs": [],
   "source": [
    "# create dev iterator with torch dataloader\n",
    "\n",
    "from torch.utils.data import SequentialSampler\n",
    "\n",
    "mini_dev_data = TensorDataset(t_mini_dev_inputs, t_mini_dev_masks, t_mini_dev_labels, t_mini_dev_token_types)\n",
    "mini_dev_sampler = SequentialSampler(mini_dev_data)\n",
    "mini_dev_dataloader = DataLoader(mini_dev_data, sampler=mini_dev_sampler, batch_size=batch_size)"
   ]
  },
  {
   "cell_type": "code",
   "execution_count": 53,
   "metadata": {},
   "outputs": [],
   "source": [
    "# create test iterator with torch dataloader\n",
    "\n",
    "mini_test_data = TensorDataset(t_mini_test_inputs, t_mini_test_masks, t_mini_test_labels, t_mini_test_token_types)\n",
    "mini_test_sampler = SequentialSampler(mini_test_data)\n",
    "mini_test_dataloader = DataLoader(mini_test_data, sampler=mini_test_sampler, batch_size=batch_size)"
   ]
  },
  {
   "cell_type": "code",
   "execution_count": 54,
   "metadata": {},
   "outputs": [],
   "source": [
    "# save (file sizes are around 95-140 MB for mini loaders, so these are gitignored)\n",
    "\n",
    "torch.save(mini_train_dataloader,'data-loaders/mini-train_data_loader')\n",
    "torch.save(mini_dev_dataloader,'data-loaders/mini-dev_data_loader')\n",
    "torch.save(mini_test_dataloader,'data-loaders/mini-test_data_loader')"
   ]
  },
  {
   "cell_type": "markdown",
   "metadata": {},
   "source": [
    "### Model loading, initial optimizer and criterion\n",
    "\n",
    "The huggingface transformers have AdamW that has gradient bias correction and weight decay. The optimizer hyperparemeters can be [customised](https://huggingface.co/transformers/training.html), but I start simple with the default settings."
   ]
  },
  {
   "cell_type": "code",
   "execution_count": 55,
   "metadata": {},
   "outputs": [
    {
     "data": {
      "application/vnd.jupyter.widget-view+json": {
       "model_id": "b671dbd01a984e519ce0be759eab3e49",
       "version_major": 2,
       "version_minor": 0
      },
      "text/plain": [
       "HBox(children=(FloatProgress(value=0.0, description='Downloading', max=433.0, style=ProgressStyle(description_…"
      ]
     },
     "metadata": {},
     "output_type": "display_data"
    },
    {
     "name": "stdout",
     "output_type": "stream",
     "text": [
      "\n"
     ]
    },
    {
     "data": {
      "application/vnd.jupyter.widget-view+json": {
       "model_id": "ee039ed7d0954854a04917cb0a3e9ca3",
       "version_major": 2,
       "version_minor": 0
      },
      "text/plain": [
       "HBox(children=(FloatProgress(value=0.0, description='Downloading', max=440473133.0, style=ProgressStyle(descri…"
      ]
     },
     "metadata": {},
     "output_type": "display_data"
    },
    {
     "name": "stdout",
     "output_type": "stream",
     "text": [
      "\n"
     ]
    },
    {
     "name": "stderr",
     "output_type": "stream",
     "text": [
      "Some weights of the model checkpoint at bert-base-uncased were not used when initializing BertForSequenceClassification: ['cls.predictions.bias', 'cls.predictions.transform.dense.weight', 'cls.predictions.transform.dense.bias', 'cls.predictions.decoder.weight', 'cls.seq_relationship.weight', 'cls.seq_relationship.bias', 'cls.predictions.transform.LayerNorm.weight', 'cls.predictions.transform.LayerNorm.bias']\n",
      "- This IS expected if you are initializing BertForSequenceClassification from the checkpoint of a model trained on another task or with another architecture (e.g. initializing a BertForSequenceClassification model from a BertForPreTraining model).\n",
      "- This IS NOT expected if you are initializing BertForSequenceClassification from the checkpoint of a model that you expect to be exactly identical (initializing a BertForSequenceClassification model from a BertForSequenceClassification model).\n",
      "Some weights of BertForSequenceClassification were not initialized from the model checkpoint at bert-base-uncased and are newly initialized: ['classifier.weight', 'classifier.bias']\n",
      "You should probably TRAIN this model on a down-stream task to be able to use it for predictions and inference.\n"
     ]
    }
   ],
   "source": [
    "# Model 1\n",
    "\n",
    "from torch.nn import BCEWithLogitsLoss, BCELoss\n",
    "\n",
    "NUM_LABELS = 126 # amount of the different topics\n",
    "ADAM_DEFAULT_LR = 1e-5\n",
    "\n",
    "model_1 = BertForSequenceClassification.from_pretrained(\"bert-base-uncased\", num_labels=NUM_LABELS)\n",
    "model_1.to(device)\n",
    "\n",
    "optimizer_1 = AdamW(model_1.parameters(), lr=ADAM_DEFAULT_LR)\n",
    "criterion_1 = BCEWithLogitsLoss() "
   ]
  },
  {
   "cell_type": "code",
   "execution_count": null,
   "metadata": {},
   "outputs": [],
   "source": []
  }
 ],
 "metadata": {
  "kernelspec": {
   "display_name": "Python 3",
   "language": "python",
   "name": "python3"
  },
  "language_info": {
   "codemirror_mode": {
    "name": "ipython",
    "version": 3
   },
   "file_extension": ".py",
   "mimetype": "text/x-python",
   "name": "python",
   "nbconvert_exporter": "python",
   "pygments_lexer": "ipython3",
   "version": "3.7.6"
  }
 },
 "nbformat": 4,
 "nbformat_minor": 4
}
