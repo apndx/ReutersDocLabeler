{
 "cells": [
  {
   "cell_type": "markdown",
   "metadata": {},
   "source": [
    "###  Reuters corpus topic classification\n",
    "\n",
    "This project is about topic classification on the Reuters corpus. It is multi-label classification: there can be more than one topics associated with each document.\n",
    "\n",
    "#### Data\n",
    "\n",
    "Test data will be extracted from XML-documents, taking input from <headline></headline> and <text></text>, target classes from <codes class = 'bip:topics:1.0'><code code = \"topic_i\"></code></codes>\n",
    "\n",
    "input: 'document text string, each row a document'\n",
    "target: ['topic_1', '...', 'topic_n'] = [0, ...., 1, 0]\n",
    "\n",
    "\n",
    "There are 126 topics that are listed in the topic_codes.txt.\n"
   ]
  },
  {
   "cell_type": "code",
   "execution_count": 3,
   "metadata": {},
   "outputs": [
    {
     "name": "stderr",
     "output_type": "stream",
     "text": [
      "/home/hdheli/anaconda3/lib/python3.7/site-packages/torchaudio/backend/utils.py:54: UserWarning: \"sox\" backend is being deprecated. The default backend will be changed to \"sox_io\" backend in 0.8.0 and \"sox\" backend will be removed in 0.9.0. Please migrate to \"sox_io\" backend. Please refer to https://github.com/pytorch/audio/issues/903 for the detail.\n",
      "  '\"sox\" backend is being deprecated. '\n"
     ]
    }
   ],
   "source": [
    "import pandas as pd\n",
    "import numpy as np\n",
    "import matplotlib.pyplot as plt\n",
    "import torch\n",
    "import torch.nn as nn\n",
    "from torch.nn import BCEWithLogitsLoss\n",
    "from torch.utils.data import TensorDataset, DataLoader, RandomSampler\n",
    "from transformers import *\n",
    "from sklearn.model_selection import train_test_split"
   ]
  },
  {
   "cell_type": "code",
   "execution_count": 4,
   "metadata": {},
   "outputs": [
    {
     "data": {
      "text/html": [
       "<div>\n",
       "<style scoped>\n",
       "    .dataframe tbody tr th:only-of-type {\n",
       "        vertical-align: middle;\n",
       "    }\n",
       "\n",
       "    .dataframe tbody tr th {\n",
       "        vertical-align: top;\n",
       "    }\n",
       "\n",
       "    .dataframe thead th {\n",
       "        text-align: right;\n",
       "    }\n",
       "</style>\n",
       "<table border=\"1\" class=\"dataframe\">\n",
       "  <thead>\n",
       "    <tr style=\"text-align: right;\">\n",
       "      <th></th>\n",
       "      <th>CODE</th>\n",
       "      <th>DESCRIPTION</th>\n",
       "    </tr>\n",
       "  </thead>\n",
       "  <tbody>\n",
       "    <tr>\n",
       "      <th>0</th>\n",
       "      <td>1POL</td>\n",
       "      <td>CURRENT NEWS - POLITICS</td>\n",
       "    </tr>\n",
       "    <tr>\n",
       "      <th>1</th>\n",
       "      <td>2ECO</td>\n",
       "      <td>CURRENT NEWS - ECONOMICS</td>\n",
       "    </tr>\n",
       "    <tr>\n",
       "      <th>2</th>\n",
       "      <td>3SPO</td>\n",
       "      <td>CURRENT NEWS - SPORT</td>\n",
       "    </tr>\n",
       "    <tr>\n",
       "      <th>3</th>\n",
       "      <td>4GEN</td>\n",
       "      <td>CURRENT NEWS - GENERAL</td>\n",
       "    </tr>\n",
       "    <tr>\n",
       "      <th>4</th>\n",
       "      <td>6INS</td>\n",
       "      <td>CURRENT NEWS - INSURANCE</td>\n",
       "    </tr>\n",
       "    <tr>\n",
       "      <th>...</th>\n",
       "      <td>...</td>\n",
       "      <td>...</td>\n",
       "    </tr>\n",
       "    <tr>\n",
       "      <th>121</th>\n",
       "      <td>M142</td>\n",
       "      <td>METALS TRADING</td>\n",
       "    </tr>\n",
       "    <tr>\n",
       "      <th>122</th>\n",
       "      <td>M143</td>\n",
       "      <td>ENERGY MARKETS</td>\n",
       "    </tr>\n",
       "    <tr>\n",
       "      <th>123</th>\n",
       "      <td>MCAT</td>\n",
       "      <td>MARKETS</td>\n",
       "    </tr>\n",
       "    <tr>\n",
       "      <th>124</th>\n",
       "      <td>MEUR</td>\n",
       "      <td>EURO CURRENCY</td>\n",
       "    </tr>\n",
       "    <tr>\n",
       "      <th>125</th>\n",
       "      <td>PRB13</td>\n",
       "      <td>CURRENT NEWS - PRESS RELEASE WIRES</td>\n",
       "    </tr>\n",
       "  </tbody>\n",
       "</table>\n",
       "<p>126 rows × 2 columns</p>\n",
       "</div>"
      ],
      "text/plain": [
       "      CODE                         DESCRIPTION\n",
       "0     1POL             CURRENT NEWS - POLITICS\n",
       "1     2ECO            CURRENT NEWS - ECONOMICS\n",
       "2     3SPO                CURRENT NEWS - SPORT\n",
       "3     4GEN              CURRENT NEWS - GENERAL\n",
       "4     6INS            CURRENT NEWS - INSURANCE\n",
       "..     ...                                 ...\n",
       "121   M142                      METALS TRADING\n",
       "122   M143                      ENERGY MARKETS\n",
       "123   MCAT                             MARKETS\n",
       "124   MEUR                       EURO CURRENCY\n",
       "125  PRB13  CURRENT NEWS - PRESS RELEASE WIRES\n",
       "\n",
       "[126 rows x 2 columns]"
      ]
     },
     "execution_count": 4,
     "metadata": {},
     "output_type": "execute_result"
    }
   ],
   "source": [
    "topics = pd.read_csv('mock-data/topic_codes.txt', delimiter='\\t')\n",
    "topics"
   ]
  },
  {
   "cell_type": "code",
   "execution_count": 15,
   "metadata": {},
   "outputs": [
    {
     "data": {
      "text/plain": [
       "0       1POL\n",
       "1       2ECO\n",
       "2       3SPO\n",
       "3       4GEN\n",
       "4       6INS\n",
       "       ...  \n",
       "121     M142\n",
       "122     M143\n",
       "123     MCAT\n",
       "124     MEUR\n",
       "125    PRB13\n",
       "Name: CODE, Length: 126, dtype: object"
      ]
     },
     "execution_count": 15,
     "metadata": {},
     "output_type": "execute_result"
    }
   ],
   "source": [
    "codes = topics['CODE']\n",
    "codes"
   ]
  },
  {
   "cell_type": "markdown",
   "metadata": {},
   "source": [
    "### Exploring code combination distribution\n",
    "\n",
    "Now there is the actual data in a csv file, let's do some analysis on it.\n",
    "\n",
    "Five of the code combinations are quite common, there are 20 000 -10 000 examples for them.\n",
    "\n",
    "Half of the combinations however have only one example.\n"
   ]
  },
  {
   "cell_type": "code",
   "execution_count": 12,
   "metadata": {},
   "outputs": [],
   "source": [
    "trunc_large_data_strings = pd.read_csv('reuters-csv/inputs_trunc.csv', delimiter=';')"
   ]
  },
  {
   "cell_type": "code",
   "execution_count": 140,
   "metadata": {},
   "outputs": [
    {
     "data": {
      "text/plain": [
       "<bound method NDFrame.describe of                                                      text  \\\n",
       "0       Official Journal contents - OJ C 169 of June 4...   \n",
       "1       Official Journal contents - OJ L 144 of June 4...   \n",
       "2       Suncor lowers Canada heavy oil price. COMPANY ...   \n",
       "3       Suncor cuts Canada light oil prices. COMPANY E...   \n",
       "4       Toronto stocks end softer, more consolidation ...   \n",
       "...                                                   ...   \n",
       "299768  Reuters French Advertising & Media Digest -Jul...   \n",
       "299769  Fleming issues buy recommendation on M6. Flemi...   \n",
       "299770  China to launch Internet service for science d...   \n",
       "299771  Reuters German Advertising & Media Digest -Jul...   \n",
       "299772  Singapore Internet gets boost from television ...   \n",
       "\n",
       "                                                   target  \\\n",
       "0       [0, 0, 0, 0, 0, 0, 0, 0, 0, 0, 0, 0, 0, 0, 0, ...   \n",
       "1       [0, 0, 0, 0, 0, 0, 0, 0, 0, 0, 0, 0, 0, 0, 0, ...   \n",
       "2       [0, 0, 0, 0, 0, 0, 0, 0, 0, 0, 0, 0, 0, 0, 0, ...   \n",
       "3       [0, 0, 0, 0, 0, 0, 0, 0, 0, 0, 0, 0, 0, 0, 0, ...   \n",
       "4       [0, 0, 0, 0, 0, 0, 0, 0, 0, 0, 0, 0, 0, 0, 0, ...   \n",
       "...                                                   ...   \n",
       "299768  [0, 0, 0, 0, 0, 0, 0, 0, 0, 0, 0, 0, 0, 0, 0, ...   \n",
       "299769  [0, 0, 0, 0, 0, 0, 0, 0, 0, 0, 0, 0, 0, 0, 0, ...   \n",
       "299770  [0, 0, 0, 0, 0, 0, 0, 0, 0, 0, 0, 0, 0, 0, 0, ...   \n",
       "299771  [0, 0, 0, 0, 0, 0, 0, 0, 0, 0, 0, 0, 0, 0, 0, ...   \n",
       "299772  [0, 0, 0, 0, 0, 0, 0, 0, 0, 0, 0, 0, 0, 0, 0, ...   \n",
       "\n",
       "                          codes  \n",
       "0               ['G15', 'GCAT']  \n",
       "1               ['G15', 'GCAT']  \n",
       "2       ['M14', 'M143', 'MCAT']  \n",
       "3       ['M14', 'M143', 'MCAT']  \n",
       "4               ['M11', 'MCAT']  \n",
       "...                         ...  \n",
       "299768          ['C32', 'CCAT']  \n",
       "299769                 ['C152']  \n",
       "299770         ['GCAT', 'GSCI']  \n",
       "299771          ['C32', 'CCAT']  \n",
       "299772          ['C22', 'CCAT']  \n",
       "\n",
       "[299773 rows x 3 columns]>"
      ]
     },
     "execution_count": 140,
     "metadata": {},
     "output_type": "execute_result"
    }
   ],
   "source": [
    "trunc_large_data_strings.describe"
   ]
  },
  {
   "cell_type": "code",
   "execution_count": 7,
   "metadata": {},
   "outputs": [
    {
     "data": {
      "text/plain": [
       "['C15', 'C151', 'CCAT']                                            22203\n",
       "['C15', 'C152', 'CCAT']                                            19751\n",
       "['M11', 'MCAT']                                                    15791\n",
       "['M14', 'M141', 'MCAT']                                            14675\n",
       "['GCAT', 'GSPO']                                                   12390\n",
       "                                                                   ...  \n",
       "['C14', 'C18', 'C181', 'C183', 'CCAT']                                 1\n",
       "['C11', 'C12', 'C33', 'CCAT', 'GCAT', 'GCRIM']                         1\n",
       "['C13', 'CCAT', 'E51', 'E512', 'ECAT', 'GCAT', 'GENT']                 1\n",
       "['C12', 'CCAT', 'E51', 'E512', 'ECAT', 'GCAT', 'GCRIM', 'GDIP']        1\n",
       "['C18', 'C183', 'CCAT', 'E12', 'E21', 'ECAT']                          1\n",
       "Name: codes, Length: 8326, dtype: int64"
      ]
     },
     "execution_count": 7,
     "metadata": {},
     "output_type": "execute_result"
    }
   ],
   "source": [
    "code_freqs = trunc_large_data_strings['codes'].value_counts()\n",
    "code_freqs"
   ]
  },
  {
   "cell_type": "code",
   "execution_count": 146,
   "metadata": {},
   "outputs": [
    {
     "data": {
      "text/html": [
       "<div>\n",
       "<style scoped>\n",
       "    .dataframe tbody tr th:only-of-type {\n",
       "        vertical-align: middle;\n",
       "    }\n",
       "\n",
       "    .dataframe tbody tr th {\n",
       "        vertical-align: top;\n",
       "    }\n",
       "\n",
       "    .dataframe thead th {\n",
       "        text-align: right;\n",
       "    }\n",
       "</style>\n",
       "<table border=\"1\" class=\"dataframe\">\n",
       "  <thead>\n",
       "    <tr style=\"text-align: right;\">\n",
       "      <th></th>\n",
       "      <th>codes</th>\n",
       "    </tr>\n",
       "  </thead>\n",
       "  <tbody>\n",
       "    <tr>\n",
       "      <th>['C15', 'C151', 'CCAT']</th>\n",
       "      <td>22203</td>\n",
       "    </tr>\n",
       "    <tr>\n",
       "      <th>['C15', 'C152', 'CCAT']</th>\n",
       "      <td>19751</td>\n",
       "    </tr>\n",
       "    <tr>\n",
       "      <th>['M11', 'MCAT']</th>\n",
       "      <td>15791</td>\n",
       "    </tr>\n",
       "    <tr>\n",
       "      <th>['M14', 'M141', 'MCAT']</th>\n",
       "      <td>14675</td>\n",
       "    </tr>\n",
       "    <tr>\n",
       "      <th>['GCAT', 'GSPO']</th>\n",
       "      <td>12390</td>\n",
       "    </tr>\n",
       "    <tr>\n",
       "      <th>...</th>\n",
       "      <td>...</td>\n",
       "    </tr>\n",
       "    <tr>\n",
       "      <th>['C12', 'C13', 'CCAT', 'GCAT', 'GCRIM', 'GENV', 'GPOL']</th>\n",
       "      <td>1</td>\n",
       "    </tr>\n",
       "    <tr>\n",
       "      <th>['C13', 'CCAT', 'E12', 'ECAT', 'GCAT', 'GODD']</th>\n",
       "      <td>1</td>\n",
       "    </tr>\n",
       "    <tr>\n",
       "      <th>['C13', 'C17', 'C171', 'C18', 'C183', 'C34', 'CCAT']</th>\n",
       "      <td>1</td>\n",
       "    </tr>\n",
       "    <tr>\n",
       "      <th>['C15', 'C152', 'C31', 'CCAT', 'GCAT', 'GENT']</th>\n",
       "      <td>1</td>\n",
       "    </tr>\n",
       "    <tr>\n",
       "      <th>['E51', 'E512', 'ECAT', 'GCAT', 'GCRIM', 'GDEF', 'GPOL']</th>\n",
       "      <td>1</td>\n",
       "    </tr>\n",
       "  </tbody>\n",
       "</table>\n",
       "<p>8326 rows × 1 columns</p>\n",
       "</div>"
      ],
      "text/plain": [
       "                                                    codes\n",
       "['C15', 'C151', 'CCAT']                             22203\n",
       "['C15', 'C152', 'CCAT']                             19751\n",
       "['M11', 'MCAT']                                     15791\n",
       "['M14', 'M141', 'MCAT']                             14675\n",
       "['GCAT', 'GSPO']                                    12390\n",
       "...                                                   ...\n",
       "['C12', 'C13', 'CCAT', 'GCAT', 'GCRIM', 'GENV',...      1\n",
       "['C13', 'CCAT', 'E12', 'ECAT', 'GCAT', 'GODD']          1\n",
       "['C13', 'C17', 'C171', 'C18', 'C183', 'C34', 'C...      1\n",
       "['C15', 'C152', 'C31', 'CCAT', 'GCAT', 'GENT']          1\n",
       "['E51', 'E512', 'ECAT', 'GCAT', 'GCRIM', 'GDEF'...      1\n",
       "\n",
       "[8326 rows x 1 columns]"
      ]
     },
     "execution_count": 146,
     "metadata": {},
     "output_type": "execute_result"
    }
   ],
   "source": [
    "# these are more frecuent\n",
    "code_freq_df = code_freqs.to_frame()\n",
    "code_freq_df"
   ]
  },
  {
   "cell_type": "code",
   "execution_count": 147,
   "metadata": {},
   "outputs": [
    {
     "data": {
      "text/html": [
       "<div>\n",
       "<style scoped>\n",
       "    .dataframe tbody tr th:only-of-type {\n",
       "        vertical-align: middle;\n",
       "    }\n",
       "\n",
       "    .dataframe tbody tr th {\n",
       "        vertical-align: top;\n",
       "    }\n",
       "\n",
       "    .dataframe thead th {\n",
       "        text-align: right;\n",
       "    }\n",
       "</style>\n",
       "<table border=\"1\" class=\"dataframe\">\n",
       "  <thead>\n",
       "    <tr style=\"text-align: right;\">\n",
       "      <th></th>\n",
       "      <th>codes</th>\n",
       "    </tr>\n",
       "  </thead>\n",
       "  <tbody>\n",
       "    <tr>\n",
       "      <th>['C15', 'C151', 'CCAT']</th>\n",
       "      <td>22203</td>\n",
       "    </tr>\n",
       "    <tr>\n",
       "      <th>['C15', 'C152', 'CCAT']</th>\n",
       "      <td>19751</td>\n",
       "    </tr>\n",
       "    <tr>\n",
       "      <th>['M11', 'MCAT']</th>\n",
       "      <td>15791</td>\n",
       "    </tr>\n",
       "    <tr>\n",
       "      <th>['M14', 'M141', 'MCAT']</th>\n",
       "      <td>14675</td>\n",
       "    </tr>\n",
       "    <tr>\n",
       "      <th>['GCAT', 'GSPO']</th>\n",
       "      <td>12390</td>\n",
       "    </tr>\n",
       "  </tbody>\n",
       "</table>\n",
       "</div>"
      ],
      "text/plain": [
       "                         codes\n",
       "['C15', 'C151', 'CCAT']  22203\n",
       "['C15', 'C152', 'CCAT']  19751\n",
       "['M11', 'MCAT']          15791\n",
       "['M14', 'M141', 'MCAT']  14675\n",
       "['GCAT', 'GSPO']         12390"
      ]
     },
     "execution_count": 147,
     "metadata": {},
     "output_type": "execute_result"
    }
   ],
   "source": [
    "frequent_combos = code_freq_df[code_freq_df['codes']>10000]\n",
    "frequent_combos"
   ]
  },
  {
   "cell_type": "code",
   "execution_count": 148,
   "metadata": {},
   "outputs": [
    {
     "data": {
      "text/html": [
       "<div>\n",
       "<style scoped>\n",
       "    .dataframe tbody tr th:only-of-type {\n",
       "        vertical-align: middle;\n",
       "    }\n",
       "\n",
       "    .dataframe tbody tr th {\n",
       "        vertical-align: top;\n",
       "    }\n",
       "\n",
       "    .dataframe thead th {\n",
       "        text-align: right;\n",
       "    }\n",
       "</style>\n",
       "<table border=\"1\" class=\"dataframe\">\n",
       "  <thead>\n",
       "    <tr style=\"text-align: right;\">\n",
       "      <th></th>\n",
       "      <th>codes</th>\n",
       "    </tr>\n",
       "  </thead>\n",
       "  <tbody>\n",
       "    <tr>\n",
       "      <th>['C13', 'C17', 'C173', 'CCAT']</th>\n",
       "      <td>9</td>\n",
       "    </tr>\n",
       "    <tr>\n",
       "      <th>['M11', 'M13', 'M131', 'M132', 'MCAT']</th>\n",
       "      <td>9</td>\n",
       "    </tr>\n",
       "    <tr>\n",
       "      <th>['E41', 'ECAT', 'GCAT', 'GCRIM', 'GJOB', 'GPOL']</th>\n",
       "      <td>9</td>\n",
       "    </tr>\n",
       "    <tr>\n",
       "      <th>['GCAT', 'GFAS', 'GOBIT', 'GPRO']</th>\n",
       "      <td>9</td>\n",
       "    </tr>\n",
       "    <tr>\n",
       "      <th>['C11', 'C18', 'C181', 'C182', 'CCAT']</th>\n",
       "      <td>9</td>\n",
       "    </tr>\n",
       "    <tr>\n",
       "      <th>...</th>\n",
       "      <td>...</td>\n",
       "    </tr>\n",
       "    <tr>\n",
       "      <th>['C12', 'C13', 'CCAT', 'GCAT', 'GCRIM', 'GENV', 'GPOL']</th>\n",
       "      <td>1</td>\n",
       "    </tr>\n",
       "    <tr>\n",
       "      <th>['C13', 'CCAT', 'E12', 'ECAT', 'GCAT', 'GODD']</th>\n",
       "      <td>1</td>\n",
       "    </tr>\n",
       "    <tr>\n",
       "      <th>['C13', 'C17', 'C171', 'C18', 'C183', 'C34', 'CCAT']</th>\n",
       "      <td>1</td>\n",
       "    </tr>\n",
       "    <tr>\n",
       "      <th>['C15', 'C152', 'C31', 'CCAT', 'GCAT', 'GENT']</th>\n",
       "      <td>1</td>\n",
       "    </tr>\n",
       "    <tr>\n",
       "      <th>['E51', 'E512', 'ECAT', 'GCAT', 'GCRIM', 'GDEF', 'GPOL']</th>\n",
       "      <td>1</td>\n",
       "    </tr>\n",
       "  </tbody>\n",
       "</table>\n",
       "<p>7279 rows × 1 columns</p>\n",
       "</div>"
      ],
      "text/plain": [
       "                                                    codes\n",
       "['C13', 'C17', 'C173', 'CCAT']                          9\n",
       "['M11', 'M13', 'M131', 'M132', 'MCAT']                  9\n",
       "['E41', 'ECAT', 'GCAT', 'GCRIM', 'GJOB', 'GPOL']        9\n",
       "['GCAT', 'GFAS', 'GOBIT', 'GPRO']                       9\n",
       "['C11', 'C18', 'C181', 'C182', 'CCAT']                  9\n",
       "...                                                   ...\n",
       "['C12', 'C13', 'CCAT', 'GCAT', 'GCRIM', 'GENV',...      1\n",
       "['C13', 'CCAT', 'E12', 'ECAT', 'GCAT', 'GODD']          1\n",
       "['C13', 'C17', 'C171', 'C18', 'C183', 'C34', 'C...      1\n",
       "['C15', 'C152', 'C31', 'CCAT', 'GCAT', 'GENT']          1\n",
       "['E51', 'E512', 'ECAT', 'GCAT', 'GCRIM', 'GDEF'...      1\n",
       "\n",
       "[7279 rows x 1 columns]"
      ]
     },
     "execution_count": 148,
     "metadata": {},
     "output_type": "execute_result"
    }
   ],
   "source": [
    "rare_combos = code_freq_df[code_freq_df['codes']<10]\n",
    "rare_combos"
   ]
  },
  {
   "cell_type": "code",
   "execution_count": 150,
   "metadata": {},
   "outputs": [
    {
     "data": {
      "text/html": [
       "<div>\n",
       "<style scoped>\n",
       "    .dataframe tbody tr th:only-of-type {\n",
       "        vertical-align: middle;\n",
       "    }\n",
       "\n",
       "    .dataframe tbody tr th {\n",
       "        vertical-align: top;\n",
       "    }\n",
       "\n",
       "    .dataframe thead th {\n",
       "        text-align: right;\n",
       "    }\n",
       "</style>\n",
       "<table border=\"1\" class=\"dataframe\">\n",
       "  <thead>\n",
       "    <tr style=\"text-align: right;\">\n",
       "      <th></th>\n",
       "      <th>codes</th>\n",
       "    </tr>\n",
       "  </thead>\n",
       "  <tbody>\n",
       "    <tr>\n",
       "      <th>['E12', 'GPOL', 'GVOTE', 'M132']</th>\n",
       "      <td>1</td>\n",
       "    </tr>\n",
       "    <tr>\n",
       "      <th>['C11', 'C15', 'C152', 'C17', 'C171', 'C41', 'C411', 'CCAT']</th>\n",
       "      <td>1</td>\n",
       "    </tr>\n",
       "    <tr>\n",
       "      <th>['C24', 'CCAT', 'GCAT', 'GDEF', 'GSCI']</th>\n",
       "      <td>1</td>\n",
       "    </tr>\n",
       "    <tr>\n",
       "      <th>['C13', 'C15', 'CCAT', 'G15', 'G152', 'GCAT']</th>\n",
       "      <td>1</td>\n",
       "    </tr>\n",
       "    <tr>\n",
       "      <th>['C11', 'C13', 'C18', 'C181', 'C34', 'CCAT', 'G15', 'G152', 'G157', 'GCAT']</th>\n",
       "      <td>1</td>\n",
       "    </tr>\n",
       "    <tr>\n",
       "      <th>...</th>\n",
       "      <td>...</td>\n",
       "    </tr>\n",
       "    <tr>\n",
       "      <th>['C12', 'C13', 'CCAT', 'GCAT', 'GCRIM', 'GENV', 'GPOL']</th>\n",
       "      <td>1</td>\n",
       "    </tr>\n",
       "    <tr>\n",
       "      <th>['C13', 'CCAT', 'E12', 'ECAT', 'GCAT', 'GODD']</th>\n",
       "      <td>1</td>\n",
       "    </tr>\n",
       "    <tr>\n",
       "      <th>['C13', 'C17', 'C171', 'C18', 'C183', 'C34', 'CCAT']</th>\n",
       "      <td>1</td>\n",
       "    </tr>\n",
       "    <tr>\n",
       "      <th>['C15', 'C152', 'C31', 'CCAT', 'GCAT', 'GENT']</th>\n",
       "      <td>1</td>\n",
       "    </tr>\n",
       "    <tr>\n",
       "      <th>['E51', 'E512', 'ECAT', 'GCAT', 'GCRIM', 'GDEF', 'GPOL']</th>\n",
       "      <td>1</td>\n",
       "    </tr>\n",
       "  </tbody>\n",
       "</table>\n",
       "<p>4596 rows × 1 columns</p>\n",
       "</div>"
      ],
      "text/plain": [
       "                                                    codes\n",
       "['E12', 'GPOL', 'GVOTE', 'M132']                        1\n",
       "['C11', 'C15', 'C152', 'C17', 'C171', 'C41', 'C...      1\n",
       "['C24', 'CCAT', 'GCAT', 'GDEF', 'GSCI']                 1\n",
       "['C13', 'C15', 'CCAT', 'G15', 'G152', 'GCAT']           1\n",
       "['C11', 'C13', 'C18', 'C181', 'C34', 'CCAT', 'G...      1\n",
       "...                                                   ...\n",
       "['C12', 'C13', 'CCAT', 'GCAT', 'GCRIM', 'GENV',...      1\n",
       "['C13', 'CCAT', 'E12', 'ECAT', 'GCAT', 'GODD']          1\n",
       "['C13', 'C17', 'C171', 'C18', 'C183', 'C34', 'C...      1\n",
       "['C15', 'C152', 'C31', 'CCAT', 'GCAT', 'GENT']          1\n",
       "['E51', 'E512', 'ECAT', 'GCAT', 'GCRIM', 'GDEF'...      1\n",
       "\n",
       "[4596 rows x 1 columns]"
      ]
     },
     "execution_count": 150,
     "metadata": {},
     "output_type": "execute_result"
    }
   ],
   "source": [
    "code_freq_df[code_freq_df['codes']==1]"
   ]
  },
  {
   "cell_type": "code",
   "execution_count": 8,
   "metadata": {},
   "outputs": [
    {
     "data": {
      "text/plain": [
       "<matplotlib.axes._subplots.AxesSubplot at 0x7f6f27be2110>"
      ]
     },
     "execution_count": 8,
     "metadata": {},
     "output_type": "execute_result"
    },
    {
     "data": {
      "image/png": "[encoded data removed]",
      "text/plain": [
       "<Figure size 1440x720 with 1 Axes>"
      ]
     },
     "metadata": {
      "needs_background": "light"
     },
     "output_type": "display_data"
    }
   ],
   "source": [
    "code_freqs.plot(figsize=(20,10), rot=90)"
   ]
  },
  {
   "cell_type": "code",
   "execution_count": 9,
   "metadata": {},
   "outputs": [],
   "source": [
    "#  because of the target and codes are stored as strings and not as list, I will convert them back to lists\n",
    "trunc_large_data = trunc_large_data_strings.copy(deep=True)\n",
    "trunc_large_data['target'] = trunc_large_data['target'].apply(eval)\n",
    "trunc_large_data['codes'] = trunc_large_data['codes'].apply(eval)"
   ]
  },
  {
   "cell_type": "code",
   "execution_count": 162,
   "metadata": {},
   "outputs": [
    {
     "data": {
      "text/plain": [
       "0               [G15, GCAT]\n",
       "1               [G15, GCAT]\n",
       "2         [M14, M143, MCAT]\n",
       "3         [M14, M143, MCAT]\n",
       "4               [M11, MCAT]\n",
       "                ...        \n",
       "299768          [C32, CCAT]\n",
       "299769               [C152]\n",
       "299770         [GCAT, GSCI]\n",
       "299771          [C32, CCAT]\n",
       "299772          [C22, CCAT]\n",
       "Name: codes, Length: 299773, dtype: object"
      ]
     },
     "execution_count": 162,
     "metadata": {},
     "output_type": "execute_result"
    }
   ],
   "source": [
    "trunc_large_data['codes']"
   ]
  },
  {
   "cell_type": "code",
   "execution_count": 15,
   "metadata": {},
   "outputs": [],
   "source": [
    "# function to explore the amounts of single codes, return a sorted dictionary\n",
    "\n",
    "def code_amount_check(data):\n",
    "    codes_amount_dict = {}\n",
    "    for index, code_list in data['codes'].iteritems():\n",
    "        for code in code_list:\n",
    "            if codes_amount_dict.get(code) == None:\n",
    "                codes_amount_dict[code] = 1\n",
    "            else: \n",
    "                codes_amount_dict[code] += 1\n",
    "                \n",
    "    sorted_code_amounts = dict(sorted(codes_amount_dict.items(), key=lambda item: item[1]))            \n",
    "    return sorted_code_amounts          "
   ]
  },
  {
   "cell_type": "code",
   "execution_count": 173,
   "metadata": {},
   "outputs": [
    {
     "data": {
      "text/plain": [
       "{'GMIL': 4,\n",
       " 'G159': 8,\n",
       " 'E312': 19,\n",
       " 'E313': 38,\n",
       " 'G156': 55,\n",
       " 'E142': 70,\n",
       " 'E61': 122,\n",
       " 'GFAS': 141,\n",
       " 'E141': 162,\n",
       " 'GTOUR': 187,\n",
       " 'GOBIT': 301,\n",
       " 'E132': 348,\n",
       " 'C313': 381,\n",
       " 'C331': 401,\n",
       " 'E143': 432,\n",
       " 'C16': 591,\n",
       " 'E311': 619,\n",
       " 'GWELF': 664,\n",
       " 'G152': 671,\n",
       " 'G155': 704,\n",
       " 'E121': 747,\n",
       " 'E411': 760,\n",
       " 'G153': 761,\n",
       " 'E14': 778,\n",
       " 'G157': 801,\n",
       " 'E31': 857,\n",
       " 'C32': 919,\n",
       " 'E511': 949,\n",
       " 'C23': 958,\n",
       " 'GODD': 975,\n",
       " 'GSCI': 989,\n",
       " 'GREL': 989,\n",
       " 'E513': 1019,\n",
       " 'C173': 1043,\n",
       " 'G151': 1101,\n",
       " 'GENT': 1310,\n",
       " 'C174': 1358,\n",
       " 'C311': 1423,\n",
       " 'G158': 1479,\n",
       " 'GPRO': 1560,\n",
       " 'C182': 1658,\n",
       " 'GWEA': 1675,\n",
       " 'C34': 1843,\n",
       " 'C22': 1890,\n",
       " 'E71': 1892,\n",
       " 'E131': 2011,\n",
       " 'GHEA': 2111,\n",
       " 'C312': 2153,\n",
       " 'E13': 2280,\n",
       " 'GENV': 2429,\n",
       " 'C183': 2708,\n",
       " 'C14': 2770,\n",
       " 'E11': 2971,\n",
       " 'G154': 3177,\n",
       " 'GDEF': 3245,\n",
       " 'GDIS': 3393,\n",
       " 'C411': 3682,\n",
       " 'C42': 3794,\n",
       " 'C41': 4089,\n",
       " 'GVOTE': 4222,\n",
       " 'E512': 4251,\n",
       " 'C172': 4254,\n",
       " 'C12': 4693,\n",
       " 'M142': 4996,\n",
       " 'C33': 5383,\n",
       " 'E41': 5693,\n",
       " 'GJOB': 5759,\n",
       " 'E211': 6244,\n",
       " 'C171': 6565,\n",
       " 'G15': 6731,\n",
       " 'E51': 7419,\n",
       " 'C11': 8350,\n",
       " 'C1511': 8429,\n",
       " 'C21': 8641,\n",
       " 'M143': 8658,\n",
       " 'E212': 9757,\n",
       " 'E12': 10253,\n",
       " 'GVIO': 10668,\n",
       " 'M131': 10930,\n",
       " 'M12': 11210,\n",
       " 'M132': 11298,\n",
       " 'C24': 11338,\n",
       " 'GCRIM': 11705,\n",
       " 'GSPO': 12592,\n",
       " 'GDIP': 13040,\n",
       " 'C13': 13216,\n",
       " 'C31': 13862,\n",
       " 'C17': 14398,\n",
       " 'C181': 15598,\n",
       " 'E21': 16055,\n",
       " 'C18': 18675,\n",
       " 'M141': 19124,\n",
       " 'M11': 19593,\n",
       " 'GPOL': 20042,\n",
       " 'M13': 21499,\n",
       " 'C152': 27095,\n",
       " 'M14': 33786,\n",
       " 'C151': 33963,\n",
       " 'ECAT': 42374,\n",
       " 'C15': 59207,\n",
       " 'MCAT': 81940,\n",
       " 'GCAT': 82580,\n",
       " 'CCAT': 137531}"
      ]
     },
     "execution_count": 173,
     "metadata": {},
     "output_type": "execute_result"
    }
   ],
   "source": [
    "large_trunc_codes_amount_dict = code_amount_check(trunc_large_data)\n",
    "large_trunc_codes_amount_dict"
   ]
  },
  {
   "cell_type": "code",
   "execution_count": 171,
   "metadata": {},
   "outputs": [
    {
     "data": {
      "image/png": "[encoded data removed]",
      "text/plain": [
       "<Figure size 1440x720 with 1 Axes>"
      ]
     },
     "metadata": {
      "needs_background": "light"
     },
     "output_type": "display_data"
    }
   ],
   "source": [
    "plt.barh(range(len(codes_amount_dict)), codes_amount_dict.values())\n",
    "plt.rcParams[\"figure.figsize\"] = (20,10)\n",
    "plt.show()"
   ]
  },
  {
   "cell_type": "markdown",
   "metadata": {},
   "source": [
    "### Trying out transformer and BERT\n",
    "\n",
    "Next I will be trying out things presented in a blog post: [Transformers for Multi-Label Classification made simple.](https://towardsdatascience.com/transformers-for-multilabel-classification-71a1a0daf5e1)\n",
    "\n",
    "I will also utilize some code from the home exercises of Deep Learning course.\n",
    "\n",
    "#### Data splits and dataloaders\n",
    "\n",
    "Let's split the data and make iterators for batch training."
   ]
  },
  {
   "cell_type": "code",
   "execution_count": 11,
   "metadata": {},
   "outputs": [],
   "source": [
    "# data to lists\n",
    "\n",
    "documents = list(trunc_large_data.text.values)\n",
    "labels = list(trunc_large_data.target.values)"
   ]
  },
  {
   "cell_type": "code",
   "execution_count": 11,
   "metadata": {},
   "outputs": [
    {
     "ename": "NameError",
     "evalue": "name 'documents' is not defined",
     "output_type": "error",
     "traceback": [
      "\u001b[0;31m---------------------------------------------------------------------------\u001b[0m",
      "\u001b[0;31mNameError\u001b[0m                                 Traceback (most recent call last)",
      "\u001b[0;32m<ipython-input-11-145225527347>\u001b[0m in \u001b[0;36m<module>\u001b[0;34m\u001b[0m\n\u001b[1;32m      3\u001b[0m \u001b[0;31m# encodings\u001b[0m\u001b[0;34m\u001b[0m\u001b[0;34m\u001b[0m\u001b[0;34m\u001b[0m\u001b[0m\n\u001b[1;32m      4\u001b[0m \u001b[0;34m\u001b[0m\u001b[0m\n\u001b[0;32m----> 5\u001b[0;31m \u001b[0mencodings\u001b[0m \u001b[0;34m=\u001b[0m \u001b[0mtokenizer\u001b[0m\u001b[0;34m.\u001b[0m\u001b[0mbatch_encode_plus\u001b[0m\u001b[0;34m(\u001b[0m\u001b[0mdocuments\u001b[0m\u001b[0;34m,\u001b[0m \u001b[0mpadding\u001b[0m\u001b[0;34m=\u001b[0m\u001b[0;34m'max_length'\u001b[0m\u001b[0;34m,\u001b[0m \u001b[0mtruncation\u001b[0m\u001b[0;34m=\u001b[0m\u001b[0;32mTrue\u001b[0m\u001b[0;34m)\u001b[0m \u001b[0;31m# tokenizer's encoding method\u001b[0m\u001b[0;34m\u001b[0m\u001b[0;34m\u001b[0m\u001b[0m\n\u001b[0m\u001b[1;32m      6\u001b[0m \u001b[0minput_ids\u001b[0m \u001b[0;34m=\u001b[0m \u001b[0mencodings\u001b[0m\u001b[0;34m[\u001b[0m\u001b[0;34m'input_ids'\u001b[0m\u001b[0;34m]\u001b[0m \u001b[0;31m# tokenized and encoded sentences\u001b[0m\u001b[0;34m\u001b[0m\u001b[0;34m\u001b[0m\u001b[0m\n\u001b[1;32m      7\u001b[0m \u001b[0mtoken_type_ids\u001b[0m \u001b[0;34m=\u001b[0m \u001b[0mencodings\u001b[0m\u001b[0;34m[\u001b[0m\u001b[0;34m'token_type_ids'\u001b[0m\u001b[0;34m]\u001b[0m \u001b[0;31m# token type ids\u001b[0m\u001b[0;34m\u001b[0m\u001b[0;34m\u001b[0m\u001b[0m\n",
      "\u001b[0;31mNameError\u001b[0m: name 'documents' is not defined"
     ]
    }
   ],
   "source": [
    "tokenizer = BertTokenizer.from_pretrained('bert-base-uncased', do_lower_case=True) \n",
    "\n",
    "# encodings\n",
    "\n",
    "encodings = tokenizer.batch_encode_plus(documents, padding='max_length', truncation=True) # tokenizer's encoding method\n",
    "input_ids = encodings['input_ids'] # tokenized and encoded sentences\n",
    "token_type_ids = encodings['token_type_ids'] # token type ids\n",
    "attention_masks = encodings['attention_mask'] # attention masks"
   ]
  },
  {
   "cell_type": "code",
   "execution_count": 13,
   "metadata": {},
   "outputs": [],
   "source": [
    "# take rows that have too rare targets\n",
    "\n",
    "label_counts = trunc_large_data.target.astype(str).value_counts()\n",
    "one_freq = label_counts[label_counts==1].keys()\n",
    "one_freq_idxs = sorted(list(trunc_large_data[trunc_large_data.target.astype(str).isin(one_freq)].index), reverse=True)\n",
    "#print('df label indices with only one instance: ', one_freq_idxs)"
   ]
  },
  {
   "cell_type": "code",
   "execution_count": 30,
   "metadata": {},
   "outputs": [
    {
     "data": {
      "text/plain": [
       "4596"
      ]
     },
     "execution_count": 30,
     "metadata": {},
     "output_type": "execute_result"
    }
   ],
   "source": [
    "len(one_freq_idxs)"
   ]
  },
  {
   "cell_type": "code",
   "execution_count": 31,
   "metadata": {},
   "outputs": [],
   "source": [
    "# Gathering single instance inputs\n",
    "one_freq_input_ids = [input_ids.pop(i) for i in one_freq_idxs]\n",
    "one_freq_token_types = [token_type_ids.pop(i) for i in one_freq_idxs]\n",
    "one_freq_attention_masks = [attention_masks.pop(i) for i in one_freq_idxs]\n",
    "one_freq_labels = [labels.pop(i) for i in one_freq_idxs]"
   ]
  },
  {
   "cell_type": "code",
   "execution_count": 32,
   "metadata": {},
   "outputs": [
    {
     "data": {
      "text/plain": [
       "295177"
      ]
     },
     "execution_count": 32,
     "metadata": {},
     "output_type": "execute_result"
    }
   ],
   "source": [
    "len(input_ids)"
   ]
  },
  {
   "cell_type": "markdown",
   "metadata": {},
   "source": [
    "The original data is 299773 rows long, and 295177 when the unique target occurances have been separated. I will take 5 % split of these rows to mini train, and split dev and test from the remained part"
   ]
  },
  {
   "cell_type": "code",
   "execution_count": 36,
   "metadata": {},
   "outputs": [],
   "source": [
    "remaining_inputs, mini_train_inputs, remaining_labels, mini_train_labels, remaining_token_types, mini_train_token_types, remaining_masks, mini_train_masks = train_test_split(input_ids, labels, token_type_ids,attention_masks,\n",
    "                                                            random_state=42, test_size=0.05, stratify = labels)"
   ]
  },
  {
   "cell_type": "code",
   "execution_count": 39,
   "metadata": {},
   "outputs": [
    {
     "name": "stdout",
     "output_type": "stream",
     "text": [
      "remaining:  280418 mini-train:  14759\n"
     ]
    }
   ],
   "source": [
    "print('remaining: ', len(remaining_inputs), 'mini-train: ', len(mini_train_inputs))"
   ]
  },
  {
   "cell_type": "code",
   "execution_count": 40,
   "metadata": {},
   "outputs": [],
   "source": [
    "# splitting the dataset further, now getting the dev mini set\n",
    "\n",
    "remaining_inputs2, mini_dev_inputs, remaining_labels2, mini_dev_labels, remaining_token_types2, mini_dev_token_types, remaining_masks2, mini_dev_masks = train_test_split(remaining_inputs, remaining_labels, remaining_token_types, remaining_masks,\n",
    "                                                            random_state=42, test_size=0.05, stratify = remaining_labels)"
   ]
  },
  {
   "cell_type": "code",
   "execution_count": 41,
   "metadata": {},
   "outputs": [
    {
     "name": "stdout",
     "output_type": "stream",
     "text": [
      "remaining2:  266397 mini-dev:  14021\n"
     ]
    }
   ],
   "source": [
    "print('remaining2: ', len(remaining_inputs2), 'mini-dev: ', len(mini_dev_inputs))"
   ]
  },
  {
   "cell_type": "code",
   "execution_count": 43,
   "metadata": {},
   "outputs": [],
   "source": [
    "# and then splitting the test set\n",
    "\n",
    "remaining_inputs3, mini_test_inputs, remaining_labels3, mini_test_labels, remaining_token_types3, mini_test_token_types, remaining_masks3, mini_test_masks = train_test_split(remaining_inputs2, remaining_labels2, remaining_token_types2, remaining_masks2,\n",
    "                                                            random_state=42, test_size=0.05, stratify = remaining_labels2)\n"
   ]
  },
  {
   "cell_type": "markdown",
   "metadata": {},
   "source": [
    "I will initially include all the 4596 one_freq rows in the mini_train_data, this can be changed later"
   ]
  },
  {
   "cell_type": "code",
   "execution_count": 44,
   "metadata": {},
   "outputs": [],
   "source": [
    "mini_train_inputs.extend(one_freq_input_ids)\n",
    "mini_train_labels.extend(one_freq_labels)\n",
    "mini_train_masks.extend(one_freq_attention_masks)\n",
    "mini_train_token_types.extend(one_freq_token_types)"
   ]
  },
  {
   "cell_type": "code",
   "execution_count": 45,
   "metadata": {},
   "outputs": [],
   "source": [
    "# change mini train sets to tensors\n",
    "\n",
    "t_mini_train_inputs = torch.tensor(mini_train_inputs)\n",
    "t_mini_train_labels = torch.tensor(mini_train_labels)\n",
    "t_mini_train_masks = torch.tensor(mini_train_masks)\n",
    "t_mini_train_token_types = torch.tensor(mini_train_token_types)"
   ]
  },
  {
   "cell_type": "code",
   "execution_count": 49,
   "metadata": {},
   "outputs": [],
   "source": [
    "# change mini dev sets to tensors\n",
    "\n",
    "t_mini_dev_inputs = torch.tensor(mini_dev_inputs)\n",
    "t_mini_dev_labels = torch.tensor(mini_dev_labels)\n",
    "t_mini_dev_masks = torch.tensor(mini_dev_masks)\n",
    "t_mini_dev_token_types = torch.tensor(mini_dev_token_types)"
   ]
  },
  {
   "cell_type": "code",
   "execution_count": 50,
   "metadata": {},
   "outputs": [],
   "source": [
    "# change mini test sets to tensors\n",
    "\n",
    "t_mini_test_inputs = torch.tensor(mini_test_inputs)\n",
    "t_mini_test_labels = torch.tensor(mini_test_labels)\n",
    "t_mini_test_masks = torch.tensor(mini_test_masks)\n",
    "t_mini_test_token_types = torch.tensor(mini_test_token_types)"
   ]
  },
  {
   "cell_type": "code",
   "execution_count": 46,
   "metadata": {},
   "outputs": [
    {
     "name": "stdout",
     "output_type": "stream",
     "text": [
      "torch.Size([19355, 256])\n",
      "torch.Size([19355, 126])\n",
      "torch.Size([19355, 256])\n",
      "torch.Size([19355, 256])\n"
     ]
    }
   ],
   "source": [
    "print(t_mini_train_inputs.shape)\n",
    "print(t_mini_train_labels.shape)\n",
    "print(t_mini_train_masks.shape)\n",
    "print(t_mini_train_token_types.shape)"
   ]
  },
  {
   "cell_type": "code",
   "execution_count": 47,
   "metadata": {},
   "outputs": [],
   "source": [
    "# create train iterator with torch dataloader\n",
    "\n",
    "batch_size = 48\n",
    "\n",
    "mini_train_data = TensorDataset(t_mini_train_inputs, t_mini_train_masks, t_mini_train_labels, t_mini_train_token_types)\n",
    "mini_train_sampler = RandomSampler(mini_train_data)\n",
    "mini_train_dataloader = DataLoader(mini_train_data, sampler=mini_train_sampler, batch_size=batch_size)\n"
   ]
  },
  {
   "cell_type": "code",
   "execution_count": 52,
   "metadata": {},
   "outputs": [],
   "source": [
    "# create dev iterator with torch dataloader\n",
    "\n",
    "from torch.utils.data import SequentialSampler\n",
    "\n",
    "mini_dev_data = TensorDataset(t_mini_dev_inputs, t_mini_dev_masks, t_mini_dev_labels, t_mini_dev_token_types)\n",
    "mini_dev_sampler = SequentialSampler(mini_dev_data)\n",
    "mini_dev_dataloader = DataLoader(mini_dev_data, sampler=mini_dev_sampler, batch_size=batch_size)"
   ]
  },
  {
   "cell_type": "code",
   "execution_count": 53,
   "metadata": {},
   "outputs": [],
   "source": [
    "# create test iterator with torch dataloader\n",
    "\n",
    "mini_test_data = TensorDataset(t_mini_test_inputs, t_mini_test_masks, t_mini_test_labels, t_mini_test_token_types)\n",
    "mini_test_sampler = SequentialSampler(mini_test_data)\n",
    "mini_test_dataloader = DataLoader(mini_test_data, sampler=mini_test_sampler, batch_size=batch_size)"
   ]
  },
  {
   "cell_type": "code",
   "execution_count": 54,
   "metadata": {},
   "outputs": [],
   "source": [
    "# save (file sizes are around 95-140 MB for mini loaders, so these are gitignored)\n",
    "\n",
    "torch.save(mini_train_dataloader,'data-loaders/mini-train_data_loader')\n",
    "torch.save(mini_dev_dataloader,'data-loaders/mini-dev_data_loader')\n",
    "torch.save(mini_test_dataloader,'data-loaders/mini-test_data_loader')"
   ]
  },
  {
   "cell_type": "markdown",
   "metadata": {},
   "source": [
    "### Shortcut\n",
    "\n",
    "If there is a saved dataloader, this can be the startpoint"
   ]
  },
  {
   "cell_type": "code",
   "execution_count": 4,
   "metadata": {},
   "outputs": [],
   "source": [
    "loaded_mini_train_dataloader = torch.load('data-loaders/mini-train_data_loader')"
   ]
  },
  {
   "cell_type": "code",
   "execution_count": 6,
   "metadata": {},
   "outputs": [
    {
     "name": "stderr",
     "output_type": "stream",
     "text": [
      "/home/hdheli/anaconda3/lib/python3.7/site-packages/torch/cuda/__init__.py:52: UserWarning: CUDA initialization: Found no NVIDIA driver on your system. Please check that you have an NVIDIA GPU and installed a driver from http://www.nvidia.com/Download/index.aspx (Triggered internally at  /pytorch/c10/cuda/CUDAFunctions.cpp:100.)\n",
      "  return torch._C._cuda_getDeviceCount() > 0\n"
     ]
    }
   ],
   "source": [
    "device = 'cuda' if torch.cuda.is_available() else 'cpu'"
   ]
  },
  {
   "cell_type": "markdown",
   "metadata": {},
   "source": [
    "### Model loading, initial optimizer and criterion\n",
    "\n",
    "The huggingface transformers have AdamW that has gradient bias correction and weight decay. The optimizer hyperparemeters can be [customised](https://huggingface.co/transformers/training.html), but I start simple with the default settings."
   ]
  },
  {
   "cell_type": "code",
   "execution_count": 7,
   "metadata": {},
   "outputs": [
    {
     "name": "stderr",
     "output_type": "stream",
     "text": [
      "Some weights of the model checkpoint at bert-base-uncased were not used when initializing BertForSequenceClassification: ['cls.predictions.bias', 'cls.predictions.transform.dense.weight', 'cls.predictions.transform.dense.bias', 'cls.predictions.decoder.weight', 'cls.seq_relationship.weight', 'cls.seq_relationship.bias', 'cls.predictions.transform.LayerNorm.weight', 'cls.predictions.transform.LayerNorm.bias']\n",
      "- This IS expected if you are initializing BertForSequenceClassification from the checkpoint of a model trained on another task or with another architecture (e.g. initializing a BertForSequenceClassification model from a BertForPreTraining model).\n",
      "- This IS NOT expected if you are initializing BertForSequenceClassification from the checkpoint of a model that you expect to be exactly identical (initializing a BertForSequenceClassification model from a BertForSequenceClassification model).\n",
      "Some weights of BertForSequenceClassification were not initialized from the model checkpoint at bert-base-uncased and are newly initialized: ['classifier.weight', 'classifier.bias']\n",
      "You should probably TRAIN this model on a down-stream task to be able to use it for predictions and inference.\n"
     ]
    }
   ],
   "source": [
    "# Model 1\n",
    "\n",
    "NUM_LABELS = 126 # amount of the different topics\n",
    "ADAM_DEFAULT_LR = 1e-5\n",
    "\n",
    "model_1 = BertForSequenceClassification.from_pretrained(\"bert-base-uncased\", num_labels=NUM_LABELS)\n",
    "model_1.to(device)\n",
    "\n",
    "optimizer_1 = AdamW(model_1.parameters(), lr=ADAM_DEFAULT_LR)\n",
    "criterion_1 = BCEWithLogitsLoss() "
   ]
  },
  {
   "cell_type": "code",
   "execution_count": 8,
   "metadata": {},
   "outputs": [],
   "source": [
    "# Utility\n",
    "\n",
    "def epoch_time(start_time, end_time):\n",
    "    elapsed_time = end_time - start_time\n",
    "    elapsed_mins = int(elapsed_time / 60)\n",
    "    elapsed_secs = int(elapsed_time - (elapsed_mins * 60))\n",
    "    return elapsed_mins, elapsed_secs"
   ]
  },
  {
   "cell_type": "code",
   "execution_count": 9,
   "metadata": {},
   "outputs": [],
   "source": [
    "# --- Train Loop ---\n",
    "\n",
    "import time\n",
    "\n",
    "def train_loop(model, model_name, optimizer, criterion, n_epochs, dataloader):\n",
    "    train_losses = []\n",
    "    model.train()\n",
    "    step = 0\n",
    "    examples = 0\n",
    "    \n",
    "    for epoch in range(n_epochs):\n",
    "        start_time = time.time()\n",
    "        epoch_loss = 0\n",
    "        for step, batch in enumerate(dataloader):\n",
    "            batch = tuple(t.to(device) for t in batch)\n",
    "            b_input_ids, b_input_mask, b_labels, b_token_types = batch # unpack from dataloader\n",
    "            print('unloaded dim', b_input_ids.shape, b_input_mask.shape, b_labels.shape, b_token_types.shape)\n",
    "            optimizer.zero_grad()\n",
    "            \n",
    "            # Forward pass\n",
    "            outputs = model(b_input_ids, token_type_ids=None, attention_mask=b_input_mask)\n",
    "            logits = outputs[0]\n",
    "            print('logits', logits)\n",
    "            loss = criterion(logits.view(-1, NUM_LABELS),b_labels.type_as(logits).view(-1,NUM_LABELS)) #convert labels to float for calculation\n",
    "            \n",
    "            # Backward pass\n",
    "            loss.backward()\n",
    "            optimizer.step()\n",
    "            epoch_loss += loss.item()\n",
    "            examples += b_input_ids.size(0)\n",
    "            steps += 1\n",
    "            \n",
    "        train_loss = epoch_loss / len(dataloader)\n",
    "        train_losses.append(train_loss)\n",
    "            \n",
    "        end_time = time.time()\n",
    "            \n",
    "        epoch_mins, epoch_secs = epoch_time(start_time, end_time)\n",
    "        print(f'Epoch: {epoch+1:02} | Epoch Time: {epoch_mins}m {epoch_secs}s')\n",
    "        print(f'\\tTrain Loss: {train_loss:.3f}')\n",
    "        torch.save(model.state_dict(), model_name)\n",
    "            \n",
    "    return model, train_losses"
   ]
  },
  {
   "cell_type": "code",
   "execution_count": 10,
   "metadata": {},
   "outputs": [
    {
     "name": "stdout",
     "output_type": "stream",
     "text": [
      "unloaded dim torch.Size([48, 256]) torch.Size([48, 256]) torch.Size([48, 126]) torch.Size([48, 256])\n",
      "logits tensor([[-0.3708,  0.3800, -0.3711,  ..., -0.2434,  0.3016,  0.4135],\n",
      "        [-0.1564,  0.4655, -0.4990,  ..., -0.2637, -0.2344,  0.2109],\n",
      "        [-0.3535,  0.5852, -0.7945,  ...,  0.1883, -0.0653,  0.4057],\n",
      "        ...,\n",
      "        [-0.0694,  0.0340, -0.3414,  ..., -0.1565,  0.2508,  0.0862],\n",
      "        [-0.2443,  0.3665, -0.6011,  ..., -0.0867, -0.0059,  0.3010],\n",
      "        [-0.2932,  0.5382, -0.7429,  ...,  0.0548,  0.1851,  0.1194]],\n",
      "       grad_fn=<AddmmBackward>)\n"
     ]
    },
    {
     "ename": "KeyboardInterrupt",
     "evalue": "",
     "output_type": "error",
     "traceback": [
      "\u001b[0;31m---------------------------------------------------------------------------\u001b[0m",
      "\u001b[0;31mKeyboardInterrupt\u001b[0m                         Traceback (most recent call last)",
      "\u001b[0;32m<ipython-input-10-3e24b2d510f2>\u001b[0m in \u001b[0;36m<module>\u001b[0;34m\u001b[0m\n\u001b[1;32m      3\u001b[0m \u001b[0mn_epochs_1\u001b[0m \u001b[0;34m=\u001b[0m \u001b[0;36m1\u001b[0m\u001b[0;34m\u001b[0m\u001b[0;34m\u001b[0m\u001b[0m\n\u001b[1;32m      4\u001b[0m \u001b[0;34m\u001b[0m\u001b[0m\n\u001b[0;32m----> 5\u001b[0;31m \u001b[0mtrained_model_1\u001b[0m\u001b[0;34m,\u001b[0m \u001b[0mtrain_losses\u001b[0m \u001b[0;34m=\u001b[0m \u001b[0mtrain_loop\u001b[0m\u001b[0;34m(\u001b[0m\u001b[0mmodel_1\u001b[0m\u001b[0;34m,\u001b[0m \u001b[0;34m'models/model_1_260321'\u001b[0m\u001b[0;34m,\u001b[0m \u001b[0moptimizer_1\u001b[0m\u001b[0;34m,\u001b[0m \u001b[0mcriterion_1\u001b[0m\u001b[0;34m,\u001b[0m \u001b[0mn_epochs_1\u001b[0m\u001b[0;34m,\u001b[0m \u001b[0mloaded_mini_train_dataloader\u001b[0m\u001b[0;34m)\u001b[0m\u001b[0;34m\u001b[0m\u001b[0;34m\u001b[0m\u001b[0m\n\u001b[0m",
      "\u001b[0;32m<ipython-input-9-2ad661806f22>\u001b[0m in \u001b[0;36mtrain_loop\u001b[0;34m(model, model_name, optimizer, criterion, n_epochs, dataloader)\u001b[0m\n\u001b[1;32m     25\u001b[0m \u001b[0;34m\u001b[0m\u001b[0m\n\u001b[1;32m     26\u001b[0m             \u001b[0;31m# Backward pass\u001b[0m\u001b[0;34m\u001b[0m\u001b[0;34m\u001b[0m\u001b[0;34m\u001b[0m\u001b[0m\n\u001b[0;32m---> 27\u001b[0;31m             \u001b[0mloss\u001b[0m\u001b[0;34m.\u001b[0m\u001b[0mbackward\u001b[0m\u001b[0;34m(\u001b[0m\u001b[0;34m)\u001b[0m\u001b[0;34m\u001b[0m\u001b[0;34m\u001b[0m\u001b[0m\n\u001b[0m\u001b[1;32m     28\u001b[0m             \u001b[0moptimizer\u001b[0m\u001b[0;34m.\u001b[0m\u001b[0mstep\u001b[0m\u001b[0;34m(\u001b[0m\u001b[0;34m)\u001b[0m\u001b[0;34m\u001b[0m\u001b[0;34m\u001b[0m\u001b[0m\n\u001b[1;32m     29\u001b[0m             \u001b[0mepoch_loss\u001b[0m \u001b[0;34m+=\u001b[0m \u001b[0mloss\u001b[0m\u001b[0;34m.\u001b[0m\u001b[0mitem\u001b[0m\u001b[0;34m(\u001b[0m\u001b[0;34m)\u001b[0m\u001b[0;34m\u001b[0m\u001b[0;34m\u001b[0m\u001b[0m\n",
      "\u001b[0;32m~/anaconda3/lib/python3.7/site-packages/torch/tensor.py\u001b[0m in \u001b[0;36mbackward\u001b[0;34m(self, gradient, retain_graph, create_graph)\u001b[0m\n\u001b[1;32m    219\u001b[0m                 \u001b[0mretain_graph\u001b[0m\u001b[0;34m=\u001b[0m\u001b[0mretain_graph\u001b[0m\u001b[0;34m,\u001b[0m\u001b[0;34m\u001b[0m\u001b[0;34m\u001b[0m\u001b[0m\n\u001b[1;32m    220\u001b[0m                 create_graph=create_graph)\n\u001b[0;32m--> 221\u001b[0;31m         \u001b[0mtorch\u001b[0m\u001b[0;34m.\u001b[0m\u001b[0mautograd\u001b[0m\u001b[0;34m.\u001b[0m\u001b[0mbackward\u001b[0m\u001b[0;34m(\u001b[0m\u001b[0mself\u001b[0m\u001b[0;34m,\u001b[0m \u001b[0mgradient\u001b[0m\u001b[0;34m,\u001b[0m \u001b[0mretain_graph\u001b[0m\u001b[0;34m,\u001b[0m \u001b[0mcreate_graph\u001b[0m\u001b[0;34m)\u001b[0m\u001b[0;34m\u001b[0m\u001b[0;34m\u001b[0m\u001b[0m\n\u001b[0m\u001b[1;32m    222\u001b[0m \u001b[0;34m\u001b[0m\u001b[0m\n\u001b[1;32m    223\u001b[0m     \u001b[0;32mdef\u001b[0m \u001b[0mregister_hook\u001b[0m\u001b[0;34m(\u001b[0m\u001b[0mself\u001b[0m\u001b[0;34m,\u001b[0m \u001b[0mhook\u001b[0m\u001b[0;34m)\u001b[0m\u001b[0;34m:\u001b[0m\u001b[0;34m\u001b[0m\u001b[0;34m\u001b[0m\u001b[0m\n",
      "\u001b[0;32m~/anaconda3/lib/python3.7/site-packages/torch/autograd/__init__.py\u001b[0m in \u001b[0;36mbackward\u001b[0;34m(tensors, grad_tensors, retain_graph, create_graph, grad_variables)\u001b[0m\n\u001b[1;32m    130\u001b[0m     Variable._execution_engine.run_backward(\n\u001b[1;32m    131\u001b[0m         \u001b[0mtensors\u001b[0m\u001b[0;34m,\u001b[0m \u001b[0mgrad_tensors_\u001b[0m\u001b[0;34m,\u001b[0m \u001b[0mretain_graph\u001b[0m\u001b[0;34m,\u001b[0m \u001b[0mcreate_graph\u001b[0m\u001b[0;34m,\u001b[0m\u001b[0;34m\u001b[0m\u001b[0;34m\u001b[0m\u001b[0m\n\u001b[0;32m--> 132\u001b[0;31m         allow_unreachable=True)  # allow_unreachable flag\n\u001b[0m\u001b[1;32m    133\u001b[0m \u001b[0;34m\u001b[0m\u001b[0m\n\u001b[1;32m    134\u001b[0m \u001b[0;34m\u001b[0m\u001b[0m\n",
      "\u001b[0;31mKeyboardInterrupt\u001b[0m: "
     ]
    }
   ],
   "source": [
    "# train model 1, just one epoch to test\n",
    "\n",
    "n_epochs_1 = 1\n",
    "\n",
    "trained_model_1, train_losses = train_loop(model_1, 'models/model_1_260321', optimizer_1, criterion_1, n_epochs_1, loaded_mini_train_dataloader)\n"
   ]
  },
  {
   "cell_type": "code",
   "execution_count": null,
   "metadata": {},
   "outputs": [],
   "source": []
  }
 ],
 "metadata": {
  "kernelspec": {
   "display_name": "Python 3",
   "language": "python",
   "name": "python3"
  },
  "language_info": {
   "codemirror_mode": {
    "name": "ipython",
    "version": 3
   },
   "file_extension": ".py",
   "mimetype": "text/x-python",
   "name": "python",
   "nbconvert_exporter": "python",
   "pygments_lexer": "ipython3",
   "version": "3.7.6"
  }
 },
 "nbformat": 4,
 "nbformat_minor": 4
}
