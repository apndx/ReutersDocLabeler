{
 "cells": [
  {
   "cell_type": "markdown",
   "metadata": {},
   "source": [
    "###  Reuters corpus topic classification\n",
    "\n",
    "This project is about topic classification on the Reuters corpus. It is multi-label classification: there can be more than one topics associated with each document.\n",
    "\n",
    "#### Data\n",
    "\n",
    "Test data will be extracted from XML-documents, taking input from <headline></headline> and <text></text>, target classes from <codes class = 'bip:topics:1.0'><code code = \"topic_i\"></code></codes>\n",
    "\n",
    "input: 'document text string, each row a document'\n",
    "target: ['topic_1', '...', 'topic_n'] = [0, ...., 1, 0]\n",
    "\n",
    "\n",
    "There are 126 topics that are listed in the topic_codes.txt.\n"
   ]
  },
  {
   "cell_type": "code",
   "execution_count": 66,
   "metadata": {},
   "outputs": [],
   "source": [
    "import pandas as pd\n",
    "import numpy as np\n"
   ]
  },
  {
   "cell_type": "code",
   "execution_count": 14,
   "metadata": {},
   "outputs": [
    {
     "data": {
      "text/html": [
       "<div>\n",
       "<style scoped>\n",
       "    .dataframe tbody tr th:only-of-type {\n",
       "        vertical-align: middle;\n",
       "    }\n",
       "\n",
       "    .dataframe tbody tr th {\n",
       "        vertical-align: top;\n",
       "    }\n",
       "\n",
       "    .dataframe thead th {\n",
       "        text-align: right;\n",
       "    }\n",
       "</style>\n",
       "<table border=\"1\" class=\"dataframe\">\n",
       "  <thead>\n",
       "    <tr style=\"text-align: right;\">\n",
       "      <th></th>\n",
       "      <th>CODE</th>\n",
       "      <th>DESCRIPTION</th>\n",
       "    </tr>\n",
       "  </thead>\n",
       "  <tbody>\n",
       "    <tr>\n",
       "      <th>0</th>\n",
       "      <td>1POL</td>\n",
       "      <td>CURRENT NEWS - POLITICS</td>\n",
       "    </tr>\n",
       "    <tr>\n",
       "      <th>1</th>\n",
       "      <td>2ECO</td>\n",
       "      <td>CURRENT NEWS - ECONOMICS</td>\n",
       "    </tr>\n",
       "    <tr>\n",
       "      <th>2</th>\n",
       "      <td>3SPO</td>\n",
       "      <td>CURRENT NEWS - SPORT</td>\n",
       "    </tr>\n",
       "    <tr>\n",
       "      <th>3</th>\n",
       "      <td>4GEN</td>\n",
       "      <td>CURRENT NEWS - GENERAL</td>\n",
       "    </tr>\n",
       "    <tr>\n",
       "      <th>4</th>\n",
       "      <td>6INS</td>\n",
       "      <td>CURRENT NEWS - INSURANCE</td>\n",
       "    </tr>\n",
       "    <tr>\n",
       "      <th>...</th>\n",
       "      <td>...</td>\n",
       "      <td>...</td>\n",
       "    </tr>\n",
       "    <tr>\n",
       "      <th>121</th>\n",
       "      <td>M142</td>\n",
       "      <td>METALS TRADING</td>\n",
       "    </tr>\n",
       "    <tr>\n",
       "      <th>122</th>\n",
       "      <td>M143</td>\n",
       "      <td>ENERGY MARKETS</td>\n",
       "    </tr>\n",
       "    <tr>\n",
       "      <th>123</th>\n",
       "      <td>MCAT</td>\n",
       "      <td>MARKETS</td>\n",
       "    </tr>\n",
       "    <tr>\n",
       "      <th>124</th>\n",
       "      <td>MEUR</td>\n",
       "      <td>EURO CURRENCY</td>\n",
       "    </tr>\n",
       "    <tr>\n",
       "      <th>125</th>\n",
       "      <td>PRB13</td>\n",
       "      <td>CURRENT NEWS - PRESS RELEASE WIRES</td>\n",
       "    </tr>\n",
       "  </tbody>\n",
       "</table>\n",
       "<p>126 rows × 2 columns</p>\n",
       "</div>"
      ],
      "text/plain": [
       "      CODE                         DESCRIPTION\n",
       "0     1POL             CURRENT NEWS - POLITICS\n",
       "1     2ECO            CURRENT NEWS - ECONOMICS\n",
       "2     3SPO                CURRENT NEWS - SPORT\n",
       "3     4GEN              CURRENT NEWS - GENERAL\n",
       "4     6INS            CURRENT NEWS - INSURANCE\n",
       "..     ...                                 ...\n",
       "121   M142                      METALS TRADING\n",
       "122   M143                      ENERGY MARKETS\n",
       "123   MCAT                             MARKETS\n",
       "124   MEUR                       EURO CURRENCY\n",
       "125  PRB13  CURRENT NEWS - PRESS RELEASE WIRES\n",
       "\n",
       "[126 rows x 2 columns]"
      ]
     },
     "execution_count": 14,
     "metadata": {},
     "output_type": "execute_result"
    }
   ],
   "source": [
    "topics = pd.read_csv('mock-data/topic_codes.txt', delimiter='\\t')\n",
    "topics"
   ]
  },
  {
   "cell_type": "code",
   "execution_count": 15,
   "metadata": {},
   "outputs": [
    {
     "data": {
      "text/plain": [
       "0       1POL\n",
       "1       2ECO\n",
       "2       3SPO\n",
       "3       4GEN\n",
       "4       6INS\n",
       "       ...  \n",
       "121     M142\n",
       "122     M143\n",
       "123     MCAT\n",
       "124     MEUR\n",
       "125    PRB13\n",
       "Name: CODE, Length: 126, dtype: object"
      ]
     },
     "execution_count": 15,
     "metadata": {},
     "output_type": "execute_result"
    }
   ],
   "source": [
    "codes = topics['CODE']\n",
    "codes"
   ]
  },
  {
   "cell_type": "markdown",
   "metadata": {},
   "source": [
    "I will first manually create a small mock data to start model development."
   ]
  },
  {
   "cell_type": "code",
   "execution_count": 56,
   "metadata": {},
   "outputs": [
    {
     "data": {
      "text/html": [
       "<div>\n",
       "<style scoped>\n",
       "    .dataframe tbody tr th:only-of-type {\n",
       "        vertical-align: middle;\n",
       "    }\n",
       "\n",
       "    .dataframe tbody tr th {\n",
       "        vertical-align: top;\n",
       "    }\n",
       "\n",
       "    .dataframe thead th {\n",
       "        text-align: right;\n",
       "    }\n",
       "</style>\n",
       "<table border=\"1\" class=\"dataframe\">\n",
       "  <thead>\n",
       "    <tr style=\"text-align: right;\">\n",
       "      <th></th>\n",
       "      <th>text</th>\n",
       "      <th>target</th>\n",
       "    </tr>\n",
       "  </thead>\n",
       "  <tbody>\n",
       "    <tr>\n",
       "      <th>0</th>\n",
       "      <td>REUTER EC REPORT LONG-TERM DIARY FOR APR 7 - D...</td>\n",
       "      <td>[1, 1, 1, 0, 0, 0, 0, 0, 0, 0, 0, 0, 0, 0, 0, ...</td>\n",
       "    </tr>\n",
       "    <tr>\n",
       "      <th>1</th>\n",
       "      <td>Brascade Resources Inc Q1 shr falls</td>\n",
       "      <td>[0, 0, 0, 1, 1, 1, 0, 0, 0, 0, 0, 0, 0, 0, 0, ...</td>\n",
       "    </tr>\n",
       "    <tr>\n",
       "      <th>2</th>\n",
       "      <td>U.S. corporate bonds - new issue pricings</td>\n",
       "      <td>[0, 0, 0, 0, 0, 0, 1, 1, 1, 0, 0, 0, 0, 0, 0, ...</td>\n",
       "    </tr>\n",
       "    <tr>\n",
       "      <th>3</th>\n",
       "      <td>CBES Bancorp Inc Q3 March 31 net rises</td>\n",
       "      <td>[0, 0, 0, 0, 0, 0, 0, 0, 0, 0, 0, 0, 0, 0, 0, ...</td>\n",
       "    </tr>\n",
       "    <tr>\n",
       "      <th>4</th>\n",
       "      <td>H&amp;R Block chief financial officer resigns</td>\n",
       "      <td>[0, 0, 0, 0, 0, 0, 0, 0, 0, 0, 0, 0, 0, 0, 0, ...</td>\n",
       "    </tr>\n",
       "    <tr>\n",
       "      <th>5</th>\n",
       "      <td>General Kinetics consents to delisting</td>\n",
       "      <td>[0, 0, 0, 0, 0, 0, 0, 0, 0, 0, 0, 0, 0, 0, 0, ...</td>\n",
       "    </tr>\n",
       "  </tbody>\n",
       "</table>\n",
       "</div>"
      ],
      "text/plain": [
       "                                                text  \\\n",
       "0  REUTER EC REPORT LONG-TERM DIARY FOR APR 7 - D...   \n",
       "1                Brascade Resources Inc Q1 shr falls   \n",
       "2          U.S. corporate bonds - new issue pricings   \n",
       "3             CBES Bancorp Inc Q3 March 31 net rises   \n",
       "4          H&R Block chief financial officer resigns   \n",
       "5             General Kinetics consents to delisting   \n",
       "\n",
       "                                              target  \n",
       "0  [1, 1, 1, 0, 0, 0, 0, 0, 0, 0, 0, 0, 0, 0, 0, ...  \n",
       "1  [0, 0, 0, 1, 1, 1, 0, 0, 0, 0, 0, 0, 0, 0, 0, ...  \n",
       "2  [0, 0, 0, 0, 0, 0, 1, 1, 1, 0, 0, 0, 0, 0, 0, ...  \n",
       "3  [0, 0, 0, 0, 0, 0, 0, 0, 0, 0, 0, 0, 0, 0, 0, ...  \n",
       "4  [0, 0, 0, 0, 0, 0, 0, 0, 0, 0, 0, 0, 0, 0, 0, ...  \n",
       "5  [0, 0, 0, 0, 0, 0, 0, 0, 0, 0, 0, 0, 0, 0, 0, ...  "
      ]
     },
     "execution_count": 56,
     "metadata": {},
     "output_type": "execute_result"
    }
   ],
   "source": [
    "mini_texts = pd.read_csv('mock-data/text_snippets.csv', delimiter=';')\n",
    "mini_texts"
   ]
  },
  {
   "cell_type": "code",
   "execution_count": 59,
   "metadata": {},
   "outputs": [],
   "source": [
    "#empty_topic_vec = [0] * 126\n",
    "#mock_documents = list(mini_texts.text.values)\n",
    "#mock_labels = list(mini_texts.target.values)"
   ]
  },
  {
   "cell_type": "markdown",
   "metadata": {},
   "source": [
    "### Exploring code combination distribution\n",
    "\n",
    "Now there is the actual data in a csv file, let's do some analysis on it.\n",
    "\n",
    "Five of the code combinations are quite common, there are 20 000 -10 000 examples for them.\n",
    "\n",
    "Half of the combinations however have only one example.\n"
   ]
  },
  {
   "cell_type": "code",
   "execution_count": 139,
   "metadata": {},
   "outputs": [],
   "source": [
    "trunc_large_data_strings = pd.read_csv('reuters-csv/inputs_trunc.csv', delimiter=';')"
   ]
  },
  {
   "cell_type": "code",
   "execution_count": 140,
   "metadata": {},
   "outputs": [
    {
     "data": {
      "text/plain": [
       "<bound method NDFrame.describe of                                                      text  \\\n",
       "0       Official Journal contents - OJ C 169 of June 4...   \n",
       "1       Official Journal contents - OJ L 144 of June 4...   \n",
       "2       Suncor lowers Canada heavy oil price. COMPANY ...   \n",
       "3       Suncor cuts Canada light oil prices. COMPANY E...   \n",
       "4       Toronto stocks end softer, more consolidation ...   \n",
       "...                                                   ...   \n",
       "299768  Reuters French Advertising & Media Digest -Jul...   \n",
       "299769  Fleming issues buy recommendation on M6. Flemi...   \n",
       "299770  China to launch Internet service for science d...   \n",
       "299771  Reuters German Advertising & Media Digest -Jul...   \n",
       "299772  Singapore Internet gets boost from television ...   \n",
       "\n",
       "                                                   target  \\\n",
       "0       [0, 0, 0, 0, 0, 0, 0, 0, 0, 0, 0, 0, 0, 0, 0, ...   \n",
       "1       [0, 0, 0, 0, 0, 0, 0, 0, 0, 0, 0, 0, 0, 0, 0, ...   \n",
       "2       [0, 0, 0, 0, 0, 0, 0, 0, 0, 0, 0, 0, 0, 0, 0, ...   \n",
       "3       [0, 0, 0, 0, 0, 0, 0, 0, 0, 0, 0, 0, 0, 0, 0, ...   \n",
       "4       [0, 0, 0, 0, 0, 0, 0, 0, 0, 0, 0, 0, 0, 0, 0, ...   \n",
       "...                                                   ...   \n",
       "299768  [0, 0, 0, 0, 0, 0, 0, 0, 0, 0, 0, 0, 0, 0, 0, ...   \n",
       "299769  [0, 0, 0, 0, 0, 0, 0, 0, 0, 0, 0, 0, 0, 0, 0, ...   \n",
       "299770  [0, 0, 0, 0, 0, 0, 0, 0, 0, 0, 0, 0, 0, 0, 0, ...   \n",
       "299771  [0, 0, 0, 0, 0, 0, 0, 0, 0, 0, 0, 0, 0, 0, 0, ...   \n",
       "299772  [0, 0, 0, 0, 0, 0, 0, 0, 0, 0, 0, 0, 0, 0, 0, ...   \n",
       "\n",
       "                          codes  \n",
       "0               ['G15', 'GCAT']  \n",
       "1               ['G15', 'GCAT']  \n",
       "2       ['M14', 'M143', 'MCAT']  \n",
       "3       ['M14', 'M143', 'MCAT']  \n",
       "4               ['M11', 'MCAT']  \n",
       "...                         ...  \n",
       "299768          ['C32', 'CCAT']  \n",
       "299769                 ['C152']  \n",
       "299770         ['GCAT', 'GSCI']  \n",
       "299771          ['C32', 'CCAT']  \n",
       "299772          ['C22', 'CCAT']  \n",
       "\n",
       "[299773 rows x 3 columns]>"
      ]
     },
     "execution_count": 140,
     "metadata": {},
     "output_type": "execute_result"
    }
   ],
   "source": [
    "trunc_large_data_strings.describe"
   ]
  },
  {
   "cell_type": "code",
   "execution_count": 141,
   "metadata": {},
   "outputs": [
    {
     "data": {
      "text/plain": [
       "['C15', 'C151', 'CCAT']                                     22203\n",
       "['C15', 'C152', 'CCAT']                                     19751\n",
       "['M11', 'MCAT']                                             15791\n",
       "['M14', 'M141', 'MCAT']                                     14675\n",
       "['GCAT', 'GSPO']                                            12390\n",
       "                                                            ...  \n",
       "['C12', 'C13', 'CCAT', 'GCAT', 'GCRIM', 'GENV', 'GPOL']         1\n",
       "['C13', 'CCAT', 'E12', 'ECAT', 'GCAT', 'GODD']                  1\n",
       "['C13', 'C17', 'C171', 'C18', 'C183', 'C34', 'CCAT']            1\n",
       "['C15', 'C152', 'C31', 'CCAT', 'GCAT', 'GENT']                  1\n",
       "['E51', 'E512', 'ECAT', 'GCAT', 'GCRIM', 'GDEF', 'GPOL']        1\n",
       "Name: codes, Length: 8326, dtype: int64"
      ]
     },
     "execution_count": 141,
     "metadata": {},
     "output_type": "execute_result"
    }
   ],
   "source": [
    "code_freqs = trunc_large_data_strings['codes'].value_counts()\n",
    "code_freqs"
   ]
  },
  {
   "cell_type": "code",
   "execution_count": 146,
   "metadata": {},
   "outputs": [
    {
     "data": {
      "text/html": [
       "<div>\n",
       "<style scoped>\n",
       "    .dataframe tbody tr th:only-of-type {\n",
       "        vertical-align: middle;\n",
       "    }\n",
       "\n",
       "    .dataframe tbody tr th {\n",
       "        vertical-align: top;\n",
       "    }\n",
       "\n",
       "    .dataframe thead th {\n",
       "        text-align: right;\n",
       "    }\n",
       "</style>\n",
       "<table border=\"1\" class=\"dataframe\">\n",
       "  <thead>\n",
       "    <tr style=\"text-align: right;\">\n",
       "      <th></th>\n",
       "      <th>codes</th>\n",
       "    </tr>\n",
       "  </thead>\n",
       "  <tbody>\n",
       "    <tr>\n",
       "      <th>['C15', 'C151', 'CCAT']</th>\n",
       "      <td>22203</td>\n",
       "    </tr>\n",
       "    <tr>\n",
       "      <th>['C15', 'C152', 'CCAT']</th>\n",
       "      <td>19751</td>\n",
       "    </tr>\n",
       "    <tr>\n",
       "      <th>['M11', 'MCAT']</th>\n",
       "      <td>15791</td>\n",
       "    </tr>\n",
       "    <tr>\n",
       "      <th>['M14', 'M141', 'MCAT']</th>\n",
       "      <td>14675</td>\n",
       "    </tr>\n",
       "    <tr>\n",
       "      <th>['GCAT', 'GSPO']</th>\n",
       "      <td>12390</td>\n",
       "    </tr>\n",
       "    <tr>\n",
       "      <th>...</th>\n",
       "      <td>...</td>\n",
       "    </tr>\n",
       "    <tr>\n",
       "      <th>['C12', 'C13', 'CCAT', 'GCAT', 'GCRIM', 'GENV', 'GPOL']</th>\n",
       "      <td>1</td>\n",
       "    </tr>\n",
       "    <tr>\n",
       "      <th>['C13', 'CCAT', 'E12', 'ECAT', 'GCAT', 'GODD']</th>\n",
       "      <td>1</td>\n",
       "    </tr>\n",
       "    <tr>\n",
       "      <th>['C13', 'C17', 'C171', 'C18', 'C183', 'C34', 'CCAT']</th>\n",
       "      <td>1</td>\n",
       "    </tr>\n",
       "    <tr>\n",
       "      <th>['C15', 'C152', 'C31', 'CCAT', 'GCAT', 'GENT']</th>\n",
       "      <td>1</td>\n",
       "    </tr>\n",
       "    <tr>\n",
       "      <th>['E51', 'E512', 'ECAT', 'GCAT', 'GCRIM', 'GDEF', 'GPOL']</th>\n",
       "      <td>1</td>\n",
       "    </tr>\n",
       "  </tbody>\n",
       "</table>\n",
       "<p>8326 rows × 1 columns</p>\n",
       "</div>"
      ],
      "text/plain": [
       "                                                    codes\n",
       "['C15', 'C151', 'CCAT']                             22203\n",
       "['C15', 'C152', 'CCAT']                             19751\n",
       "['M11', 'MCAT']                                     15791\n",
       "['M14', 'M141', 'MCAT']                             14675\n",
       "['GCAT', 'GSPO']                                    12390\n",
       "...                                                   ...\n",
       "['C12', 'C13', 'CCAT', 'GCAT', 'GCRIM', 'GENV',...      1\n",
       "['C13', 'CCAT', 'E12', 'ECAT', 'GCAT', 'GODD']          1\n",
       "['C13', 'C17', 'C171', 'C18', 'C183', 'C34', 'C...      1\n",
       "['C15', 'C152', 'C31', 'CCAT', 'GCAT', 'GENT']          1\n",
       "['E51', 'E512', 'ECAT', 'GCAT', 'GCRIM', 'GDEF'...      1\n",
       "\n",
       "[8326 rows x 1 columns]"
      ]
     },
     "execution_count": 146,
     "metadata": {},
     "output_type": "execute_result"
    }
   ],
   "source": [
    "# these are more frecuent\n",
    "code_freq_df = code_freqs.to_frame()\n",
    "code_freq_df"
   ]
  },
  {
   "cell_type": "code",
   "execution_count": 147,
   "metadata": {},
   "outputs": [
    {
     "data": {
      "text/html": [
       "<div>\n",
       "<style scoped>\n",
       "    .dataframe tbody tr th:only-of-type {\n",
       "        vertical-align: middle;\n",
       "    }\n",
       "\n",
       "    .dataframe tbody tr th {\n",
       "        vertical-align: top;\n",
       "    }\n",
       "\n",
       "    .dataframe thead th {\n",
       "        text-align: right;\n",
       "    }\n",
       "</style>\n",
       "<table border=\"1\" class=\"dataframe\">\n",
       "  <thead>\n",
       "    <tr style=\"text-align: right;\">\n",
       "      <th></th>\n",
       "      <th>codes</th>\n",
       "    </tr>\n",
       "  </thead>\n",
       "  <tbody>\n",
       "    <tr>\n",
       "      <th>['C15', 'C151', 'CCAT']</th>\n",
       "      <td>22203</td>\n",
       "    </tr>\n",
       "    <tr>\n",
       "      <th>['C15', 'C152', 'CCAT']</th>\n",
       "      <td>19751</td>\n",
       "    </tr>\n",
       "    <tr>\n",
       "      <th>['M11', 'MCAT']</th>\n",
       "      <td>15791</td>\n",
       "    </tr>\n",
       "    <tr>\n",
       "      <th>['M14', 'M141', 'MCAT']</th>\n",
       "      <td>14675</td>\n",
       "    </tr>\n",
       "    <tr>\n",
       "      <th>['GCAT', 'GSPO']</th>\n",
       "      <td>12390</td>\n",
       "    </tr>\n",
       "  </tbody>\n",
       "</table>\n",
       "</div>"
      ],
      "text/plain": [
       "                         codes\n",
       "['C15', 'C151', 'CCAT']  22203\n",
       "['C15', 'C152', 'CCAT']  19751\n",
       "['M11', 'MCAT']          15791\n",
       "['M14', 'M141', 'MCAT']  14675\n",
       "['GCAT', 'GSPO']         12390"
      ]
     },
     "execution_count": 147,
     "metadata": {},
     "output_type": "execute_result"
    }
   ],
   "source": [
    "frequent_combos = code_freq_df[code_freq_df['codes']>10000]\n",
    "frequent_combos"
   ]
  },
  {
   "cell_type": "code",
   "execution_count": 148,
   "metadata": {},
   "outputs": [
    {
     "data": {
      "text/html": [
       "<div>\n",
       "<style scoped>\n",
       "    .dataframe tbody tr th:only-of-type {\n",
       "        vertical-align: middle;\n",
       "    }\n",
       "\n",
       "    .dataframe tbody tr th {\n",
       "        vertical-align: top;\n",
       "    }\n",
       "\n",
       "    .dataframe thead th {\n",
       "        text-align: right;\n",
       "    }\n",
       "</style>\n",
       "<table border=\"1\" class=\"dataframe\">\n",
       "  <thead>\n",
       "    <tr style=\"text-align: right;\">\n",
       "      <th></th>\n",
       "      <th>codes</th>\n",
       "    </tr>\n",
       "  </thead>\n",
       "  <tbody>\n",
       "    <tr>\n",
       "      <th>['C13', 'C17', 'C173', 'CCAT']</th>\n",
       "      <td>9</td>\n",
       "    </tr>\n",
       "    <tr>\n",
       "      <th>['M11', 'M13', 'M131', 'M132', 'MCAT']</th>\n",
       "      <td>9</td>\n",
       "    </tr>\n",
       "    <tr>\n",
       "      <th>['E41', 'ECAT', 'GCAT', 'GCRIM', 'GJOB', 'GPOL']</th>\n",
       "      <td>9</td>\n",
       "    </tr>\n",
       "    <tr>\n",
       "      <th>['GCAT', 'GFAS', 'GOBIT', 'GPRO']</th>\n",
       "      <td>9</td>\n",
       "    </tr>\n",
       "    <tr>\n",
       "      <th>['C11', 'C18', 'C181', 'C182', 'CCAT']</th>\n",
       "      <td>9</td>\n",
       "    </tr>\n",
       "    <tr>\n",
       "      <th>...</th>\n",
       "      <td>...</td>\n",
       "    </tr>\n",
       "    <tr>\n",
       "      <th>['C12', 'C13', 'CCAT', 'GCAT', 'GCRIM', 'GENV', 'GPOL']</th>\n",
       "      <td>1</td>\n",
       "    </tr>\n",
       "    <tr>\n",
       "      <th>['C13', 'CCAT', 'E12', 'ECAT', 'GCAT', 'GODD']</th>\n",
       "      <td>1</td>\n",
       "    </tr>\n",
       "    <tr>\n",
       "      <th>['C13', 'C17', 'C171', 'C18', 'C183', 'C34', 'CCAT']</th>\n",
       "      <td>1</td>\n",
       "    </tr>\n",
       "    <tr>\n",
       "      <th>['C15', 'C152', 'C31', 'CCAT', 'GCAT', 'GENT']</th>\n",
       "      <td>1</td>\n",
       "    </tr>\n",
       "    <tr>\n",
       "      <th>['E51', 'E512', 'ECAT', 'GCAT', 'GCRIM', 'GDEF', 'GPOL']</th>\n",
       "      <td>1</td>\n",
       "    </tr>\n",
       "  </tbody>\n",
       "</table>\n",
       "<p>7279 rows × 1 columns</p>\n",
       "</div>"
      ],
      "text/plain": [
       "                                                    codes\n",
       "['C13', 'C17', 'C173', 'CCAT']                          9\n",
       "['M11', 'M13', 'M131', 'M132', 'MCAT']                  9\n",
       "['E41', 'ECAT', 'GCAT', 'GCRIM', 'GJOB', 'GPOL']        9\n",
       "['GCAT', 'GFAS', 'GOBIT', 'GPRO']                       9\n",
       "['C11', 'C18', 'C181', 'C182', 'CCAT']                  9\n",
       "...                                                   ...\n",
       "['C12', 'C13', 'CCAT', 'GCAT', 'GCRIM', 'GENV',...      1\n",
       "['C13', 'CCAT', 'E12', 'ECAT', 'GCAT', 'GODD']          1\n",
       "['C13', 'C17', 'C171', 'C18', 'C183', 'C34', 'C...      1\n",
       "['C15', 'C152', 'C31', 'CCAT', 'GCAT', 'GENT']          1\n",
       "['E51', 'E512', 'ECAT', 'GCAT', 'GCRIM', 'GDEF'...      1\n",
       "\n",
       "[7279 rows x 1 columns]"
      ]
     },
     "execution_count": 148,
     "metadata": {},
     "output_type": "execute_result"
    }
   ],
   "source": [
    "rare_combos = code_freq_df[code_freq_df['codes']<10]\n",
    "rare_combos"
   ]
  },
  {
   "cell_type": "code",
   "execution_count": 150,
   "metadata": {},
   "outputs": [
    {
     "data": {
      "text/html": [
       "<div>\n",
       "<style scoped>\n",
       "    .dataframe tbody tr th:only-of-type {\n",
       "        vertical-align: middle;\n",
       "    }\n",
       "\n",
       "    .dataframe tbody tr th {\n",
       "        vertical-align: top;\n",
       "    }\n",
       "\n",
       "    .dataframe thead th {\n",
       "        text-align: right;\n",
       "    }\n",
       "</style>\n",
       "<table border=\"1\" class=\"dataframe\">\n",
       "  <thead>\n",
       "    <tr style=\"text-align: right;\">\n",
       "      <th></th>\n",
       "      <th>codes</th>\n",
       "    </tr>\n",
       "  </thead>\n",
       "  <tbody>\n",
       "    <tr>\n",
       "      <th>['E12', 'GPOL', 'GVOTE', 'M132']</th>\n",
       "      <td>1</td>\n",
       "    </tr>\n",
       "    <tr>\n",
       "      <th>['C11', 'C15', 'C152', 'C17', 'C171', 'C41', 'C411', 'CCAT']</th>\n",
       "      <td>1</td>\n",
       "    </tr>\n",
       "    <tr>\n",
       "      <th>['C24', 'CCAT', 'GCAT', 'GDEF', 'GSCI']</th>\n",
       "      <td>1</td>\n",
       "    </tr>\n",
       "    <tr>\n",
       "      <th>['C13', 'C15', 'CCAT', 'G15', 'G152', 'GCAT']</th>\n",
       "      <td>1</td>\n",
       "    </tr>\n",
       "    <tr>\n",
       "      <th>['C11', 'C13', 'C18', 'C181', 'C34', 'CCAT', 'G15', 'G152', 'G157', 'GCAT']</th>\n",
       "      <td>1</td>\n",
       "    </tr>\n",
       "    <tr>\n",
       "      <th>...</th>\n",
       "      <td>...</td>\n",
       "    </tr>\n",
       "    <tr>\n",
       "      <th>['C12', 'C13', 'CCAT', 'GCAT', 'GCRIM', 'GENV', 'GPOL']</th>\n",
       "      <td>1</td>\n",
       "    </tr>\n",
       "    <tr>\n",
       "      <th>['C13', 'CCAT', 'E12', 'ECAT', 'GCAT', 'GODD']</th>\n",
       "      <td>1</td>\n",
       "    </tr>\n",
       "    <tr>\n",
       "      <th>['C13', 'C17', 'C171', 'C18', 'C183', 'C34', 'CCAT']</th>\n",
       "      <td>1</td>\n",
       "    </tr>\n",
       "    <tr>\n",
       "      <th>['C15', 'C152', 'C31', 'CCAT', 'GCAT', 'GENT']</th>\n",
       "      <td>1</td>\n",
       "    </tr>\n",
       "    <tr>\n",
       "      <th>['E51', 'E512', 'ECAT', 'GCAT', 'GCRIM', 'GDEF', 'GPOL']</th>\n",
       "      <td>1</td>\n",
       "    </tr>\n",
       "  </tbody>\n",
       "</table>\n",
       "<p>4596 rows × 1 columns</p>\n",
       "</div>"
      ],
      "text/plain": [
       "                                                    codes\n",
       "['E12', 'GPOL', 'GVOTE', 'M132']                        1\n",
       "['C11', 'C15', 'C152', 'C17', 'C171', 'C41', 'C...      1\n",
       "['C24', 'CCAT', 'GCAT', 'GDEF', 'GSCI']                 1\n",
       "['C13', 'C15', 'CCAT', 'G15', 'G152', 'GCAT']           1\n",
       "['C11', 'C13', 'C18', 'C181', 'C34', 'CCAT', 'G...      1\n",
       "...                                                   ...\n",
       "['C12', 'C13', 'CCAT', 'GCAT', 'GCRIM', 'GENV',...      1\n",
       "['C13', 'CCAT', 'E12', 'ECAT', 'GCAT', 'GODD']          1\n",
       "['C13', 'C17', 'C171', 'C18', 'C183', 'C34', 'C...      1\n",
       "['C15', 'C152', 'C31', 'CCAT', 'GCAT', 'GENT']          1\n",
       "['E51', 'E512', 'ECAT', 'GCAT', 'GCRIM', 'GDEF'...      1\n",
       "\n",
       "[4596 rows x 1 columns]"
      ]
     },
     "execution_count": 150,
     "metadata": {},
     "output_type": "execute_result"
    }
   ],
   "source": [
    "code_freq_df[code_freq_df['codes']==1]"
   ]
  },
  {
   "cell_type": "code",
   "execution_count": 135,
   "metadata": {},
   "outputs": [
    {
     "data": {
      "text/plain": [
       "<matplotlib.axes._subplots.AxesSubplot at 0x7f6fd063f210>"
      ]
     },
     "execution_count": 135,
     "metadata": {},
     "output_type": "execute_result"
    },
    {
     "data": {
      "image/png": "[encoded data removed]",
      "text/plain": [
       "<Figure size 1440x720 with 1 Axes>"
      ]
     },
     "metadata": {
      "needs_background": "light"
     },
     "output_type": "display_data"
    }
   ],
   "source": [
    "import matplotlib.pyplot as plt\n",
    "\n",
    "code_freqs.plot(figsize=(20,10), rot=90)"
   ]
  },
  {
   "cell_type": "markdown",
   "metadata": {},
   "source": [
    "### Loading a mini training set\n",
    "\n",
    "Next I will take some of the data to make a train, validation and test set for model development, each a size of 10 000 rows. "
   ]
  },
  {
   "cell_type": "code",
   "execution_count": 98,
   "metadata": {},
   "outputs": [],
   "source": [
    "#  because of the target and codes are stored as strings and not as list, I will convert them back to lists\n",
    "trunc_large_data = trunc_large_data_strings.copy(deep=True)\n",
    "trunc_large_data['target'] = trunc_large_data['target'].apply(eval)\n",
    "trunc_large_data['codes'] = trunc_large_data['codes'].apply(eval)"
   ]
  },
  {
   "cell_type": "code",
   "execution_count": 99,
   "metadata": {},
   "outputs": [],
   "source": [
    "trunc_large_data_shuf = trunc_large_data.sample(frac=1, random_state=42) # shuffle all data rows\n",
    "mini_train = trunc_large_data_shuf[:10000]\n",
    "mini_dev = trunc_large_data_shuf[10000:20000]\n",
    "mini_test = trunc_large_data_shuf[20000:30000]"
   ]
  },
  {
   "cell_type": "markdown",
   "metadata": {},
   "source": [
    "### Trying out transformer and BERT\n",
    "\n",
    "Next I will be trying out things presented in a blog post: [Transformers for Multi-Label Classification made simple.](https://towardsdatascience.com/transformers-for-multilabel-classification-71a1a0daf5e1)\n",
    "\n",
    "I will also utilize some code from the home exercises of Deep Learning course."
   ]
  },
  {
   "cell_type": "code",
   "execution_count": 77,
   "metadata": {},
   "outputs": [],
   "source": [
    "import torch\n",
    "import torch.nn as nn\n",
    "from transformers import *\n",
    "\n",
    "device = 'cuda' if torch.cuda.is_available() else 'cpu'"
   ]
  },
  {
   "cell_type": "code",
   "execution_count": 106,
   "metadata": {},
   "outputs": [],
   "source": [
    "# mini sets to lists\n",
    "\n",
    "train_mini_documents = list(mini_train.text.values)\n",
    "train_mini_labels = list(mini_train.target.values)\n",
    "dev_mini_documents = list(mini_dev.text.values)\n",
    "dev_mini_labels = list(mini_dev.target.values)"
   ]
  },
  {
   "cell_type": "code",
   "execution_count": 86,
   "metadata": {},
   "outputs": [
    {
     "name": "stderr",
     "output_type": "stream",
     "text": [
      "Truncation was not explicitly activated but `max_length` is provided a specific value, please use `truncation=True` to explicitly truncate examples to max length. Defaulting to 'longest_first' truncation strategy. If you encode pairs of sequences (GLUE-style) with the tokenizer you can select this strategy more precisely by providing a specific strategy to `truncation`.\n"
     ]
    }
   ],
   "source": [
    "doc_max_length = 256 # using the truncated mini train set sequence length\n",
    "tokenizer = BertTokenizer.from_pretrained('bert-base-uncased', do_lower_case=True) \n",
    "\n",
    "# train data encodings\n",
    "\n",
    "train_encodings = tokenizer.batch_encode_plus(train_mini_documents,max_length=doc_max_length,pad_to_max_length=True) # tokenizer's encoding method\n",
    "train_input_ids = train_encodings['input_ids'] # tokenized and encoded sentences\n",
    "train_token_type_ids = train_encodings['token_type_ids'] # token type ids\n",
    "train_attention_masks = train_encodings['attention_mask'] # attention masks"
   ]
  },
  {
   "cell_type": "code",
   "execution_count": 84,
   "metadata": {},
   "outputs": [],
   "source": [
    "# validation data encodings\n",
    "\n",
    "dev_encodings = tokenizer.batch_encode_plus(dev_mini_documents,max_length=doc_max_length,pad_to_max_length=True) # tokenizer's encoding method\n",
    "dev_input_ids = dev_encodings['input_ids'] # tokenized and encoded sentences\n",
    "dev_token_type_ids = dev_encodings['token_type_ids'] # token type ids\n",
    "dev_attention_masks = dev_encodings['attention_mask'] # attention masks"
   ]
  },
  {
   "cell_type": "code",
   "execution_count": 107,
   "metadata": {},
   "outputs": [],
   "source": [
    "# change to tensors\n",
    "\n",
    "mini_train_inputs = torch.tensor(train_input_ids)\n",
    "mini_train_labels = torch.tensor(train_mini_labels)\n",
    "mini_train_masks = torch.tensor(train_attention_masks)\n",
    "mini_train_token_types = torch.tensor(train_token_type_ids)\n",
    "\n",
    "mini_dev_inputs = torch.tensor(dev_input_ids)\n",
    "mini_dev_labels = torch.tensor(dev_mini_labels)\n",
    "mini_dev_masks = torch.tensor(dev_attention_masks)\n",
    "mini_dev_token_types = torch.tensor(dev_token_type_ids)"
   ]
  },
  {
   "cell_type": "code",
   "execution_count": 110,
   "metadata": {},
   "outputs": [
    {
     "name": "stdout",
     "output_type": "stream",
     "text": [
      "torch.Size([10000, 256])\n",
      "torch.Size([10000, 126])\n",
      "torch.Size([10000, 256])\n",
      "torch.Size([10000, 256])\n"
     ]
    }
   ],
   "source": [
    "print(mini_train_inputs.shape)\n",
    "print(mini_train_labels.shape)\n",
    "print(mini_train_masks.shape)\n",
    "print(mini_train_token_types.shape)"
   ]
  },
  {
   "cell_type": "code",
   "execution_count": 113,
   "metadata": {},
   "outputs": [],
   "source": [
    "# create train iterator with torch dataloader\n",
    "\n",
    "from torch.utils.data import TensorDataset, DataLoader, RandomSampler\n",
    "batch_size = 48\n",
    "\n",
    "mini_train_data = TensorDataset(mini_train_inputs, mini_train_masks, mini_train_labels, mini_train_token_types)\n",
    "mini_train_sampler = RandomSampler(mini_train_data)\n",
    "mini_train_dataloader = DataLoader(mini_train_data, sampler=mini_train_sampler, batch_size=batch_size)\n"
   ]
  },
  {
   "cell_type": "code",
   "execution_count": 114,
   "metadata": {},
   "outputs": [],
   "source": [
    "# create dev iterator with torch dataloader\n",
    "\n",
    "mini_dev_data = TensorDataset(mini_dev_inputs, mini_dev_masks, mini_dev_labels, mini_dev_token_types)\n",
    "mini_dev_sampler = SequentialSampler(mini_dev_data)\n",
    "mini_dev_dataloader = DataLoader(mini_dev_data, sampler=mini_dev_sampler, batch_size=batch_size)"
   ]
  },
  {
   "cell_type": "code",
   "execution_count": 115,
   "metadata": {},
   "outputs": [],
   "source": [
    "# save (file sizes are around 70 MB for mini loaders, so these are gitignored)\n",
    "\n",
    "torch.save(mini_train_dataloader,'data-loaders/mini-train_data_loader')\n",
    "torch.save(mini_dev_dataloader,'data-loaders/mini-dev_data_loader')"
   ]
  },
  {
   "cell_type": "markdown",
   "metadata": {},
   "source": [
    "### Model loading, initial optimizer and criterion\n",
    "\n",
    "The huggingface transformers have AdamW that has gradient bias correction and weight decay. The optimizer hyperparemeters can be [customised](https://huggingface.co/transformers/training.html), but I start simple with the default settings."
   ]
  },
  {
   "cell_type": "code",
   "execution_count": null,
   "metadata": {},
   "outputs": [],
   "source": [
    "# Model 1\n",
    "\n",
    "NUM_LABELS = 126 # amount of the different topics\n",
    "\n",
    "model_1 = BertForSequenceClassification.from_pretrained(\"bert-base-uncased\", num_labels=num_labels)\n",
    "model_1.to(device)\n",
    "\n",
    "optimizer_1 = AdamW(model_1.parameters(), lr=1e-5)"
   ]
  }
 ],
 "metadata": {
  "kernelspec": {
   "display_name": "Python 3",
   "language": "python",
   "name": "python3"
  },
  "language_info": {
   "codemirror_mode": {
    "name": "ipython",
    "version": 3
   },
   "file_extension": ".py",
   "mimetype": "text/x-python",
   "name": "python",
   "nbconvert_exporter": "python",
   "pygments_lexer": "ipython3",
   "version": "3.7.6"
  }
 },
 "nbformat": 4,
 "nbformat_minor": 4
}
