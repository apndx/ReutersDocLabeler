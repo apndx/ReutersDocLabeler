{
 "cells": [
  {
   "cell_type": "markdown",
   "metadata": {},
   "source": [
    "###  Reuters corpus topic classification\n",
    "\n",
    "This project is about topic classification on the Reuters corpus. It is multi-label classification: there can be more than one topics associated with each document.\n",
    "\n",
    "#### Data\n",
    "\n",
    "Test data will be extracted from XML-documents, taking input from <headline></headline> and <text></text>, target classes from <codes class = 'bip:topics:1.0'><code code = \"topic_i\"></code></codes>\n",
    "\n",
    "input: 'document text string, each row a document'\n",
    "target: ['topic_1', '...', 'topic_n'] = [0, ...., 1, 0]\n",
    "\n",
    "\n",
    "There are 126 topics that are listed in the topic_codes.txt.\n"
   ]
  },
  {
   "cell_type": "code",
   "execution_count": 66,
   "metadata": {},
   "outputs": [],
   "source": [
    "import pandas as pd\n",
    "import numpy as np\n"
   ]
  },
  {
   "cell_type": "code",
   "execution_count": 14,
   "metadata": {},
   "outputs": [
    {
     "data": {
      "text/html": [
       "<div>\n",
       "<style scoped>\n",
       "    .dataframe tbody tr th:only-of-type {\n",
       "        vertical-align: middle;\n",
       "    }\n",
       "\n",
       "    .dataframe tbody tr th {\n",
       "        vertical-align: top;\n",
       "    }\n",
       "\n",
       "    .dataframe thead th {\n",
       "        text-align: right;\n",
       "    }\n",
       "</style>\n",
       "<table border=\"1\" class=\"dataframe\">\n",
       "  <thead>\n",
       "    <tr style=\"text-align: right;\">\n",
       "      <th></th>\n",
       "      <th>CODE</th>\n",
       "      <th>DESCRIPTION</th>\n",
       "    </tr>\n",
       "  </thead>\n",
       "  <tbody>\n",
       "    <tr>\n",
       "      <th>0</th>\n",
       "      <td>1POL</td>\n",
       "      <td>CURRENT NEWS - POLITICS</td>\n",
       "    </tr>\n",
       "    <tr>\n",
       "      <th>1</th>\n",
       "      <td>2ECO</td>\n",
       "      <td>CURRENT NEWS - ECONOMICS</td>\n",
       "    </tr>\n",
       "    <tr>\n",
       "      <th>2</th>\n",
       "      <td>3SPO</td>\n",
       "      <td>CURRENT NEWS - SPORT</td>\n",
       "    </tr>\n",
       "    <tr>\n",
       "      <th>3</th>\n",
       "      <td>4GEN</td>\n",
       "      <td>CURRENT NEWS - GENERAL</td>\n",
       "    </tr>\n",
       "    <tr>\n",
       "      <th>4</th>\n",
       "      <td>6INS</td>\n",
       "      <td>CURRENT NEWS - INSURANCE</td>\n",
       "    </tr>\n",
       "    <tr>\n",
       "      <th>...</th>\n",
       "      <td>...</td>\n",
       "      <td>...</td>\n",
       "    </tr>\n",
       "    <tr>\n",
       "      <th>121</th>\n",
       "      <td>M142</td>\n",
       "      <td>METALS TRADING</td>\n",
       "    </tr>\n",
       "    <tr>\n",
       "      <th>122</th>\n",
       "      <td>M143</td>\n",
       "      <td>ENERGY MARKETS</td>\n",
       "    </tr>\n",
       "    <tr>\n",
       "      <th>123</th>\n",
       "      <td>MCAT</td>\n",
       "      <td>MARKETS</td>\n",
       "    </tr>\n",
       "    <tr>\n",
       "      <th>124</th>\n",
       "      <td>MEUR</td>\n",
       "      <td>EURO CURRENCY</td>\n",
       "    </tr>\n",
       "    <tr>\n",
       "      <th>125</th>\n",
       "      <td>PRB13</td>\n",
       "      <td>CURRENT NEWS - PRESS RELEASE WIRES</td>\n",
       "    </tr>\n",
       "  </tbody>\n",
       "</table>\n",
       "<p>126 rows × 2 columns</p>\n",
       "</div>"
      ],
      "text/plain": [
       "      CODE                         DESCRIPTION\n",
       "0     1POL             CURRENT NEWS - POLITICS\n",
       "1     2ECO            CURRENT NEWS - ECONOMICS\n",
       "2     3SPO                CURRENT NEWS - SPORT\n",
       "3     4GEN              CURRENT NEWS - GENERAL\n",
       "4     6INS            CURRENT NEWS - INSURANCE\n",
       "..     ...                                 ...\n",
       "121   M142                      METALS TRADING\n",
       "122   M143                      ENERGY MARKETS\n",
       "123   MCAT                             MARKETS\n",
       "124   MEUR                       EURO CURRENCY\n",
       "125  PRB13  CURRENT NEWS - PRESS RELEASE WIRES\n",
       "\n",
       "[126 rows x 2 columns]"
      ]
     },
     "execution_count": 14,
     "metadata": {},
     "output_type": "execute_result"
    }
   ],
   "source": [
    "topics = pd.read_csv('mock-data/topic_codes.txt', delimiter='\\t')\n",
    "topics"
   ]
  },
  {
   "cell_type": "code",
   "execution_count": 15,
   "metadata": {},
   "outputs": [
    {
     "data": {
      "text/plain": [
       "0       1POL\n",
       "1       2ECO\n",
       "2       3SPO\n",
       "3       4GEN\n",
       "4       6INS\n",
       "       ...  \n",
       "121     M142\n",
       "122     M143\n",
       "123     MCAT\n",
       "124     MEUR\n",
       "125    PRB13\n",
       "Name: CODE, Length: 126, dtype: object"
      ]
     },
     "execution_count": 15,
     "metadata": {},
     "output_type": "execute_result"
    }
   ],
   "source": [
    "codes = topics['CODE']\n",
    "codes"
   ]
  },
  {
   "cell_type": "markdown",
   "metadata": {},
   "source": [
    "I will first manually create a small mock data to start model development."
   ]
  },
  {
   "cell_type": "code",
   "execution_count": 56,
   "metadata": {},
   "outputs": [
    {
     "data": {
      "text/html": [
       "<div>\n",
       "<style scoped>\n",
       "    .dataframe tbody tr th:only-of-type {\n",
       "        vertical-align: middle;\n",
       "    }\n",
       "\n",
       "    .dataframe tbody tr th {\n",
       "        vertical-align: top;\n",
       "    }\n",
       "\n",
       "    .dataframe thead th {\n",
       "        text-align: right;\n",
       "    }\n",
       "</style>\n",
       "<table border=\"1\" class=\"dataframe\">\n",
       "  <thead>\n",
       "    <tr style=\"text-align: right;\">\n",
       "      <th></th>\n",
       "      <th>text</th>\n",
       "      <th>target</th>\n",
       "    </tr>\n",
       "  </thead>\n",
       "  <tbody>\n",
       "    <tr>\n",
       "      <th>0</th>\n",
       "      <td>REUTER EC REPORT LONG-TERM DIARY FOR APR 7 - D...</td>\n",
       "      <td>[1, 1, 1, 0, 0, 0, 0, 0, 0, 0, 0, 0, 0, 0, 0, ...</td>\n",
       "    </tr>\n",
       "    <tr>\n",
       "      <th>1</th>\n",
       "      <td>Brascade Resources Inc Q1 shr falls</td>\n",
       "      <td>[0, 0, 0, 1, 1, 1, 0, 0, 0, 0, 0, 0, 0, 0, 0, ...</td>\n",
       "    </tr>\n",
       "    <tr>\n",
       "      <th>2</th>\n",
       "      <td>U.S. corporate bonds - new issue pricings</td>\n",
       "      <td>[0, 0, 0, 0, 0, 0, 1, 1, 1, 0, 0, 0, 0, 0, 0, ...</td>\n",
       "    </tr>\n",
       "    <tr>\n",
       "      <th>3</th>\n",
       "      <td>CBES Bancorp Inc Q3 March 31 net rises</td>\n",
       "      <td>[0, 0, 0, 0, 0, 0, 0, 0, 0, 0, 0, 0, 0, 0, 0, ...</td>\n",
       "    </tr>\n",
       "    <tr>\n",
       "      <th>4</th>\n",
       "      <td>H&amp;R Block chief financial officer resigns</td>\n",
       "      <td>[0, 0, 0, 0, 0, 0, 0, 0, 0, 0, 0, 0, 0, 0, 0, ...</td>\n",
       "    </tr>\n",
       "    <tr>\n",
       "      <th>5</th>\n",
       "      <td>General Kinetics consents to delisting</td>\n",
       "      <td>[0, 0, 0, 0, 0, 0, 0, 0, 0, 0, 0, 0, 0, 0, 0, ...</td>\n",
       "    </tr>\n",
       "  </tbody>\n",
       "</table>\n",
       "</div>"
      ],
      "text/plain": [
       "                                                text  \\\n",
       "0  REUTER EC REPORT LONG-TERM DIARY FOR APR 7 - D...   \n",
       "1                Brascade Resources Inc Q1 shr falls   \n",
       "2          U.S. corporate bonds - new issue pricings   \n",
       "3             CBES Bancorp Inc Q3 March 31 net rises   \n",
       "4          H&R Block chief financial officer resigns   \n",
       "5             General Kinetics consents to delisting   \n",
       "\n",
       "                                              target  \n",
       "0  [1, 1, 1, 0, 0, 0, 0, 0, 0, 0, 0, 0, 0, 0, 0, ...  \n",
       "1  [0, 0, 0, 1, 1, 1, 0, 0, 0, 0, 0, 0, 0, 0, 0, ...  \n",
       "2  [0, 0, 0, 0, 0, 0, 1, 1, 1, 0, 0, 0, 0, 0, 0, ...  \n",
       "3  [0, 0, 0, 0, 0, 0, 0, 0, 0, 0, 0, 0, 0, 0, 0, ...  \n",
       "4  [0, 0, 0, 0, 0, 0, 0, 0, 0, 0, 0, 0, 0, 0, 0, ...  \n",
       "5  [0, 0, 0, 0, 0, 0, 0, 0, 0, 0, 0, 0, 0, 0, 0, ...  "
      ]
     },
     "execution_count": 56,
     "metadata": {},
     "output_type": "execute_result"
    }
   ],
   "source": [
    "mini_texts = pd.read_csv('mock-data/text_snippets.csv', delimiter=';')\n",
    "mini_texts"
   ]
  },
  {
   "cell_type": "code",
   "execution_count": 59,
   "metadata": {},
   "outputs": [],
   "source": [
    "#empty_topic_vec = [0] * 126\n",
    "#mock_documents = list(mini_texts.text.values)\n",
    "#mock_labels = list(mini_texts.target.values)"
   ]
  },
  {
   "cell_type": "markdown",
   "metadata": {},
   "source": [
    "### Loading a mini training set\n",
    "\n",
    "Now there is the actual data in a csv file. \n",
    "\n",
    "I will use that, and make a mini training, validation and test set for model development, each a size of 10 000 rows. \n",
    "\n",
    "Also because of the target and codes are stored as strings and not as list, I will convert them back to lists"
   ]
  },
  {
   "cell_type": "code",
   "execution_count": 68,
   "metadata": {},
   "outputs": [],
   "source": [
    "trunc_large_data = pd.read_csv('reuters-csv/inputs_trunc.csv', delimiter=';')"
   ]
  },
  {
   "cell_type": "code",
   "execution_count": 98,
   "metadata": {},
   "outputs": [],
   "source": [
    "trunc_large_data['target'] = trunc_large_data['target'].apply(eval)\n",
    "trunc_large_data['codes'] = trunc_large_data['codes'].apply(eval)"
   ]
  },
  {
   "cell_type": "code",
   "execution_count": 99,
   "metadata": {},
   "outputs": [],
   "source": [
    "trunc_large_data_shuf = trunc_large_data.sample(frac=1, random_state=42) # shuffle all data rows\n",
    "mini_train = trunc_large_data_shuf[:10000]\n",
    "mini_dev = trunc_large_data_shuf[10000:20000]\n",
    "mini_test = trunc_large_data_shuf[20000:30000]"
   ]
  },
  {
   "cell_type": "markdown",
   "metadata": {},
   "source": [
    "### Trying out transformer and BERT\n",
    "\n",
    "Next I will be trying out things presented in a blog post: [Transformers for Multi-Label Classification made simple.](https://towardsdatascience.com/transformers-for-multilabel-classification-71a1a0daf5e1)\n",
    "\n",
    "I will also utilize some code from the home exercises of Deep Learning course."
   ]
  },
  {
   "cell_type": "code",
   "execution_count": 77,
   "metadata": {},
   "outputs": [],
   "source": [
    "import torch\n",
    "import torch.nn as nn\n",
    "from transformers import *\n",
    "\n",
    "device = 'cuda' if torch.cuda.is_available() else 'cpu'"
   ]
  },
  {
   "cell_type": "code",
   "execution_count": 106,
   "metadata": {},
   "outputs": [],
   "source": [
    "# mini sets to lists\n",
    "\n",
    "train_mini_documents = list(mini_train.text.values)\n",
    "train_mini_labels = list(mini_train.target.values)\n",
    "dev_mini_documents = list(mini_dev.text.values)\n",
    "dev_mini_labels = list(mini_dev.target.values)"
   ]
  },
  {
   "cell_type": "code",
   "execution_count": 86,
   "metadata": {},
   "outputs": [
    {
     "name": "stderr",
     "output_type": "stream",
     "text": [
      "Truncation was not explicitly activated but `max_length` is provided a specific value, please use `truncation=True` to explicitly truncate examples to max length. Defaulting to 'longest_first' truncation strategy. If you encode pairs of sequences (GLUE-style) with the tokenizer you can select this strategy more precisely by providing a specific strategy to `truncation`.\n"
     ]
    }
   ],
   "source": [
    "doc_max_length = 256 # using the truncated mini train set sequence length\n",
    "tokenizer = BertTokenizer.from_pretrained('bert-base-uncased', do_lower_case=True) \n",
    "\n",
    "# train data encodings\n",
    "\n",
    "train_encodings = tokenizer.batch_encode_plus(train_mini_documents,max_length=doc_max_length,pad_to_max_length=True) # tokenizer's encoding method\n",
    "train_input_ids = train_encodings['input_ids'] # tokenized and encoded sentences\n",
    "train_token_type_ids = train_encodings['token_type_ids'] # token type ids\n",
    "train_attention_masks = train_encodings['attention_mask'] # attention masks"
   ]
  },
  {
   "cell_type": "code",
   "execution_count": 84,
   "metadata": {},
   "outputs": [],
   "source": [
    "# validation data encodings\n",
    "\n",
    "dev_encodings = tokenizer.batch_encode_plus(dev_mini_documents,max_length=doc_max_length,pad_to_max_length=True) # tokenizer's encoding method\n",
    "dev_input_ids = dev_encodings['input_ids'] # tokenized and encoded sentences\n",
    "dev_token_type_ids = dev_encodings['token_type_ids'] # token type ids\n",
    "dev_attention_masks = dev_encodings['attention_mask'] # attention masks"
   ]
  },
  {
   "cell_type": "code",
   "execution_count": 107,
   "metadata": {},
   "outputs": [],
   "source": [
    "# change to tensors\n",
    "\n",
    "mini_train_inputs = torch.tensor(train_input_ids)\n",
    "mini_train_labels = torch.tensor(train_mini_labels)\n",
    "mini_train_masks = torch.tensor(train_attention_masks)\n",
    "mini_train_token_types = torch.tensor(train_token_type_ids)\n",
    "\n",
    "mini_dev_inputs = torch.tensor(dev_input_ids)\n",
    "mini_dev_labels = torch.tensor(dev_mini_labels)\n",
    "mini_dev_masks = torch.tensor(dev_attention_masks)\n",
    "mini_dev_token_types = torch.tensor(dev_token_type_ids)"
   ]
  },
  {
   "cell_type": "code",
   "execution_count": 110,
   "metadata": {},
   "outputs": [
    {
     "name": "stdout",
     "output_type": "stream",
     "text": [
      "torch.Size([10000, 256])\n",
      "torch.Size([10000, 126])\n",
      "torch.Size([10000, 256])\n",
      "torch.Size([10000, 256])\n"
     ]
    }
   ],
   "source": [
    "print(mini_train_inputs.shape)\n",
    "print(mini_train_labels.shape)\n",
    "print(mini_train_masks.shape)\n",
    "print(mini_train_token_types.shape)"
   ]
  },
  {
   "cell_type": "code",
   "execution_count": null,
   "metadata": {},
   "outputs": [],
   "source": []
  }
 ],
 "metadata": {
  "kernelspec": {
   "display_name": "Python 3",
   "language": "python",
   "name": "python3"
  },
  "language_info": {
   "codemirror_mode": {
    "name": "ipython",
    "version": 3
   },
   "file_extension": ".py",
   "mimetype": "text/x-python",
   "name": "python",
   "nbconvert_exporter": "python",
   "pygments_lexer": "ipython3",
   "version": "3.7.6"
  }
 },
 "nbformat": 4,
 "nbformat_minor": 4
}
