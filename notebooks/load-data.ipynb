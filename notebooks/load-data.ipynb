{
 "cells": [
  {
   "cell_type": "markdown",
   "metadata": {},
   "source": [
    "## Loading and parsing the data from zipped xml files\n",
    "\n",
    "We create two sets of the input data. One with the full length headline + text `inputs.csv` or `test.csv` and one with a truncated length headline + text `inputs_trunc.csv` or `test_trunc.csv` into the folder `reuters-csv`. In addition we write the topic codes to `topic_codes.txt` in the same folder.\n",
    "\n",
    "Stop words and multiple whitespace characters are removed and the content is lemmatized.\n"
   ]
  },
  {
   "cell_type": "code",
   "execution_count": 28,
   "metadata": {},
   "outputs": [
    {
     "output_type": "stream",
     "name": "stderr",
     "text": [
      "[nltk_data] Downloading package wordnet to\n[nltk_data]     /Users/jaakkovilenius/nltk_data...\n[nltk_data]   Package wordnet is already up-to-date!\n[nltk_data] Downloading package stopwords to\n[nltk_data]     /Users/jaakkovilenius/nltk_data...\n[nltk_data]   Package stopwords is already up-to-date!\n"
     ]
    },
    {
     "output_type": "execute_result",
     "data": {
      "text/plain": [
       "True"
      ]
     },
     "metadata": {},
     "execution_count": 28
    }
   ],
   "source": [
    "import os\n",
    "import zipfile\n",
    "import xml.etree.ElementTree as ET\n",
    "import re\n",
    "import pandas as pd\n",
    "import nltk\n",
    "nltk.download('wordnet')\n",
    "nltk.download('stopwords')"
   ]
  },
  {
   "cell_type": "code",
   "execution_count": 29,
   "metadata": {},
   "outputs": [],
   "source": [
    "from nltk.tokenize import word_tokenize\n",
    "from nltk.corpus import stopwords\n",
    "from nltk.stem import WordNetLemmatizer\n",
    "lemmatizer = WordNetLemmatizer()\n",
    "stop_words = set(stopwords.words('english'))"
   ]
  },
  {
   "cell_type": "code",
   "execution_count": 37,
   "metadata": {},
   "outputs": [
    {
     "output_type": "stream",
     "name": "stdout",
     "text": [
      "./reuters-test-data\n"
     ]
    }
   ],
   "source": [
    "# Some constants and variables and stuff\n",
    "TESTING = True\n",
    "TRAIN_DIR = 'REUTERS_CORPUS_2' # Name of the dir for the source files\n",
    "TEST_DIR = 'reuters-test-data'\n",
    "zipdir = './' + (TEST_DIR if TESTING else TRAIN_DIR)\n",
    "print(zipdir)\n",
    "\n",
    "LEN_TRUNCATED = 64   # Length of trucated input text\n",
    "\n",
    "WS_REMOVAL = re.compile(r\"\\s+\")"
   ]
  },
  {
   "cell_type": "code",
   "execution_count": 38,
   "metadata": {},
   "outputs": [],
   "source": [
    "zipfiles = []        # This collects the names of the zip files to be extracted (the actual news files)\n",
    "\n",
    "itemids = []         # This holds a list of the news item ids\n",
    "\n",
    "topics = []          # This holds a list of the topic codes\n",
    "topic_names = []     # This holds a list of the topic names\n",
    "                     # topics and topic_names use the same indexing\n",
    "\n",
    "inputs = []          # This holds a list of the inputs (headline + text)\n",
    "inputs_trunc = []    # This holds a list of truncated inputs (headline + text)\n",
    "labels = []          # This holds a list of the input labels in 'many-hot' notation e.g. [0, 1, 0, 0, 1, 1, ...]\n",
    "label_codes = []     # This holds a list of lists of the inputs topic codes e.g. [['C11'], ['6INS', 'C17'], ...]\n",
    "                     # inputs, labels and label_codes all use the same indexing"
   ]
  },
  {
   "cell_type": "code",
   "execution_count": 39,
   "metadata": {},
   "outputs": [],
   "source": [
    "# Read topics into a list of topic codes and a list of topic names\n",
    "zipc = zipfile.ZipFile('./' + TRAIN_DIR + '/codes.zip', 'r')\n",
    "c = zipc.open('topic_codes.txt')\n",
    "strc = c.read().decode('utf-8')\n",
    "strarr = strc.split('\\n')\n",
    "for t in strarr:\n",
    "    if len(t) > 0 and t[0] != ';': # Discard header rows\n",
    "        topic = t.split('\\t')\n",
    "        topics.append(topic[0])\n",
    "        topic_names.append(topic[1])"
   ]
  },
  {
   "cell_type": "code",
   "execution_count": 40,
   "metadata": {
    "tags": []
   },
   "outputs": [],
   "source": [
    "# Make a list of data zip-files in source directory\n",
    "for root, dirs, files in os.walk(zipdir):\n",
    "    for file in files:\n",
    "        if file.startswith('1997') and file.endswith('.zip'):\n",
    "            zipfiles.append(file)"
   ]
  },
  {
   "cell_type": "code",
   "execution_count": 41,
   "metadata": {
    "tags": []
   },
   "outputs": [],
   "source": [
    "# Then extract content\n",
    "for zipf in zipfiles:\n",
    "    zipd = zipfile.ZipFile(zipdir + '/' + zipf, 'r')\n",
    "    for fname in zipd.namelist():\n",
    "        f = zipd.open(fname)\n",
    "        xmlroot = ET.fromstring(f.read())\n",
    "        headline = ''\n",
    "        text = ''\n",
    "        codes = []\n",
    "        itemids.append(xmlroot.attrib.get('itemid'))\n",
    "        for level1 in xmlroot:\n",
    "            if level1.tag == 'headline':\n",
    "                headline = (level1.text if level1.text is not None else '').lower()\n",
    "            if level1.tag == 'text':\n",
    "                for level2 in level1:\n",
    "                    text += (level2.text if level2.text is not None else '').lower() + ' '\n",
    "            if level1.tag == 'metadata':\n",
    "                for level2 in level1:\n",
    "                    if level2.tag == 'codes' and level2.attrib.get('class') == 'bip:topics:1.0':\n",
    "                        for level3 in level2:\n",
    "                            codes.append(level3.attrib.get('code'))\n",
    "        inp = WS_REMOVAL.sub(' ', (headline + ' ' + text)).strip()\n",
    "        words = word_tokenize(inp)\n",
    "        lemmad = set()\n",
    "        for word in words:\n",
    "            if word not in stop_words:\n",
    "                lemmad.add(lemmatizer.lemmatize(word))\n",
    "        processed = \" \".join(lemmad)\n",
    "        inputs.append(processed)\n",
    "        inputs_trunc.append(processed[:LEN_TRUNCATED])\n",
    "        codes.sort()\n",
    "        label_codes.append(codes)\n",
    "        labs = [0] * len(topics)\n",
    "        i = -1\n",
    "        for code in codes:\n",
    "            for j in range(i + 1, len(topics)):\n",
    "                if code == topics[j]:\n",
    "                    labs[j] = 1\n",
    "                    i = j\n",
    "                    break\n",
    "        labels.append(labs)\n"
   ]
  },
  {
   "cell_type": "code",
   "execution_count": 42,
   "metadata": {},
   "outputs": [],
   "source": [
    "inputs_df = pd.DataFrame(list(zip(itemids, inputs, labels, label_codes)))\n",
    "inputs_df.columns = ['id', 'text', 'target', 'codes']\n",
    "inputs_df.to_csv(f'reuters-csv/{\"test\" if TESTING else \"inputs\"}.csv', index = False, sep = ';')\n",
    "inputs_trunc_df = pd.DataFrame(list(zip(itemids, inputs_trunc, labels, label_codes)))\n",
    "inputs_trunc_df.columns = ['id', 'text', 'target', 'codes']\n",
    "inputs_trunc_df.to_csv(f'reuters-csv/{\"test\" if TESTING else \"inputs\"}_trunc.csv', index = False, sep = ';')\n",
    "topics_df = pd.DataFrame(list(zip(topics, topic_names)))\n",
    "topics_df.columns = ['CODE', 'DESCRIPTION']\n",
    "topics_df.to_csv('reuters-csv/topic_codes.txt', index = False, sep = '\\t')\n"
   ]
  },
  {
   "cell_type": "code",
   "execution_count": null,
   "metadata": {},
   "outputs": [],
   "source": []
  }
 ],
 "metadata": {
  "kernelspec": {
   "display_name": "Python 3",
   "language": "python",
   "name": "python3"
  },
  "language_info": {
   "codemirror_mode": {
    "name": "ipython",
    "version": 3
   },
   "file_extension": ".py",
   "mimetype": "text/x-python",
   "name": "python",
   "nbconvert_exporter": "python",
   "pygments_lexer": "ipython3",
   "version": "3.7.6-final"
  }
 },
 "nbformat": 4,
 "nbformat_minor": 2
}