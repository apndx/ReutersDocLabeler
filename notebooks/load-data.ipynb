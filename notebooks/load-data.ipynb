{
 "metadata": {
  "language_info": {
   "codemirror_mode": {
    "name": "ipython",
    "version": 3
   },
   "file_extension": ".py",
   "mimetype": "text/x-python",
   "name": "python",
   "nbconvert_exporter": "python",
   "pygments_lexer": "ipython3",
   "version": "3.7.6-final"
  },
  "orig_nbformat": 2,
  "kernelspec": {
   "name": "python3",
   "display_name": "Python 3.7.6 64-bit ('base': conda)",
   "metadata": {
    "interpreter": {
     "hash": "ea93898cf66e1bdbbeaab0904813202b6ade997cfd150168749c30579e466278"
    }
   }
  }
 },
 "nbformat": 4,
 "nbformat_minor": 2,
 "cells": [
  {
   "cell_type": "code",
   "execution_count": 16,
   "metadata": {},
   "outputs": [],
   "source": [
    "import os\n",
    "import zipfile\n",
    "import xml.etree.ElementTree as ET\n",
    "import re"
   ]
  },
  {
   "cell_type": "code",
   "execution_count": 17,
   "metadata": {},
   "outputs": [],
   "source": [
    "# Some constants and variables and stuff\n",
    "SOURCE_DIR = 'REUTERS_CORPUS_2' # Name of the dir for the source files\n",
    "zipdir = './' + SOURCE_DIR\n",
    "zipfiles = []        # This collects the names of the zip files to be extracted (the actual news files)\n",
    "\n",
    "topics = []          # This holds a list of the topic codes\n",
    "topic_names = []     # This holds a list of the topic names\n",
    "                     # topics and topic_names use the same indexing\n",
    "\n",
    "inputs = []          # This holds a list of the inputs (headline + text)\n",
    "labels = []          # This holds a list of the input labels in 'many-hot' notation e.g. [0, 1, 0, 0, 1, 1, ...]\n",
    "label_codes = []     # This holds a list of lists of the inputs topic codes e.g. [['C11'], ['6INS', 'C17'], ...]\n",
    "                     # inputs, labels and label_codes all use the same indexing\n",
    "\n",
    "USE_TRUNCATED = True # Use True for development to cut the input text short, False for full data\n",
    "LEN_TRUNCATED = 256  # Length of trucated input text if truncated\n",
    "\n",
    "WS_REMOVAL = re.compile(r\"\\s+\")"
   ]
  },
  {
   "cell_type": "code",
   "execution_count": 18,
   "metadata": {},
   "outputs": [],
   "source": [
    "# Read topics into a list of topic codes and a list of topic names\n",
    "zipc = zipfile.ZipFile(zipdir + '/codes.zip', 'r')\n",
    "c = zipc.open('topic_codes.txt')\n",
    "strc = c.read().decode('utf-8')\n",
    "strarr = strc.split('\\n')\n",
    "for t in strarr:\n",
    "    if len(t) > 0 and t[0] != ';': # Discard header rows\n",
    "        topic = t.split('\\t')\n",
    "        topics.append(topic[0])\n",
    "        topic_names.append(topic[1])"
   ]
  },
  {
   "cell_type": "code",
   "execution_count": 19,
   "metadata": {
    "tags": []
   },
   "outputs": [],
   "source": [
    "# Make a list of data zip-files in source directory\n",
    "for root, dirs, files in os.walk(zipdir):\n",
    "    for file in files:\n",
    "        if file.startswith('1997') and file.endswith('.zip'):\n",
    "            zipfiles.append(file)"
   ]
  },
  {
   "cell_type": "code",
   "execution_count": 20,
   "metadata": {
    "tags": []
   },
   "outputs": [],
   "source": [
    "# Then extract content\n",
    "for zipf in zipfiles:\n",
    "    zipd = zipfile.ZipFile(zipdir + '/' + zipf, 'r')\n",
    "    for fname in zipd.namelist():\n",
    "        f = zipd.open(fname)\n",
    "        xmlroot = ET.fromstring(f.read())\n",
    "        headline = ''\n",
    "        text = ''\n",
    "        codes = []\n",
    "        for level1 in xmlroot:\n",
    "            if level1.tag == 'headline':\n",
    "                headline = (level1.text if level1.text is not None else '')\n",
    "            if level1.tag == 'text':\n",
    "                for level2 in level1:\n",
    "                    text += (level2.text if level2.text is not None else '') + ' '\n",
    "            if level1.tag == 'metadata':\n",
    "                for level2 in level1:\n",
    "                    if level2.tag == 'codes' and level2.attrib.get('class') == 'bip:topics:1.0':\n",
    "                        for level3 in level2:\n",
    "                            codes.append(level3.attrib.get('code'))\n",
    "        inp = WS_REMOVAL.sub(' ', (headline + ' ' + text)).strip()\n",
    "        if USE_TRUNCATED:\n",
    "            inputs.append(inp[:LEN_TRUNCATED])\n",
    "        else:\n",
    "            inputs.append(inp)\n",
    "        codes.sort()\n",
    "        label_codes.append(codes)\n",
    "        labs = [0] * len(topics)\n",
    "        i = -1\n",
    "        for code in codes:\n",
    "            for j in range(i + 1, len(topics)):\n",
    "                if code == topics[j]:\n",
    "                    labs[j] = 1\n",
    "                    i = j\n",
    "                    break\n",
    "        labels.append(labs)\n"
   ]
  },
  {
   "cell_type": "code",
   "execution_count": 21,
   "metadata": {},
   "outputs": [
    {
     "output_type": "stream",
     "name": "stdout",
     "text": [
      "[0, 0, 0, 0, 0, 0, 0, 0, 0, 0, 0, 0, 0, 0, 0, 0, 0, 0, 0, 0, 0, 0, 0, 0, 0, 0, 0, 0, 0, 0, 0, 0, 0, 0, 0, 0, 0, 0, 0, 0, 0, 0, 0, 0, 0, 0, 0, 0, 0, 0, 0, 0, 0, 0, 0, 0, 0, 0, 0, 0, 0, 0, 0, 0, 0, 0, 0, 0, 0, 0, 0, 0, 0, 0, 0, 0, 0, 0, 0, 0, 1, 0, 0, 0, 0, 0, 0, 0, 0, 0, 1, 0, 0, 0, 0, 0, 0, 0, 0, 0, 0, 0, 0, 0, 0, 0, 0, 0, 0, 0, 0, 0, 0, 0, 0, 0, 0, 0, 0, 0, 0, 0, 0, 0, 0, 0]\n['G15', 'GCAT']\nOFFICIAL JOURNAL CONTENTS - OJ C 126 OF APRIL 23, 1997. * (Note - contents are displayed in reverse order to that in the printed Journal) * Notice of a standing call for awarding contracts for distilling operations in respect of apples withdrawn from the m\n80 G15\n90 GCAT\n[0, 0, 0, 0, 0, 0, 0, 0, 0, 0, 0, 0, 0, 0, 0, 0, 0, 0, 0, 0, 0, 0, 0, 0, 0, 0, 0, 0, 0, 0, 0, 0, 0, 0, 0, 0, 0, 0, 0, 0, 0, 0, 0, 0, 0, 0, 0, 0, 0, 0, 0, 0, 0, 0, 0, 0, 0, 0, 0, 0, 0, 0, 0, 0, 0, 0, 0, 0, 0, 0, 0, 0, 0, 0, 0, 0, 0, 0, 0, 0, 1, 0, 0, 0, 0, 0, 0, 0, 0, 0, 1, 0, 0, 0, 0, 0, 0, 0, 0, 0, 0, 0, 0, 0, 0, 0, 0, 0, 0, 0, 0, 0, 0, 0, 0, 0, 0, 0, 0, 0, 0, 0, 0, 0, 0, 0]\n['G15', 'GCAT']\nOFFICIAL JOURNAL CONTENTS - OJ L 105 OF APRIL 23, 1997. * (Note - contents are displayed in reverse order to that in the printed Journal) * COUNCIL DECISION of 13 March 1997 concerning the conclusion of the Agreement on customs cooperation in the form of a\n80 G15\n90 GCAT\n[0, 0, 0, 0, 0, 0, 0, 0, 0, 0, 0, 0, 0, 0, 0, 0, 0, 0, 0, 0, 0, 0, 0, 0, 0, 0, 0, 0, 0, 0, 0, 0, 0, 0, 0, 0, 0, 0, 0, 0, 0, 0, 0, 0, 0, 1, 1, 0, 0, 0, 0, 0, 0, 0, 0, 0, 0, 0, 0, 0, 0, 0, 0, 0, 0, 0, 0, 0, 0, 0, 1, 0, 0, 0, 0, 0, 0, 0, 0, 0, 0, 0, 0, 0, 0, 0, 0, 0, 0, 0, 0, 0, 0, 0, 0, 0, 0, 0, 0, 0, 0, 0, 0, 0, 0, 0, 0, 0, 0, 0, 0, 0, 0, 0, 0, 0, 0, 0, 0, 0, 0, 0, 0, 0, 0, 0]\n['E11', 'E12', 'ECAT']\nIMF says global expansion should continue. Alver Carlson The global economy should enjoy its fastest growth in nearly a decade this year and shows little indication of heading for trouble, the International Monetary Fund said Wednesday. \"There are few sign\n45 E11\n46 E12\n70 ECAT\n[0, 0, 0, 0, 0, 0, 0, 0, 0, 0, 0, 0, 0, 0, 0, 1, 0, 0, 1, 0, 0, 0, 0, 0, 0, 0, 0, 0, 0, 0, 0, 0, 0, 0, 0, 0, 0, 0, 0, 0, 0, 0, 0, 0, 1, 0, 0, 0, 0, 0, 0, 0, 0, 0, 0, 0, 0, 0, 0, 0, 0, 0, 0, 0, 0, 0, 0, 0, 0, 0, 0, 0, 0, 0, 0, 0, 0, 0, 0, 0, 0, 0, 0, 0, 0, 0, 0, 0, 0, 0, 0, 0, 0, 0, 0, 0, 0, 0, 0, 0, 0, 0, 0, 0, 0, 0, 0, 0, 0, 0, 0, 0, 0, 0, 0, 0, 0, 0, 0, 0, 0, 0, 0, 0, 0, 0]\n['C15', 'C152', 'CCAT']\nStandex sees flat Q4 profit, yr below views. Standex International Corp said on Wednesday that it expects that its fourth quarter profit levels will be similar to the $0.49 a share reported in the year ago quarter. Standex's results for the year ended June\n15 C15\n18 C152\n44 CCAT\n[0, 0, 0, 0, 0, 0, 0, 0, 0, 0, 0, 0, 0, 0, 0, 0, 0, 0, 0, 0, 1, 1, 0, 0, 0, 1, 1, 0, 0, 0, 0, 0, 0, 0, 0, 0, 0, 0, 0, 0, 0, 0, 0, 0, 1, 0, 0, 0, 0, 0, 0, 0, 0, 0, 0, 0, 0, 0, 0, 0, 0, 0, 0, 0, 0, 0, 0, 0, 0, 0, 0, 0, 0, 0, 0, 0, 0, 0, 0, 0, 0, 0, 0, 0, 0, 0, 0, 0, 0, 0, 0, 0, 0, 0, 0, 0, 0, 0, 0, 0, 0, 0, 0, 0, 0, 0, 0, 0, 0, 0, 0, 0, 0, 0, 0, 0, 0, 0, 0, 0, 0, 0, 0, 0, 0, 0]\n['C17', 'C171', 'C18', 'C181', 'CCAT']\nPlanar Systems sets share buyback. Planar Systems Inc said it plans to repurchase up to 400,000 shares of its currently outstanding common stock.\n20 C17\n21 C171\n25 C18\n26 C181\n44 CCAT\n[0, 0, 0, 0, 0, 0, 0, 0, 0, 0, 0, 0, 0, 0, 0, 0, 0, 0, 0, 0, 0, 0, 0, 0, 0, 1, 1, 0, 0, 0, 0, 0, 0, 0, 0, 0, 0, 0, 0, 0, 0, 0, 0, 0, 1, 0, 0, 0, 0, 0, 0, 0, 0, 0, 0, 0, 0, 0, 0, 0, 0, 0, 0, 0, 0, 0, 0, 0, 0, 0, 0, 0, 0, 0, 0, 0, 0, 0, 0, 0, 0, 0, 0, 0, 0, 0, 0, 0, 0, 0, 0, 0, 0, 0, 0, 0, 0, 0, 0, 0, 0, 0, 0, 0, 0, 0, 0, 0, 0, 0, 0, 0, 0, 0, 0, 0, 0, 0, 0, 0, 0, 0, 0, 0, 0, 0]\n['C18', 'C181', 'CCAT']\nNorfolk Southern revises Conrail projections. Norfolk Southern Corp on Wednesday revised financial projections for its planned partial purchase of Conrail Inc, saying earnings dilution in 1997 and 1998 will be less than previously expected. In a quarterly \n25 C18\n26 C181\n44 CCAT\n[0, 0, 0, 0, 0, 0, 0, 0, 0, 0, 0, 0, 0, 0, 0, 1, 1, 0, 0, 0, 0, 0, 0, 0, 0, 0, 0, 0, 0, 0, 0, 0, 0, 0, 0, 0, 0, 0, 0, 0, 0, 0, 0, 0, 1, 0, 0, 0, 0, 0, 0, 0, 0, 0, 0, 0, 0, 0, 0, 0, 0, 0, 0, 0, 0, 0, 0, 0, 0, 0, 0, 0, 0, 0, 0, 0, 0, 0, 0, 0, 0, 0, 0, 0, 0, 0, 0, 0, 0, 0, 0, 0, 0, 0, 0, 0, 0, 0, 0, 0, 0, 0, 0, 0, 0, 0, 0, 0, 0, 0, 0, 0, 0, 0, 0, 0, 0, 0, 0, 0, 0, 0, 0, 0, 0, 0]\n['C15', 'C151', 'CCAT']\nWalt Disney Co Q2 March 31 EPS $0.49. FOR THE QUARTER ENDED MARCH 31 (Unaudited; in millions, except per share data) 1996 1996 1997 (Pro Forma) (As Reported) REVENUES $5,481 $4,986 $4,543 COSTS AND EXPENSES (4,617) (4,333) (3,887) ACCOUNTING CHANGE --- (30\n15 C15\n16 C151\n44 CCAT\n[0, 0, 0, 0, 0, 0, 0, 0, 0, 0, 0, 0, 0, 0, 0, 0, 0, 0, 0, 0, 0, 0, 0, 0, 0, 0, 0, 0, 0, 0, 0, 0, 0, 0, 0, 0, 0, 0, 0, 0, 0, 0, 0, 0, 0, 0, 0, 0, 0, 0, 0, 0, 0, 0, 0, 0, 0, 0, 0, 0, 0, 0, 0, 0, 0, 0, 0, 0, 0, 0, 0, 0, 0, 0, 0, 0, 0, 0, 0, 0, 0, 0, 0, 0, 0, 0, 0, 0, 0, 0, 0, 0, 0, 0, 0, 0, 0, 0, 0, 0, 0, 0, 0, 0, 0, 0, 0, 0, 0, 0, 0, 0, 0, 0, 1, 0, 0, 0, 0, 0, 0, 0, 0, 1, 0, 0]\n['M11', 'MCAT']\nToronto stocks end higher after quiet session. CHANGE CHANGE TSE(CLS) 5874.13 +18.76 HI 5881.73 LO 5860.07 DJI(CLS) 6812.72 -20.87 GOLD (LONDON) US$341.00 -0.60 FTSE100 4387.70 +41.60 GOLD (NY-COMEX) US$341.00 -0.60 NIKKEI 18735.47 +191.02 LME CASH NICKEL \n114 M11\n123 MCAT\n[0, 0, 0, 0, 0, 0, 0, 0, 0, 0, 0, 0, 0, 0, 0, 0, 0, 0, 0, 0, 0, 0, 0, 0, 0, 0, 0, 0, 0, 0, 0, 0, 0, 0, 0, 0, 0, 0, 0, 0, 0, 0, 0, 0, 0, 0, 0, 0, 0, 0, 0, 0, 0, 0, 0, 0, 0, 0, 0, 0, 0, 0, 0, 0, 0, 0, 0, 0, 0, 1, 1, 0, 0, 0, 0, 0, 0, 0, 0, 0, 0, 0, 0, 0, 0, 0, 0, 0, 0, 0, 0, 0, 0, 0, 0, 0, 0, 0, 0, 0, 0, 0, 0, 0, 0, 0, 0, 0, 0, 0, 0, 0, 0, 0, 0, 0, 0, 0, 0, 0, 0, 0, 0, 0, 0, 0]\n['E71', 'ECAT']\nCanadian key economic indicators. INDICATOR PERIOD LATEST PREV1 PREV2 NEXT UNEMPLOYMENT PCT Mar 9.3 9.7 9.7 05/09 EMPLOYMENT GROWTH THD Mar +61 -18 +5 05/09 CPI (MONTHLY, S/ADJ) PCT Mar +0.1 +0.1 +0.1 05/15 CPI (MONTHLY, UNADJ) PCT Feb 0.2 0.1 0.2 05/15 CP\n69 E71\n70 ECAT\n[0, 0, 0, 0, 0, 0, 0, 0, 0, 0, 0, 0, 0, 0, 0, 0, 0, 0, 0, 0, 0, 0, 0, 0, 0, 0, 0, 0, 0, 0, 0, 0, 0, 0, 0, 0, 0, 0, 0, 0, 0, 0, 0, 0, 0, 0, 1, 0, 0, 0, 0, 0, 0, 0, 0, 0, 0, 0, 0, 0, 0, 0, 0, 0, 0, 0, 0, 0, 0, 0, 1, 0, 0, 0, 0, 0, 0, 0, 0, 0, 0, 0, 0, 0, 0, 0, 0, 0, 0, 0, 0, 0, 0, 0, 0, 0, 0, 0, 0, 0, 0, 0, 0, 0, 0, 0, 0, 0, 0, 0, 0, 0, 0, 0, 0, 0, 0, 0, 0, 0, 0, 0, 0, 0, 0, 0]\n['E12', 'ECAT']\nBOC head says no central bank likes weak currency. Bank of Canada Governor Gordon Thiessen said on Wednesday that no central bank liked to have a weak currency because it indicated weakness in the underlying economy. \"I don't think any central bank ever li\n46 E12\n70 ECAT\n"
     ]
    }
   ],
   "source": [
    "for t in range(0, 10):\n",
    "    print(labels[t])\n",
    "    print(label_codes[t])\n",
    "    print(inputs[t])\n",
    "    for i, val in enumerate(labels[t]):\n",
    "        if val == 1:\n",
    "            print(i, topics[i])\n",
    "\n"
   ]
  },
  {
   "cell_type": "code",
   "execution_count": null,
   "metadata": {},
   "outputs": [],
   "source": []
  }
 ]
}