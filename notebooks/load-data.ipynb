{
 "cells": [
  {
   "cell_type": "markdown",
   "metadata": {},
   "source": [
    "## Loading and parsing the data from zipped xml files\n",
    "\n",
    "We create two sets of the input data. One with the full length headline + text `inputs.csv` and one with a truncated length headline + text `inputs_trunc` into the folder `reuters-csv`. In addition we write the topic codes to `topic_codes.txt` in the same folder.\n",
    "\n",
    "Multiple whitespace characters are removed from the output.\n"
   ]
  },
  {
   "cell_type": "code",
<<<<<<< Updated upstream
   "execution_count": 1,
=======
   "execution_count": 44,
>>>>>>> Stashed changes
   "metadata": {},
   "outputs": [],
   "source": [
    "import os\n",
    "import zipfile\n",
    "import xml.etree.ElementTree as ET\n",
    "import re\n",
    "import pandas as pd"
   ]
  },
  {
   "cell_type": "code",
<<<<<<< Updated upstream
   "execution_count": 2,
=======
   "execution_count": 45,
>>>>>>> Stashed changes
   "metadata": {},
   "outputs": [],
   "source": [
    "# Some constants and variables and stuff\n",
    "SOURCE_DIR = 'REUTERS_CORPUS_2' # Name of the dir for the source files\n",
    "zipdir = './' + SOURCE_DIR\n",
    "zipfiles = []        # This collects the names of the zip files to be extracted (the actual news files)\n",
    "\n",
    "topics = []          # This holds a list of the topic codes\n",
    "topic_names = []     # This holds a list of the topic names\n",
    "                     # topics and topic_names use the same indexing\n",
    "\n",
    "inputs = []          # This holds a list of the inputs (headline + text)\n",
    "inputs_trunc = []    # This holds a list of truncated inputs (headline + text)\n",
    "labels = []          # This holds a list of the input labels in 'many-hot' notation e.g. [0, 1, 0, 0, 1, 1, ...]\n",
    "label_codes = []     # This holds a list of lists of the inputs topic codes e.g. [['C11'], ['6INS', 'C17'], ...]\n",
    "                     # inputs, labels and label_codes all use the same indexing\n",
    "\n",
    "LEN_TRUNCATED = 256  # Length of trucated input text\n",
    "\n",
    "WS_REMOVAL = re.compile(r\"\\s+\")"
   ]
  },
  {
   "cell_type": "code",
<<<<<<< Updated upstream
   "execution_count": 3,
=======
   "execution_count": 46,
>>>>>>> Stashed changes
   "metadata": {},
   "outputs": [],
   "source": [
    "# Read topics into a list of topic codes and a list of topic names\n",
    "zipc = zipfile.ZipFile(zipdir + '/codes.zip', 'r')\n",
    "c = zipc.open('topic_codes.txt')\n",
    "strc = c.read().decode('utf-8')\n",
    "strarr = strc.split('\\n')\n",
    "for t in strarr:\n",
    "    if len(t) > 0 and t[0] != ';': # Discard header rows\n",
    "        topic = t.split('\\t')\n",
    "        topics.append(topic[0])\n",
    "        topic_names.append(topic[1])"
   ]
  },
  {
   "cell_type": "code",
<<<<<<< Updated upstream
   "execution_count": 4,
=======
   "execution_count": 47,
>>>>>>> Stashed changes
   "metadata": {
    "tags": []
   },
   "outputs": [],
   "source": [
    "# Make a list of data zip-files in source directory\n",
    "for root, dirs, files in os.walk(zipdir):\n",
    "    for file in files:\n",
    "        if file.startswith('1997') and file.endswith('.zip'):\n",
    "            zipfiles.append(file)"
   ]
  },
  {
   "cell_type": "code",
<<<<<<< Updated upstream
   "execution_count": 5,
=======
   "execution_count": 48,
>>>>>>> Stashed changes
   "metadata": {
    "tags": []
   },
   "outputs": [],
   "source": [
    "# Then extract content\n",
    "for zipf in zipfiles:\n",
    "    zipd = zipfile.ZipFile(zipdir + '/' + zipf, 'r')\n",
    "    for fname in zipd.namelist():\n",
    "        f = zipd.open(fname)\n",
    "        xmlroot = ET.fromstring(f.read())\n",
    "        headline = ''\n",
    "        text = ''\n",
    "        codes = []\n",
    "        for level1 in xmlroot:\n",
    "            if level1.tag == 'headline':\n",
    "                headline = (level1.text if level1.text is not None else '').lower()\n",
    "            if level1.tag == 'text':\n",
    "                for level2 in level1:\n",
    "                    text += (level2.text if level2.text is not None else '').lower() + ' '\n",
    "            if level1.tag == 'metadata':\n",
    "                for level2 in level1:\n",
    "                    if level2.tag == 'codes' and level2.attrib.get('class') == 'bip:topics:1.0':\n",
    "                        for level3 in level2:\n",
    "                            codes.append(level3.attrib.get('code'))\n",
    "        inp = WS_REMOVAL.sub(' ', (headline + ' ' + text)).strip()\n",
    "        inputs.append(inp)\n",
    "        inputs_trunc.append(inp[:LEN_TRUNCATED])\n",
    "        codes.sort()\n",
    "        label_codes.append(codes)\n",
    "        labs = [0] * len(topics)\n",
    "        i = -1\n",
    "        for code in codes:\n",
    "            for j in range(i + 1, len(topics)):\n",
    "                if code == topics[j]:\n",
    "                    labs[j] = 1\n",
    "                    i = j\n",
    "                    break\n",
    "        labels.append(labs)\n"
   ]
  },
  {
   "cell_type": "code",
<<<<<<< Updated upstream
   "execution_count": 6,
=======
   "execution_count": 49,
>>>>>>> Stashed changes
   "metadata": {},
   "outputs": [],
   "source": [
    "inputs_df = pd.DataFrame(list(zip(inputs, labels, label_codes)))\n",
    "inputs_df.columns = ['text', 'target', 'codes']\n",
    "inputs_df.to_csv('reuters-csv/inputs.csv', index = False, sep = ';')\n",
    "inputs_trunc_df = pd.DataFrame(list(zip(inputs_trunc, labels, label_codes)))\n",
    "inputs_trunc_df.columns = ['text', 'target', 'codes']\n",
    "inputs_trunc_df.to_csv('reuters-csv/inputs_trunc.csv', index = False, sep = ';')\n",
    "topics_df = pd.DataFrame(list(zip(topics, topic_names)))\n",
    "topics_df.columns = ['CODE', 'DESCRIPTION']\n",
    "topics_df.to_csv('reuters-csv/topic_codes.txt', index = False, sep = '\\t')\n"
   ]
  },
  {
   "cell_type": "code",
   "execution_count": null,
   "metadata": {},
   "outputs": [],
   "source": []
  }
 ],
 "metadata": {
  "kernelspec": {
   "display_name": "Python 3",
   "language": "python",
   "name": "python3"
  },
  "language_info": {
   "codemirror_mode": {
    "name": "ipython",
    "version": 3
   },
   "file_extension": ".py",
   "mimetype": "text/x-python",
   "name": "python",
   "nbconvert_exporter": "python",
   "pygments_lexer": "ipython3",
   "version": "3.7.6"
  }
 },
 "nbformat": 4,
 "nbformat_minor": 2
}
